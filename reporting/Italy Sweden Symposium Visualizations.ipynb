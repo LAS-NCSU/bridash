{
 "cells": [
  {
   "cell_type": "markdown",
   "metadata": {},
   "source": [
    "## Serena and Kat Visualization Support "
   ]
  },
  {
   "cell_type": "code",
   "execution_count": 1,
   "metadata": {},
   "outputs": [],
   "source": [
    "import pandas as pd\n",
    "import numpy as np\n",
    "\n",
    "import matplotlib.pyplot as plt"
   ]
  },
  {
   "cell_type": "code",
   "execution_count": 77,
   "metadata": {},
   "outputs": [
    {
     "name": "stderr",
     "output_type": "stream",
     "text": [
      "/Users/natalie_kraft/anaconda3/lib/python3.8/site-packages/IPython/core/interactiveshell.py:3071: DtypeWarning: Columns (9,16,17,18,19,20,25,26,27,28,49,50,51,52,56,57,133,134,135,154,155,156,157,164,167,168,169,170,171,172,173,174,175,176,177,178,179,180,181,182,183,184,189,190,191,192,193,194,199,200,201,202,203,210,211,212,213,215,217,218,219,221,243,244,245,250,260,261,262,263,264,273,288,289,294,296,302,304,327,331,334,335,336,337,338,339,340,341,342,345,348,352,359,361,382,386,387,389,395,397,416,423,458,467,468,475,478,479,481,487,489,506,510,511,515,521,522,523,524,525,527,528,529,540,541,542,546,547,548,594,595,596,604,605,606) have mixed types.Specify dtype option on import or set low_memory=False.\n",
      "  has_raised = await self.run_ast_nodes(code_ast.body, cell_name,\n",
      "/Users/natalie_kraft/anaconda3/lib/python3.8/site-packages/IPython/core/interactiveshell.py:3071: DtypeWarning: Columns (20,21,188) have mixed types.Specify dtype option on import or set low_memory=False.\n",
      "  has_raised = await self.run_ast_nodes(code_ast.body, cell_name,\n",
      "/Users/natalie_kraft/anaconda3/lib/python3.8/site-packages/IPython/core/interactiveshell.py:3071: DtypeWarning: Columns (4,6,7,8,9,10,13,15,16,17,18,19,21,22,23,24,25,26,27,28,29,32,40,41,42,43,44,45,52,53,54,55,62,63,64,65,66,67,68,69,73,75,76,77,78,79,80,81,82,83,85,86,87,88,89,90,91,92,93,94,95,96,97,98,99,100,101,102,103,104,105,106,107,108,109,110,111,112,113,114,115,116,117,118,119,120,121,122,123,124,125,126,127,128,129,130,131,132,133,134,135,141,142,143,144,145,146,147,148,149,150,151,152,153,154,155,156,157,158,159,160,161,162,163,164,165,166,167,168,169,170,171,172,225,226,227,228,229,233,248,249,250,254,256,257,258,259,260,261,262,263,264,265,299,300,301,302,303,304,311,315,316,317,318,319,320,321,322,323,324,325,326,327,328,329,330,334,335,336,337,338,339,340,341,342,343,344,345,355,356,364,365,375,377,388,389,399,400,401,402,404,471,473,474,479,496,504,507,508,509,510,511,512,515,532,540,541,542,543,544,545,557,565,566,571,572,575,580,587,590,592,595,600) have mixed types.Specify dtype option on import or set low_memory=False.\n",
      "  has_raised = await self.run_ast_nodes(code_ast.body, cell_name,\n",
      "/Users/natalie_kraft/anaconda3/lib/python3.8/site-packages/IPython/core/interactiveshell.py:3071: DtypeWarning: Columns (3,6,8,9,17,18,19,20,21,24,26,27,30,31,32,33,34,37,38,44,47,49,50,51,54,55,58,59,61,62,63,71,80,81,82,83,84,85,86,89,90,91,92,93,94,95,96,105,106,108,116,117,118,122,123,124,125,126,127,128,129,130,131,132,133,134,135,136,137,138,139,140,141,142,143,144,158,160,162,163,164,166,167,168,169,170,171,172,173,174,175,184,185,186,187,188,189,190,191,192,193,194,195,196,197,198,199,200,201,223,238,245,294,305,306,307,308,309,310,311,324,326,327,328,329,330,331,332,333,334,335,336,337,338,339,340,341,342,343,344,345,346,347,348,349,350,351,352,353,354,355,426,427,428,429,430,431,455,457,458,459,460,461,462,463,470,479,484,508,512,513,530,541,589,607,614,616,617,631,635,659,661,662,667,669,672,686,691,715,737,738,739,740,756,757,758,824,825,838,843,866,882,883,892) have mixed types.Specify dtype option on import or set low_memory=False.\n",
      "  has_raised = await self.run_ast_nodes(code_ast.body, cell_name,\n"
     ]
    }
   ],
   "source": [
    "l = pd.read_csv(r'/Users/natalie_kraft/Documents/LAS/PewData/Pew2019.csv')\n",
    "\n",
    "d20 = pd.read_csv(r'/Users/natalie_kraft/Documents/LAS/PewData/Pew2020.csv')\n",
    "\n",
    "d16 = pd.read_csv(r'/Users/natalie_kraft/Documents/LAS/PewData/Pew2016.csv')\n",
    "d15 = pd.read_csv(r'/Users/natalie_kraft/Documents/LAS/PewData/Pew2015.csv')"
   ]
  },
  {
   "cell_type": "markdown",
   "metadata": {},
   "source": [
    "## 2020 "
   ]
  },
  {
   "cell_type": "code",
   "execution_count": 3,
   "metadata": {},
   "outputs": [
    {
     "name": "stderr",
     "output_type": "stream",
     "text": [
      "<ipython-input-3-e35be5ad5041>:22: SettingWithCopyWarning: \n",
      "A value is trying to be set on a copy of a slice from a DataFrame.\n",
      "Try using .loc[row_indexer,col_indexer] = value instead\n",
      "\n",
      "See the caveats in the documentation: https://pandas.pydata.org/pandas-docs/stable/user_guide/indexing.html#returning-a-view-versus-a-copy\n",
      "  d20['country'] = d20['country'].map(countrymap)\n"
     ]
    }
   ],
   "source": [
    "# 7 for 2020 = Italy, 12 for Sweden, 14 for US\n",
    "responseFlip = {\n",
    "    1:4, \n",
    "    2:3, \n",
    "    3:2, \n",
    "    4:1\n",
    "}\n",
    "\n",
    "d20['fav_US'] = d20['fav_US'].map(responseFlip)\n",
    "d20['fav_China'] = d20['fav_China'].map(responseFlip)\n",
    "d20['fav_Russia'] = d20['fav_Russia'].map(responseFlip)\n",
    "\n",
    "d20All = d20\n",
    "d20 = d20.loc[(d20['country'] == 7) | (d20['country'] == 12) | (d20['country'] == 14)]\n",
    "\n",
    "countrymap = {\n",
    "    7:'Italy', \n",
    "    12:'Sweden', \n",
    "    14:'US'\n",
    "}\n",
    "\n",
    "d20['country'] = d20['country'].map(countrymap)"
   ]
  },
  {
   "cell_type": "code",
   "execution_count": 4,
   "metadata": {},
   "outputs": [
    {
     "data": {
      "text/html": [
       "<div>\n",
       "<style scoped>\n",
       "    .dataframe tbody tr th:only-of-type {\n",
       "        vertical-align: middle;\n",
       "    }\n",
       "\n",
       "    .dataframe tbody tr th {\n",
       "        vertical-align: top;\n",
       "    }\n",
       "\n",
       "    .dataframe thead tr th {\n",
       "        text-align: left;\n",
       "    }\n",
       "\n",
       "    .dataframe thead tr:last-of-type th {\n",
       "        text-align: right;\n",
       "    }\n",
       "</style>\n",
       "<table border=\"1\" class=\"dataframe\">\n",
       "  <thead>\n",
       "    <tr>\n",
       "      <th></th>\n",
       "      <th>fav_US</th>\n",
       "      <th>fav_China</th>\n",
       "      <th>fav_Russia</th>\n",
       "    </tr>\n",
       "    <tr>\n",
       "      <th></th>\n",
       "      <th>mean</th>\n",
       "      <th>mean</th>\n",
       "      <th>mean</th>\n",
       "    </tr>\n",
       "    <tr>\n",
       "      <th>country</th>\n",
       "      <th></th>\n",
       "      <th></th>\n",
       "      <th></th>\n",
       "    </tr>\n",
       "  </thead>\n",
       "  <tbody>\n",
       "    <tr>\n",
       "      <th>Italy</th>\n",
       "      <td>2.235887</td>\n",
       "      <td>2.153924</td>\n",
       "      <td>2.303462</td>\n",
       "    </tr>\n",
       "    <tr>\n",
       "      <th>Sweden</th>\n",
       "      <td>2.207035</td>\n",
       "      <td>1.772407</td>\n",
       "      <td>1.814257</td>\n",
       "    </tr>\n",
       "    <tr>\n",
       "      <th>US</th>\n",
       "      <td>3.167004</td>\n",
       "      <td>1.770921</td>\n",
       "      <td>1.747562</td>\n",
       "    </tr>\n",
       "  </tbody>\n",
       "</table>\n",
       "</div>"
      ],
      "text/plain": [
       "           fav_US fav_China fav_Russia\n",
       "             mean      mean       mean\n",
       "country                               \n",
       "Italy    2.235887  2.153924   2.303462\n",
       "Sweden   2.207035  1.772407   1.814257\n",
       "US       3.167004  1.770921   1.747562"
      ]
     },
     "execution_count": 4,
     "metadata": {},
     "output_type": "execute_result"
    }
   ],
   "source": [
    "d20.groupby('country')[['fav_US', 'fav_China', 'fav_Russia']].agg(['mean'])"
   ]
  },
  {
   "cell_type": "code",
   "execution_count": null,
   "metadata": {},
   "outputs": [],
   "source": []
  },
  {
   "cell_type": "code",
   "execution_count": 5,
   "metadata": {},
   "outputs": [
    {
     "ename": "KeyError",
     "evalue": "'fav_China'",
     "output_type": "error",
     "traceback": [
      "\u001b[0;31m---------------------------------------------------------------------------\u001b[0m",
      "\u001b[0;31mKeyError\u001b[0m                                  Traceback (most recent call last)",
      "\u001b[0;32m~/anaconda3/lib/python3.8/site-packages/pandas/core/indexes/base.py\u001b[0m in \u001b[0;36mget_loc\u001b[0;34m(self, key, method, tolerance)\u001b[0m\n\u001b[1;32m   2645\u001b[0m             \u001b[0;32mtry\u001b[0m\u001b[0;34m:\u001b[0m\u001b[0;34m\u001b[0m\u001b[0;34m\u001b[0m\u001b[0m\n\u001b[0;32m-> 2646\u001b[0;31m                 \u001b[0;32mreturn\u001b[0m \u001b[0mself\u001b[0m\u001b[0;34m.\u001b[0m\u001b[0m_engine\u001b[0m\u001b[0;34m.\u001b[0m\u001b[0mget_loc\u001b[0m\u001b[0;34m(\u001b[0m\u001b[0mkey\u001b[0m\u001b[0;34m)\u001b[0m\u001b[0;34m\u001b[0m\u001b[0;34m\u001b[0m\u001b[0m\n\u001b[0m\u001b[1;32m   2647\u001b[0m             \u001b[0;32mexcept\u001b[0m \u001b[0mKeyError\u001b[0m\u001b[0;34m:\u001b[0m\u001b[0;34m\u001b[0m\u001b[0;34m\u001b[0m\u001b[0m\n",
      "\u001b[0;32mpandas/_libs/index.pyx\u001b[0m in \u001b[0;36mpandas._libs.index.IndexEngine.get_loc\u001b[0;34m()\u001b[0m\n",
      "\u001b[0;32mpandas/_libs/index.pyx\u001b[0m in \u001b[0;36mpandas._libs.index.IndexEngine.get_loc\u001b[0;34m()\u001b[0m\n",
      "\u001b[0;32mpandas/_libs/hashtable_class_helper.pxi\u001b[0m in \u001b[0;36mpandas._libs.hashtable.PyObjectHashTable.get_item\u001b[0;34m()\u001b[0m\n",
      "\u001b[0;32mpandas/_libs/hashtable_class_helper.pxi\u001b[0m in \u001b[0;36mpandas._libs.hashtable.PyObjectHashTable.get_item\u001b[0;34m()\u001b[0m\n",
      "\u001b[0;31mKeyError\u001b[0m: 'fav_China'",
      "\nDuring handling of the above exception, another exception occurred:\n",
      "\u001b[0;31mKeyError\u001b[0m                                  Traceback (most recent call last)",
      "\u001b[0;32m<ipython-input-5-93104657310c>\u001b[0m in \u001b[0;36m<module>\u001b[0;34m\u001b[0m\n\u001b[0;32m----> 1\u001b[0;31m \u001b[0;36m1\u001b[0m \u001b[0;34m-\u001b[0m \u001b[0;34m(\u001b[0m\u001b[0md20\u001b[0m\u001b[0;34m[\u001b[0m\u001b[0;34m'fav_China'\u001b[0m\u001b[0;34m]\u001b[0m\u001b[0;34m.\u001b[0m\u001b[0mmean\u001b[0m\u001b[0;34m(\u001b[0m\u001b[0;34m)\u001b[0m \u001b[0;34m/\u001b[0m \u001b[0md16\u001b[0m\u001b[0;34m[\u001b[0m\u001b[0;34m'fav_China'\u001b[0m\u001b[0;34m]\u001b[0m\u001b[0;34m.\u001b[0m\u001b[0mmean\u001b[0m\u001b[0;34m(\u001b[0m\u001b[0;34m)\u001b[0m\u001b[0;34m)\u001b[0m\u001b[0;34m\u001b[0m\u001b[0;34m\u001b[0m\u001b[0m\n\u001b[0m",
      "\u001b[0;32m~/anaconda3/lib/python3.8/site-packages/pandas/core/frame.py\u001b[0m in \u001b[0;36m__getitem__\u001b[0;34m(self, key)\u001b[0m\n\u001b[1;32m   2798\u001b[0m             \u001b[0;32mif\u001b[0m \u001b[0mself\u001b[0m\u001b[0;34m.\u001b[0m\u001b[0mcolumns\u001b[0m\u001b[0;34m.\u001b[0m\u001b[0mnlevels\u001b[0m \u001b[0;34m>\u001b[0m \u001b[0;36m1\u001b[0m\u001b[0;34m:\u001b[0m\u001b[0;34m\u001b[0m\u001b[0;34m\u001b[0m\u001b[0m\n\u001b[1;32m   2799\u001b[0m                 \u001b[0;32mreturn\u001b[0m \u001b[0mself\u001b[0m\u001b[0;34m.\u001b[0m\u001b[0m_getitem_multilevel\u001b[0m\u001b[0;34m(\u001b[0m\u001b[0mkey\u001b[0m\u001b[0;34m)\u001b[0m\u001b[0;34m\u001b[0m\u001b[0;34m\u001b[0m\u001b[0m\n\u001b[0;32m-> 2800\u001b[0;31m             \u001b[0mindexer\u001b[0m \u001b[0;34m=\u001b[0m \u001b[0mself\u001b[0m\u001b[0;34m.\u001b[0m\u001b[0mcolumns\u001b[0m\u001b[0;34m.\u001b[0m\u001b[0mget_loc\u001b[0m\u001b[0;34m(\u001b[0m\u001b[0mkey\u001b[0m\u001b[0;34m)\u001b[0m\u001b[0;34m\u001b[0m\u001b[0;34m\u001b[0m\u001b[0m\n\u001b[0m\u001b[1;32m   2801\u001b[0m             \u001b[0;32mif\u001b[0m \u001b[0mis_integer\u001b[0m\u001b[0;34m(\u001b[0m\u001b[0mindexer\u001b[0m\u001b[0;34m)\u001b[0m\u001b[0;34m:\u001b[0m\u001b[0;34m\u001b[0m\u001b[0;34m\u001b[0m\u001b[0m\n\u001b[1;32m   2802\u001b[0m                 \u001b[0mindexer\u001b[0m \u001b[0;34m=\u001b[0m \u001b[0;34m[\u001b[0m\u001b[0mindexer\u001b[0m\u001b[0;34m]\u001b[0m\u001b[0;34m\u001b[0m\u001b[0;34m\u001b[0m\u001b[0m\n",
      "\u001b[0;32m~/anaconda3/lib/python3.8/site-packages/pandas/core/indexes/base.py\u001b[0m in \u001b[0;36mget_loc\u001b[0;34m(self, key, method, tolerance)\u001b[0m\n\u001b[1;32m   2646\u001b[0m                 \u001b[0;32mreturn\u001b[0m \u001b[0mself\u001b[0m\u001b[0;34m.\u001b[0m\u001b[0m_engine\u001b[0m\u001b[0;34m.\u001b[0m\u001b[0mget_loc\u001b[0m\u001b[0;34m(\u001b[0m\u001b[0mkey\u001b[0m\u001b[0;34m)\u001b[0m\u001b[0;34m\u001b[0m\u001b[0;34m\u001b[0m\u001b[0m\n\u001b[1;32m   2647\u001b[0m             \u001b[0;32mexcept\u001b[0m \u001b[0mKeyError\u001b[0m\u001b[0;34m:\u001b[0m\u001b[0;34m\u001b[0m\u001b[0;34m\u001b[0m\u001b[0m\n\u001b[0;32m-> 2648\u001b[0;31m                 \u001b[0;32mreturn\u001b[0m \u001b[0mself\u001b[0m\u001b[0;34m.\u001b[0m\u001b[0m_engine\u001b[0m\u001b[0;34m.\u001b[0m\u001b[0mget_loc\u001b[0m\u001b[0;34m(\u001b[0m\u001b[0mself\u001b[0m\u001b[0;34m.\u001b[0m\u001b[0m_maybe_cast_indexer\u001b[0m\u001b[0;34m(\u001b[0m\u001b[0mkey\u001b[0m\u001b[0;34m)\u001b[0m\u001b[0;34m)\u001b[0m\u001b[0;34m\u001b[0m\u001b[0;34m\u001b[0m\u001b[0m\n\u001b[0m\u001b[1;32m   2649\u001b[0m         \u001b[0mindexer\u001b[0m \u001b[0;34m=\u001b[0m \u001b[0mself\u001b[0m\u001b[0;34m.\u001b[0m\u001b[0mget_indexer\u001b[0m\u001b[0;34m(\u001b[0m\u001b[0;34m[\u001b[0m\u001b[0mkey\u001b[0m\u001b[0;34m]\u001b[0m\u001b[0;34m,\u001b[0m \u001b[0mmethod\u001b[0m\u001b[0;34m=\u001b[0m\u001b[0mmethod\u001b[0m\u001b[0;34m,\u001b[0m \u001b[0mtolerance\u001b[0m\u001b[0;34m=\u001b[0m\u001b[0mtolerance\u001b[0m\u001b[0;34m)\u001b[0m\u001b[0;34m\u001b[0m\u001b[0;34m\u001b[0m\u001b[0m\n\u001b[1;32m   2650\u001b[0m         \u001b[0;32mif\u001b[0m \u001b[0mindexer\u001b[0m\u001b[0;34m.\u001b[0m\u001b[0mndim\u001b[0m \u001b[0;34m>\u001b[0m \u001b[0;36m1\u001b[0m \u001b[0;32mor\u001b[0m \u001b[0mindexer\u001b[0m\u001b[0;34m.\u001b[0m\u001b[0msize\u001b[0m \u001b[0;34m>\u001b[0m \u001b[0;36m1\u001b[0m\u001b[0;34m:\u001b[0m\u001b[0;34m\u001b[0m\u001b[0;34m\u001b[0m\u001b[0m\n",
      "\u001b[0;32mpandas/_libs/index.pyx\u001b[0m in \u001b[0;36mpandas._libs.index.IndexEngine.get_loc\u001b[0;34m()\u001b[0m\n",
      "\u001b[0;32mpandas/_libs/index.pyx\u001b[0m in \u001b[0;36mpandas._libs.index.IndexEngine.get_loc\u001b[0;34m()\u001b[0m\n",
      "\u001b[0;32mpandas/_libs/hashtable_class_helper.pxi\u001b[0m in \u001b[0;36mpandas._libs.hashtable.PyObjectHashTable.get_item\u001b[0;34m()\u001b[0m\n",
      "\u001b[0;32mpandas/_libs/hashtable_class_helper.pxi\u001b[0m in \u001b[0;36mpandas._libs.hashtable.PyObjectHashTable.get_item\u001b[0;34m()\u001b[0m\n",
      "\u001b[0;31mKeyError\u001b[0m: 'fav_China'"
     ]
    }
   ],
   "source": [
    "1 - (d20['fav_China'].mean() / d16['fav_China'].mean())"
   ]
  },
  {
   "cell_type": "code",
   "execution_count": 6,
   "metadata": {},
   "outputs": [
    {
     "name": "stdout",
     "output_type": "stream",
     "text": [
      "The 2020 World Average for China Favorability is 1.914069809283915\n",
      "The 2020 World Average for US Favorability is 2.2668669957787793\n"
     ]
    }
   ],
   "source": [
    "print(\"The 2020 World Average for China Favorability is \" + str(d20All['fav_China'].mean()))\n",
    "print(\"The 2020 World Average for US Favorability is \" + str(d20All['fav_US'].mean()))"
   ]
  },
  {
   "cell_type": "code",
   "execution_count": 7,
   "metadata": {},
   "outputs": [
    {
     "data": {
      "text/html": [
       "<div>\n",
       "<style scoped>\n",
       "    .dataframe tbody tr th:only-of-type {\n",
       "        vertical-align: middle;\n",
       "    }\n",
       "\n",
       "    .dataframe tbody tr th {\n",
       "        vertical-align: top;\n",
       "    }\n",
       "\n",
       "    .dataframe thead th {\n",
       "        text-align: right;\n",
       "    }\n",
       "</style>\n",
       "<table border=\"1\" class=\"dataframe\">\n",
       "  <thead>\n",
       "    <tr style=\"text-align: right;\">\n",
       "      <th></th>\n",
       "      <th>ID</th>\n",
       "      <th>survey</th>\n",
       "      <th>phone_sample</th>\n",
       "      <th>weight</th>\n",
       "      <th>covid_change</th>\n",
       "      <th>covid_ownfaith</th>\n",
       "      <th>covid_countryfaith</th>\n",
       "      <th>covid_family</th>\n",
       "      <th>covid_united</th>\n",
       "      <th>covid_cooperation</th>\n",
       "      <th>...</th>\n",
       "      <th>REGION_NETHERLANDS</th>\n",
       "      <th>REGION_Spain</th>\n",
       "      <th>REGION_SWEDEN</th>\n",
       "      <th>region_uk</th>\n",
       "      <th>QS8</th>\n",
       "      <th>cregion_us</th>\n",
       "      <th>state_us</th>\n",
       "      <th>density_us</th>\n",
       "      <th>QDATE_S</th>\n",
       "      <th>QDATE_E</th>\n",
       "    </tr>\n",
       "    <tr>\n",
       "      <th>country</th>\n",
       "      <th></th>\n",
       "      <th></th>\n",
       "      <th></th>\n",
       "      <th></th>\n",
       "      <th></th>\n",
       "      <th></th>\n",
       "      <th></th>\n",
       "      <th></th>\n",
       "      <th></th>\n",
       "      <th></th>\n",
       "      <th></th>\n",
       "      <th></th>\n",
       "      <th></th>\n",
       "      <th></th>\n",
       "      <th></th>\n",
       "      <th></th>\n",
       "      <th></th>\n",
       "      <th></th>\n",
       "      <th></th>\n",
       "      <th></th>\n",
       "      <th></th>\n",
       "    </tr>\n",
       "  </thead>\n",
       "  <tbody>\n",
       "    <tr>\n",
       "      <th>Italy</th>\n",
       "      <td>1002</td>\n",
       "      <td>1002</td>\n",
       "      <td>1002</td>\n",
       "      <td>1002</td>\n",
       "      <td>1002</td>\n",
       "      <td>1002</td>\n",
       "      <td>1002</td>\n",
       "      <td>1002</td>\n",
       "      <td>1002</td>\n",
       "      <td>1002</td>\n",
       "      <td>...</td>\n",
       "      <td>1002</td>\n",
       "      <td>1002</td>\n",
       "      <td>1002</td>\n",
       "      <td>1002</td>\n",
       "      <td>1002</td>\n",
       "      <td>1002</td>\n",
       "      <td>1002</td>\n",
       "      <td>1002</td>\n",
       "      <td>1002</td>\n",
       "      <td>1002</td>\n",
       "    </tr>\n",
       "    <tr>\n",
       "      <th>Sweden</th>\n",
       "      <td>1016</td>\n",
       "      <td>1016</td>\n",
       "      <td>1016</td>\n",
       "      <td>1016</td>\n",
       "      <td>1016</td>\n",
       "      <td>1016</td>\n",
       "      <td>1016</td>\n",
       "      <td>1016</td>\n",
       "      <td>1016</td>\n",
       "      <td>1016</td>\n",
       "      <td>...</td>\n",
       "      <td>1016</td>\n",
       "      <td>1016</td>\n",
       "      <td>1016</td>\n",
       "      <td>1016</td>\n",
       "      <td>1016</td>\n",
       "      <td>1016</td>\n",
       "      <td>1016</td>\n",
       "      <td>1016</td>\n",
       "      <td>1016</td>\n",
       "      <td>1016</td>\n",
       "    </tr>\n",
       "    <tr>\n",
       "      <th>US</th>\n",
       "      <td>1003</td>\n",
       "      <td>1003</td>\n",
       "      <td>1003</td>\n",
       "      <td>1003</td>\n",
       "      <td>1003</td>\n",
       "      <td>1003</td>\n",
       "      <td>1003</td>\n",
       "      <td>1003</td>\n",
       "      <td>1003</td>\n",
       "      <td>1003</td>\n",
       "      <td>...</td>\n",
       "      <td>1003</td>\n",
       "      <td>1003</td>\n",
       "      <td>1003</td>\n",
       "      <td>1003</td>\n",
       "      <td>1003</td>\n",
       "      <td>1003</td>\n",
       "      <td>1003</td>\n",
       "      <td>1003</td>\n",
       "      <td>1003</td>\n",
       "      <td>1003</td>\n",
       "    </tr>\n",
       "  </tbody>\n",
       "</table>\n",
       "<p>3 rows × 225 columns</p>\n",
       "</div>"
      ],
      "text/plain": [
       "           ID  survey  phone_sample  weight  covid_change  covid_ownfaith  \\\n",
       "country                                                                     \n",
       "Italy    1002    1002          1002    1002          1002            1002   \n",
       "Sweden   1016    1016          1016    1016          1016            1016   \n",
       "US       1003    1003          1003    1003          1003            1003   \n",
       "\n",
       "         covid_countryfaith  covid_family  covid_united  covid_cooperation  \\\n",
       "country                                                                      \n",
       "Italy                  1002          1002          1002               1002   \n",
       "Sweden                 1016          1016          1016               1016   \n",
       "US                     1003          1003          1003               1003   \n",
       "\n",
       "         ...  REGION_NETHERLANDS  REGION_Spain  REGION_SWEDEN  region_uk  \\\n",
       "country  ...                                                               \n",
       "Italy    ...                1002          1002           1002       1002   \n",
       "Sweden   ...                1016          1016           1016       1016   \n",
       "US       ...                1003          1003           1003       1003   \n",
       "\n",
       "          QS8  cregion_us  state_us  density_us  QDATE_S  QDATE_E  \n",
       "country                                                            \n",
       "Italy    1002        1002      1002        1002     1002     1002  \n",
       "Sweden   1016        1016      1016        1016     1016     1016  \n",
       "US       1003        1003      1003        1003     1003     1003  \n",
       "\n",
       "[3 rows x 225 columns]"
      ]
     },
     "execution_count": 7,
     "metadata": {},
     "output_type": "execute_result"
    }
   ],
   "source": [
    "d20.groupby('country').count()"
   ]
  },
  {
   "cell_type": "code",
   "execution_count": 8,
   "metadata": {},
   "outputs": [
    {
     "data": {
      "text/plain": [
       "Text(0.5, 1.0, 'Italian perception of China')"
      ]
     },
     "execution_count": 8,
     "metadata": {},
     "output_type": "execute_result"
    },
    {
     "data": {
      "image/png": "[encoded data removed]",
      "text/plain": [
       "<Figure size 432x288 with 1 Axes>"
      ]
     },
     "metadata": {},
     "output_type": "display_data"
    }
   ],
   "source": [
    "p = d20[(d20['fav_China']  < 6) & (d20['country'] == 'Italy')]['fav_China'].value_counts()\n",
    "\n",
    "plt.pie(p, labels = ['Unfavorable', 'Favorable', 'Most Unfavorable', 'Most Favorable'], autopct='%1.1f%%')\n",
    "plt.title(\"Italian perception of China\")"
   ]
  },
  {
   "cell_type": "code",
   "execution_count": 9,
   "metadata": {},
   "outputs": [
    {
     "data": {
      "text/plain": [
       "Text(0.5, 1.0, 'Swedish perception of China')"
      ]
     },
     "execution_count": 9,
     "metadata": {},
     "output_type": "execute_result"
    },
    {
     "data": {
      "image/png": "[encoded data removed]",
      "text/plain": [
       "<Figure size 432x288 with 1 Axes>"
      ]
     },
     "metadata": {},
     "output_type": "display_data"
    }
   ],
   "source": [
    "p = d20[(d20['fav_China']  < 6) & (d20['country'] == 'Sweden')]['fav_China'].value_counts()\n",
    "\n",
    "plt.pie(p, labels = ['Unfavorable', 'Most Unfavorable', 'Favorable', 'Most Favorable'], autopct='%1.1f%%')\n",
    "plt.title(\"Swedish perception of China\")"
   ]
  },
  {
   "cell_type": "code",
   "execution_count": 10,
   "metadata": {},
   "outputs": [
    {
     "data": {
      "text/plain": [
       "2.0    486\n",
       "1.0    371\n",
       "3.0    127\n",
       "4.0      9\n",
       "Name: fav_China, dtype: int64"
      ]
     },
     "execution_count": 10,
     "metadata": {},
     "output_type": "execute_result"
    }
   ],
   "source": [
    "p"
   ]
  },
  {
   "cell_type": "markdown",
   "metadata": {},
   "source": [
    "## 2016 "
   ]
  },
  {
   "cell_type": "code",
   "execution_count": 11,
   "metadata": {},
   "outputs": [
    {
     "name": "stderr",
     "output_type": "stream",
     "text": [
      "<ipython-input-11-5f5e32d39141>:22: SettingWithCopyWarning: \n",
      "A value is trying to be set on a copy of a slice from a DataFrame.\n",
      "Try using .loc[row_indexer,col_indexer] = value instead\n",
      "\n",
      "See the caveats in the documentation: https://pandas.pydata.org/pandas-docs/stable/user_guide/indexing.html#returning-a-view-versus-a-copy\n",
      "  d16['country'] = d16['country'].map(countrymap)\n"
     ]
    }
   ],
   "source": [
    "# 9 for 2020 = Italy, 17 for Sweden, 19 for US\n",
    "\n",
    "responseFlip = {\n",
    "    1:4, \n",
    "    2:3, \n",
    "    3:2, \n",
    "    4:1\n",
    "}\n",
    "\n",
    "d16['fav_US'] = d16['Q10A'].map(responseFlip)\n",
    "d16['fav_China'] = d16['Q10B'].map(responseFlip)\n",
    "\n",
    "d16All = d16\n",
    "d16 = d16.loc[(d16['country'] == 9) | (d16['country'] == 17) | (d16['country'] == 19)]\n",
    "\n",
    "countrymap = {\n",
    "    9:'Italy', \n",
    "    17:'Sweden', \n",
    "    19:'US'\n",
    "}\n",
    "\n",
    "d16['country'] = d16['country'].map(countrymap)\n"
   ]
  },
  {
   "cell_type": "code",
   "execution_count": 12,
   "metadata": {},
   "outputs": [
    {
     "data": {
      "text/html": [
       "<div>\n",
       "<style scoped>\n",
       "    .dataframe tbody tr th:only-of-type {\n",
       "        vertical-align: middle;\n",
       "    }\n",
       "\n",
       "    .dataframe tbody tr th {\n",
       "        vertical-align: top;\n",
       "    }\n",
       "\n",
       "    .dataframe thead tr th {\n",
       "        text-align: left;\n",
       "    }\n",
       "\n",
       "    .dataframe thead tr:last-of-type th {\n",
       "        text-align: right;\n",
       "    }\n",
       "</style>\n",
       "<table border=\"1\" class=\"dataframe\">\n",
       "  <thead>\n",
       "    <tr>\n",
       "      <th></th>\n",
       "      <th>fav_US</th>\n",
       "      <th>fav_China</th>\n",
       "    </tr>\n",
       "    <tr>\n",
       "      <th></th>\n",
       "      <th>mean</th>\n",
       "      <th>mean</th>\n",
       "    </tr>\n",
       "    <tr>\n",
       "      <th>country</th>\n",
       "      <th></th>\n",
       "      <th></th>\n",
       "    </tr>\n",
       "  </thead>\n",
       "  <tbody>\n",
       "    <tr>\n",
       "      <th>Italy</th>\n",
       "      <td>2.825820</td>\n",
       "      <td>2.086498</td>\n",
       "    </tr>\n",
       "    <tr>\n",
       "      <th>Sweden</th>\n",
       "      <td>2.850410</td>\n",
       "      <td>2.283195</td>\n",
       "    </tr>\n",
       "    <tr>\n",
       "      <th>US</th>\n",
       "      <td>3.329918</td>\n",
       "      <td>2.225983</td>\n",
       "    </tr>\n",
       "  </tbody>\n",
       "</table>\n",
       "</div>"
      ],
      "text/plain": [
       "           fav_US fav_China\n",
       "             mean      mean\n",
       "country                    \n",
       "Italy    2.825820  2.086498\n",
       "Sweden   2.850410  2.283195\n",
       "US       3.329918  2.225983"
      ]
     },
     "execution_count": 12,
     "metadata": {},
     "output_type": "execute_result"
    }
   ],
   "source": [
    "d16.groupby('country')[['fav_US', 'fav_China']].agg(['mean'])"
   ]
  },
  {
   "cell_type": "code",
   "execution_count": 13,
   "metadata": {},
   "outputs": [
    {
     "name": "stdout",
     "output_type": "stream",
     "text": [
      "The 2016 World Average for China Favorability is 2.5668318022221155\n",
      "The 2016 World Average for US Favorability is 2.8158709314323236\n"
     ]
    }
   ],
   "source": [
    "print(\"The 2016 World Average for China Favorability is \" + str(d16All['fav_China'].mean()))\n",
    "print(\"The 2016 World Average for US Favorability is \" + str(d16All['fav_US'].mean()))"
   ]
  },
  {
   "cell_type": "code",
   "execution_count": 14,
   "metadata": {},
   "outputs": [
    {
     "data": {
      "text/plain": [
       "Text(0.5, 1.0, 'Swedish perception of China')"
      ]
     },
     "execution_count": 14,
     "metadata": {},
     "output_type": "execute_result"
    },
    {
     "data": {
      "image/png": "[encoded data removed]",
      "text/plain": [
       "<Figure size 432x288 with 1 Axes>"
      ]
     },
     "metadata": {},
     "output_type": "display_data"
    }
   ],
   "source": [
    "p = d16[(d16['fav_China']  < 6) & (d16['country'] == 'Sweden')]['fav_China'].value_counts()\n",
    "\n",
    "plt.pie(p, labels = ['Unfavorable', 'Most Unfavorable', 'Favorable', 'Most Favorable'], autopct='%1.1f%%')\n",
    "plt.title(\"Swedish perception of China\")"
   ]
  },
  {
   "cell_type": "code",
   "execution_count": 15,
   "metadata": {},
   "outputs": [
    {
     "data": {
      "text/plain": [
       "Text(0.5, 1.0, 'Italy perception of China')"
      ]
     },
     "execution_count": 15,
     "metadata": {},
     "output_type": "execute_result"
    },
    {
     "data": {
      "image/png": "[encoded data removed]",
      "text/plain": [
       "<Figure size 432x288 with 1 Axes>"
      ]
     },
     "metadata": {},
     "output_type": "display_data"
    }
   ],
   "source": [
    "p = d16[(d16['fav_China']  < 6) & (d16['country'] == 'Italy')]['fav_China'].value_counts()\n",
    "\n",
    "plt.pie(p, labels = ['Unfavorable', 'Most Unfavorable', 'Favorable', 'Most Favorable'], autopct='%1.1f%%')\n",
    "plt.title(\"Italy perception of China\")"
   ]
  },
  {
   "cell_type": "code",
   "execution_count": 16,
   "metadata": {},
   "outputs": [
    {
     "data": {
      "text/plain": [
       "2.0    361\n",
       "3.0    282\n",
       "1.0    270\n",
       "4.0     35\n",
       "Name: fav_China, dtype: int64"
      ]
     },
     "execution_count": 16,
     "metadata": {},
     "output_type": "execute_result"
    }
   ],
   "source": [
    "p"
   ]
  },
  {
   "cell_type": "markdown",
   "metadata": {},
   "source": [
    "## 2015"
   ]
  },
  {
   "cell_type": "code",
   "execution_count": null,
   "metadata": {},
   "outputs": [],
   "source": []
  },
  {
   "cell_type": "code",
   "execution_count": 17,
   "metadata": {},
   "outputs": [],
   "source": [
    "\n",
    "\n",
    "# 15 for 2015 = Italy, sweden not available, 20 for Malaysia \n",
    "# d15 = d15.loc[(d15['COUNTRY'] == 20)]"
   ]
  },
  {
   "cell_type": "code",
   "execution_count": 25,
   "metadata": {},
   "outputs": [
    {
     "data": {
      "text/html": [
       "<div>\n",
       "<style scoped>\n",
       "    .dataframe tbody tr th:only-of-type {\n",
       "        vertical-align: middle;\n",
       "    }\n",
       "\n",
       "    .dataframe tbody tr th {\n",
       "        vertical-align: top;\n",
       "    }\n",
       "\n",
       "    .dataframe thead th {\n",
       "        text-align: right;\n",
       "    }\n",
       "</style>\n",
       "<table border=\"1\" class=\"dataframe\">\n",
       "  <thead>\n",
       "    <tr style=\"text-align: right;\">\n",
       "      <th></th>\n",
       "      <th>Q12A</th>\n",
       "      <th>Q12B</th>\n",
       "      <th>Q12C</th>\n",
       "      <th>Q12D</th>\n",
       "    </tr>\n",
       "    <tr>\n",
       "      <th>COUNTRY</th>\n",
       "      <th></th>\n",
       "      <th></th>\n",
       "      <th></th>\n",
       "      <th></th>\n",
       "    </tr>\n",
       "  </thead>\n",
       "  <tbody>\n",
       "    <tr>\n",
       "      <th>1</th>\n",
       "      <td>3.387000</td>\n",
       "      <td>3.527000</td>\n",
       "      <td>4.663000</td>\n",
       "      <td>4.629000</td>\n",
       "    </tr>\n",
       "    <tr>\n",
       "      <th>2</th>\n",
       "      <td>2.690239</td>\n",
       "      <td>2.854582</td>\n",
       "      <td>3.854582</td>\n",
       "      <td>3.612550</td>\n",
       "    </tr>\n",
       "    <tr>\n",
       "      <th>3</th>\n",
       "      <td>2.408000</td>\n",
       "      <td>2.869000</td>\n",
       "      <td>3.771000</td>\n",
       "      <td>3.661000</td>\n",
       "    </tr>\n",
       "    <tr>\n",
       "      <th>4</th>\n",
       "      <td>2.482000</td>\n",
       "      <td>2.633000</td>\n",
       "      <td>4.880000</td>\n",
       "      <td>4.649000</td>\n",
       "    </tr>\n",
       "    <tr>\n",
       "      <th>5</th>\n",
       "      <td>2.503000</td>\n",
       "      <td>2.702000</td>\n",
       "      <td>4.000000</td>\n",
       "      <td>3.719000</td>\n",
       "    </tr>\n",
       "    <tr>\n",
       "      <th>6</th>\n",
       "      <td>2.868457</td>\n",
       "      <td>1.431625</td>\n",
       "      <td>3.652782</td>\n",
       "      <td>2.981639</td>\n",
       "    </tr>\n",
       "    <tr>\n",
       "      <th>7</th>\n",
       "      <td>2.485060</td>\n",
       "      <td>3.281873</td>\n",
       "      <td>3.981076</td>\n",
       "      <td>3.638446</td>\n",
       "    </tr>\n",
       "    <tr>\n",
       "      <th>8</th>\n",
       "      <td>2.235000</td>\n",
       "      <td>2.734000</td>\n",
       "      <td>5.413000</td>\n",
       "      <td>5.115000</td>\n",
       "    </tr>\n",
       "    <tr>\n",
       "      <th>9</th>\n",
       "      <td>2.263736</td>\n",
       "      <td>2.581419</td>\n",
       "      <td>3.264735</td>\n",
       "      <td>2.969031</td>\n",
       "    </tr>\n",
       "    <tr>\n",
       "      <th>10</th>\n",
       "      <td>2.783000</td>\n",
       "      <td>3.103000</td>\n",
       "      <td>3.442000</td>\n",
       "      <td>3.121000</td>\n",
       "    </tr>\n",
       "    <tr>\n",
       "      <th>11</th>\n",
       "      <td>1.698000</td>\n",
       "      <td>2.112000</td>\n",
       "      <td>3.559000</td>\n",
       "      <td>3.178000</td>\n",
       "    </tr>\n",
       "    <tr>\n",
       "      <th>12</th>\n",
       "      <td>2.759788</td>\n",
       "      <td>3.840946</td>\n",
       "      <td>4.676183</td>\n",
       "      <td>4.191272</td>\n",
       "    </tr>\n",
       "    <tr>\n",
       "      <th>13</th>\n",
       "      <td>2.665000</td>\n",
       "      <td>2.853000</td>\n",
       "      <td>3.830000</td>\n",
       "      <td>4.144000</td>\n",
       "    </tr>\n",
       "    <tr>\n",
       "      <th>14</th>\n",
       "      <td>2.129000</td>\n",
       "      <td>2.422000</td>\n",
       "      <td>3.592000</td>\n",
       "      <td>2.824000</td>\n",
       "    </tr>\n",
       "    <tr>\n",
       "      <th>15</th>\n",
       "      <td>2.028000</td>\n",
       "      <td>2.864000</td>\n",
       "      <td>3.636000</td>\n",
       "      <td>3.173000</td>\n",
       "    </tr>\n",
       "    <tr>\n",
       "      <th>16</th>\n",
       "      <td>2.396000</td>\n",
       "      <td>3.480000</td>\n",
       "      <td>3.730000</td>\n",
       "      <td>3.336000</td>\n",
       "    </tr>\n",
       "    <tr>\n",
       "      <th>17</th>\n",
       "      <td>3.524000</td>\n",
       "      <td>2.989000</td>\n",
       "      <td>3.590000</td>\n",
       "      <td>3.339000</td>\n",
       "    </tr>\n",
       "    <tr>\n",
       "      <th>18</th>\n",
       "      <td>1.918227</td>\n",
       "      <td>2.420690</td>\n",
       "      <td>3.616749</td>\n",
       "      <td>3.600000</td>\n",
       "    </tr>\n",
       "    <tr>\n",
       "      <th>19</th>\n",
       "      <td>2.855000</td>\n",
       "      <td>2.593000</td>\n",
       "      <td>2.861000</td>\n",
       "      <td>2.647000</td>\n",
       "    </tr>\n",
       "    <tr>\n",
       "      <th>20</th>\n",
       "      <td>2.729000</td>\n",
       "      <td>2.235000</td>\n",
       "      <td>3.657000</td>\n",
       "      <td>3.596000</td>\n",
       "    </tr>\n",
       "    <tr>\n",
       "      <th>21</th>\n",
       "      <td>2.410000</td>\n",
       "      <td>3.387000</td>\n",
       "      <td>4.450000</td>\n",
       "      <td>4.279000</td>\n",
       "    </tr>\n",
       "    <tr>\n",
       "      <th>22</th>\n",
       "      <td>2.333333</td>\n",
       "      <td>2.697230</td>\n",
       "      <td>4.007641</td>\n",
       "      <td>3.816619</td>\n",
       "    </tr>\n",
       "    <tr>\n",
       "      <th>23</th>\n",
       "      <td>3.880833</td>\n",
       "      <td>2.162500</td>\n",
       "      <td>3.475833</td>\n",
       "      <td>5.276667</td>\n",
       "    </tr>\n",
       "    <tr>\n",
       "      <th>24</th>\n",
       "      <td>3.344000</td>\n",
       "      <td>2.916000</td>\n",
       "      <td>3.308000</td>\n",
       "      <td>3.406000</td>\n",
       "    </tr>\n",
       "    <tr>\n",
       "      <th>25</th>\n",
       "      <td>2.664000</td>\n",
       "      <td>3.107000</td>\n",
       "      <td>4.597000</td>\n",
       "      <td>4.370000</td>\n",
       "    </tr>\n",
       "    <tr>\n",
       "      <th>26</th>\n",
       "      <td>1.676000</td>\n",
       "      <td>2.640000</td>\n",
       "      <td>3.406000</td>\n",
       "      <td>3.314000</td>\n",
       "    </tr>\n",
       "    <tr>\n",
       "      <th>27</th>\n",
       "      <td>2.624514</td>\n",
       "      <td>3.407588</td>\n",
       "      <td>3.926070</td>\n",
       "      <td>3.504864</td>\n",
       "    </tr>\n",
       "    <tr>\n",
       "      <th>28</th>\n",
       "      <td>3.476048</td>\n",
       "      <td>2.367265</td>\n",
       "      <td>3.773453</td>\n",
       "      <td>1.559880</td>\n",
       "    </tr>\n",
       "    <tr>\n",
       "      <th>29</th>\n",
       "      <td>2.352000</td>\n",
       "      <td>2.864000</td>\n",
       "      <td>4.201000</td>\n",
       "      <td>4.504000</td>\n",
       "    </tr>\n",
       "    <tr>\n",
       "      <th>30</th>\n",
       "      <td>2.360000</td>\n",
       "      <td>3.121000</td>\n",
       "      <td>4.333000</td>\n",
       "      <td>4.159000</td>\n",
       "    </tr>\n",
       "    <tr>\n",
       "      <th>31</th>\n",
       "      <td>2.176119</td>\n",
       "      <td>2.497512</td>\n",
       "      <td>3.534328</td>\n",
       "      <td>3.122388</td>\n",
       "    </tr>\n",
       "    <tr>\n",
       "      <th>32</th>\n",
       "      <td>2.724000</td>\n",
       "      <td>3.084000</td>\n",
       "      <td>3.715000</td>\n",
       "      <td>3.362000</td>\n",
       "    </tr>\n",
       "    <tr>\n",
       "      <th>33</th>\n",
       "      <td>2.356000</td>\n",
       "      <td>2.629000</td>\n",
       "      <td>4.587000</td>\n",
       "      <td>4.521000</td>\n",
       "    </tr>\n",
       "    <tr>\n",
       "      <th>34</th>\n",
       "      <td>3.612460</td>\n",
       "      <td>4.204857</td>\n",
       "      <td>4.159451</td>\n",
       "      <td>4.170011</td>\n",
       "    </tr>\n",
       "    <tr>\n",
       "      <th>35</th>\n",
       "      <td>2.321000</td>\n",
       "      <td>2.931000</td>\n",
       "      <td>4.103000</td>\n",
       "      <td>4.141000</td>\n",
       "    </tr>\n",
       "    <tr>\n",
       "      <th>36</th>\n",
       "      <td>2.642617</td>\n",
       "      <td>3.299663</td>\n",
       "      <td>4.424723</td>\n",
       "      <td>3.495911</td>\n",
       "    </tr>\n",
       "    <tr>\n",
       "      <th>37</th>\n",
       "      <td>2.790791</td>\n",
       "      <td>3.484484</td>\n",
       "      <td>4.049049</td>\n",
       "      <td>3.810811</td>\n",
       "    </tr>\n",
       "    <tr>\n",
       "      <th>38</th>\n",
       "      <td>1.842473</td>\n",
       "      <td>3.240279</td>\n",
       "      <td>3.852443</td>\n",
       "      <td>3.618146</td>\n",
       "    </tr>\n",
       "    <tr>\n",
       "      <th>39</th>\n",
       "      <td>2.962000</td>\n",
       "      <td>2.914000</td>\n",
       "      <td>4.092000</td>\n",
       "      <td>3.818000</td>\n",
       "    </tr>\n",
       "    <tr>\n",
       "      <th>40</th>\n",
       "      <td>2.274000</td>\n",
       "      <td>3.451000</td>\n",
       "      <td>3.682000</td>\n",
       "      <td>2.529000</td>\n",
       "    </tr>\n",
       "  </tbody>\n",
       "</table>\n",
       "</div>"
      ],
      "text/plain": [
       "             Q12A      Q12B      Q12C      Q12D\n",
       "COUNTRY                                        \n",
       "1        3.387000  3.527000  4.663000  4.629000\n",
       "2        2.690239  2.854582  3.854582  3.612550\n",
       "3        2.408000  2.869000  3.771000  3.661000\n",
       "4        2.482000  2.633000  4.880000  4.649000\n",
       "5        2.503000  2.702000  4.000000  3.719000\n",
       "6        2.868457  1.431625  3.652782  2.981639\n",
       "7        2.485060  3.281873  3.981076  3.638446\n",
       "8        2.235000  2.734000  5.413000  5.115000\n",
       "9        2.263736  2.581419  3.264735  2.969031\n",
       "10       2.783000  3.103000  3.442000  3.121000\n",
       "11       1.698000  2.112000  3.559000  3.178000\n",
       "12       2.759788  3.840946  4.676183  4.191272\n",
       "13       2.665000  2.853000  3.830000  4.144000\n",
       "14       2.129000  2.422000  3.592000  2.824000\n",
       "15       2.028000  2.864000  3.636000  3.173000\n",
       "16       2.396000  3.480000  3.730000  3.336000\n",
       "17       3.524000  2.989000  3.590000  3.339000\n",
       "18       1.918227  2.420690  3.616749  3.600000\n",
       "19       2.855000  2.593000  2.861000  2.647000\n",
       "20       2.729000  2.235000  3.657000  3.596000\n",
       "21       2.410000  3.387000  4.450000  4.279000\n",
       "22       2.333333  2.697230  4.007641  3.816619\n",
       "23       3.880833  2.162500  3.475833  5.276667\n",
       "24       3.344000  2.916000  3.308000  3.406000\n",
       "25       2.664000  3.107000  4.597000  4.370000\n",
       "26       1.676000  2.640000  3.406000  3.314000\n",
       "27       2.624514  3.407588  3.926070  3.504864\n",
       "28       3.476048  2.367265  3.773453  1.559880\n",
       "29       2.352000  2.864000  4.201000  4.504000\n",
       "30       2.360000  3.121000  4.333000  4.159000\n",
       "31       2.176119  2.497512  3.534328  3.122388\n",
       "32       2.724000  3.084000  3.715000  3.362000\n",
       "33       2.356000  2.629000  4.587000  4.521000\n",
       "34       3.612460  4.204857  4.159451  4.170011\n",
       "35       2.321000  2.931000  4.103000  4.141000\n",
       "36       2.642617  3.299663  4.424723  3.495911\n",
       "37       2.790791  3.484484  4.049049  3.810811\n",
       "38       1.842473  3.240279  3.852443  3.618146\n",
       "39       2.962000  2.914000  4.092000  3.818000\n",
       "40       2.274000  3.451000  3.682000  2.529000"
      ]
     },
     "execution_count": 25,
     "metadata": {},
     "output_type": "execute_result"
    }
   ],
   "source": [
    "d15.groupby('COUNTRY')[['Q12A', 'Q12B', 'Q12C', 'Q12D']].mean()"
   ]
  },
  {
   "cell_type": "code",
   "execution_count": 78,
   "metadata": {},
   "outputs": [
    {
     "data": {
      "text/plain": [
       "2    413\n",
       "3    265\n",
       "4    159\n",
       "1    120\n",
       "8     35\n",
       "9      8\n",
       "Name: Q12A, dtype: int64"
      ]
     },
     "execution_count": 78,
     "metadata": {},
     "output_type": "execute_result"
    }
   ],
   "source": [
    "mal = d15[d15['COUNTRY'] == 20]\n",
    "mal['Q12A'].value_counts()"
   ]
  },
  {
   "cell_type": "code",
   "execution_count": 79,
   "metadata": {},
   "outputs": [
    {
     "data": {
      "text/plain": [
       "2    579\n",
       "1    256\n",
       "3    120\n",
       "4     27\n",
       "8     16\n",
       "9      2\n",
       "Name: Q12A, dtype: int64"
      ]
     },
     "execution_count": 79,
     "metadata": {},
     "output_type": "execute_result"
    }
   ],
   "source": [
    "it = d15[d15['COUNTRY'] == 15]\n",
    "it['Q12A'].value_counts()"
   ]
  },
  {
   "cell_type": "code",
   "execution_count": 88,
   "metadata": {},
   "outputs": [
    {
     "data": {
      "image/png": "[encoded data removed]",
      "text/plain": [
       "<Figure size 432x288 with 1 Axes>"
      ]
     },
     "metadata": {
      "needs_background": "light"
     },
     "output_type": "display_data"
    }
   ],
   "source": [
    "plt.style.use('seaborn-deep')\n",
    "\n",
    "plt.title('Response Distribution in Malaysia in 2015')\n",
    "plt.xticks(np.arange(10), ['.', 'Very Favorable', 'Favorable', 'Unfavorable', 'Very Unfavorable', '.', \n",
    "                     '.', '.', 'Do not know', 'Refused'], rotation=45)\n",
    "plt.hist([mal['Q12B'], mal['Q12A'], mal['Q12C'], mal['Q12D']], bins=10, label=['Fav toward China', 'Fav toward US', 'Fav toward Iran', 'Fav toward Russia'])\n",
    "plt.legend(loc='upper right')\n",
    "plt.show()\n"
   ]
  },
  {
   "cell_type": "code",
   "execution_count": 89,
   "metadata": {},
   "outputs": [
    {
     "data": {
      "image/png": "[encoded data removed]",
      "text/plain": [
       "<Figure size 432x288 with 1 Axes>"
      ]
     },
     "metadata": {
      "needs_background": "light"
     },
     "output_type": "display_data"
    }
   ],
   "source": [
    "plt.style.use('seaborn-deep')\n",
    "\n",
    "plt.title('Response Distribution in Malaysia in 2015')\n",
    "plt.xticks(np.arange(10), ['.', 'Very Favorable', 'Favorable', 'Unfavorable', 'Very Unfavorable', '.', \n",
    "                     '.', '.', 'Do not know', 'Refused'], rotation=45)\n",
    "plt.hist([mal['Q12B'], mal['Q12A']], bins=10, label=['Fav toward China', 'Fav toward US'])\n",
    "plt.legend(loc='upper right')\n",
    "plt.show()"
   ]
  },
  {
   "cell_type": "code",
   "execution_count": 70,
   "metadata": {},
   "outputs": [
    {
     "name": "stdout",
     "output_type": "stream",
     "text": [
      "Malaysia is -11.213479551768657 % from the world opinion of the US.\n",
      "Malaysia is 2.51619644723093 / 2.8339847473784556 on US\n",
      "Malaysia is 10.001089595545764 % from the world opinion of China.\n",
      "Malaysia is 3.0418848167539267 / 2.7653224417488866 on China\n",
      "Malaysia is 14.461859527780419 % from the world opinion of Iran.\n",
      "Malaysia is 2.35995085995086 / 2.0617792421746293 on Iran\n",
      "Malaysia is -2.6366922718086414 % from the world opinion of Russia.\n",
      "Malaysia is 2.2322274881516586 / 2.2926783613220665 on Russia\n"
     ]
    },
    {
     "name": "stderr",
     "output_type": "stream",
     "text": [
      "<ipython-input-70-ebfeed02b49a>:8: SettingWithCopyWarning: \n",
      "A value is trying to be set on a copy of a slice from a DataFrame.\n",
      "Try using .loc[row_indexer,col_indexer] = value instead\n",
      "\n",
      "See the caveats in the documentation: https://pandas.pydata.org/pandas-docs/stable/user_guide/indexing.html#returning-a-view-versus-a-copy\n",
      "  mal['Q12A'] = mal['Q12A'].map(drop)\n",
      "<ipython-input-70-ebfeed02b49a>:9: SettingWithCopyWarning: \n",
      "A value is trying to be set on a copy of a slice from a DataFrame.\n",
      "Try using .loc[row_indexer,col_indexer] = value instead\n",
      "\n",
      "See the caveats in the documentation: https://pandas.pydata.org/pandas-docs/stable/user_guide/indexing.html#returning-a-view-versus-a-copy\n",
      "  mal['Q12B'] = mal['Q12B'].map(drop)\n",
      "<ipython-input-70-ebfeed02b49a>:10: SettingWithCopyWarning: \n",
      "A value is trying to be set on a copy of a slice from a DataFrame.\n",
      "Try using .loc[row_indexer,col_indexer] = value instead\n",
      "\n",
      "See the caveats in the documentation: https://pandas.pydata.org/pandas-docs/stable/user_guide/indexing.html#returning-a-view-versus-a-copy\n",
      "  mal['Q12C'] = mal['Q12C'].map(drop)\n",
      "<ipython-input-70-ebfeed02b49a>:11: SettingWithCopyWarning: \n",
      "A value is trying to be set on a copy of a slice from a DataFrame.\n",
      "Try using .loc[row_indexer,col_indexer] = value instead\n",
      "\n",
      "See the caveats in the documentation: https://pandas.pydata.org/pandas-docs/stable/user_guide/indexing.html#returning-a-view-versus-a-copy\n",
      "  mal['Q12D'] = mal['Q12D'].map(drop)\n"
     ]
    }
   ],
   "source": [
    "drop = {\n",
    "    1:4, \n",
    "    2:3, \n",
    "    3:2, \n",
    "    4:1\n",
    "}\n",
    "\n",
    "mal['Q12A'] = mal['Q12A'].map(drop)\n",
    "mal['Q12B'] = mal['Q12B'].map(drop)\n",
    "mal['Q12C'] = mal['Q12C'].map(drop)\n",
    "mal['Q12D'] = mal['Q12D'].map(drop)\n",
    "\n",
    "d15['Q12A'] = d15['Q12A'].map(drop)\n",
    "d15['Q12B'] = d15['Q12B'].map(drop)\n",
    "d15['Q12C'] = d15['Q12C'].map(drop)\n",
    "d15['Q12D'] = d15['Q12D'].map(drop)\n",
    "\n",
    "\n",
    "print('Malaysia is ' + str((mal['Q12A'].mean() * 100 / d15['Q12A'].mean()) - 100) + \" % from the world opinion of the US.\")\n",
    "print(\"Malaysia is \" + str(mal['Q12A'].mean()) + \" / \" + str(d15['Q12A'].mean()) + \" on US\")\n",
    "print('Malaysia is ' + str((mal['Q12B'].mean() * 100 / d15['Q12B'].mean()) - 100) + \" % from the world opinion of China.\")\n",
    "print(\"Malaysia is \" + str(mal['Q12B'].mean()) + \" / \" + str(d15['Q12B'].mean()) +  \" on China\")\n",
    "print('Malaysia is ' + str((mal['Q12C'].mean() * 100 / d15['Q12C'].mean()) - 100) + \" % from the world opinion of Iran.\")\n",
    "print(\"Malaysia is \" + str(mal['Q12C'].mean()) + \" / \" + str(d15['Q12C'].mean()) +  \" on Iran\")\n",
    "print('Malaysia is ' + str((mal['Q12D'].mean() * 100 / d15['Q12D'].mean()) - 100) + \" % from the world opinion of Russia.\")\n",
    "print(\"Malaysia is \" + str(mal['Q12D'].mean()) + \" / \" + str(d15['Q12D'].mean()) + \" on Russia\")"
   ]
  },
  {
   "cell_type": "code",
   "execution_count": 72,
   "metadata": {},
   "outputs": [
    {
     "name": "stderr",
     "output_type": "stream",
     "text": [
      "<ipython-input-72-7699cbb94abe>:1: SettingWithCopyWarning: \n",
      "A value is trying to be set on a copy of a slice from a DataFrame.\n",
      "Try using .loc[row_indexer,col_indexer] = value instead\n",
      "\n",
      "See the caveats in the documentation: https://pandas.pydata.org/pandas-docs/stable/user_guide/indexing.html#returning-a-view-versus-a-copy\n",
      "  mal['favor China'] = mal['Q12B'] - mal['Q12A']\n"
     ]
    },
    {
     "data": {
      "text/plain": [
       " 0.0    352\n",
       " 1.0    341\n",
       " 2.0    121\n",
       "-1.0     96\n",
       "-2.0     15\n",
       " 3.0     11\n",
       "-3.0      1\n",
       "Name: favor China, dtype: int64"
      ]
     },
     "execution_count": 72,
     "metadata": {},
     "output_type": "execute_result"
    }
   ],
   "source": [
    "mal['favor China'] = mal['Q12B'] - mal['Q12A']\n",
    "mal['favor China'].value_counts()"
   ]
  },
  {
   "cell_type": "code",
   "execution_count": 73,
   "metadata": {},
   "outputs": [
    {
     "data": {
      "text/plain": [
       "0.5048025613660619"
      ]
     },
     "execution_count": 73,
     "metadata": {},
     "output_type": "execute_result"
    }
   ],
   "source": [
    "473 / mal['favor China'].value_counts().sum() "
   ]
  },
  {
   "cell_type": "code",
   "execution_count": 74,
   "metadata": {},
   "outputs": [
    {
     "data": {
      "text/plain": [
       "0.11953041622198506"
      ]
     },
     "execution_count": 74,
     "metadata": {},
     "output_type": "execute_result"
    }
   ],
   "source": [
    "112 / mal['favor China'].value_counts().sum() "
   ]
  },
  {
   "cell_type": "code",
   "execution_count": null,
   "metadata": {},
   "outputs": [],
   "source": []
  }
 ],
 "metadata": {
  "kernelspec": {
   "display_name": "Python 3",
   "language": "python",
   "name": "python3"
  },
  "language_info": {
   "codemirror_mode": {
    "name": "ipython",
    "version": 3
   },
   "file_extension": ".py",
   "mimetype": "text/x-python",
   "name": "python",
   "nbconvert_exporter": "python",
   "pygments_lexer": "ipython3",
   "version": "3.8.3"
  }
 },
 "nbformat": 4,
 "nbformat_minor": 4
}
