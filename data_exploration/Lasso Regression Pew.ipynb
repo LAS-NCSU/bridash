{
 "cells": [
  {
   "cell_type": "markdown",
   "metadata": {},
   "source": [
    "## Lasso Regression Modelling\n",
    "\n",
    "#### Using lasso regression, let's predict trust in government\n",
    "\n",
    "Lasso regression provides the opportunity to compare models to determine if regression (treating response variables as continuous even though they are ordinal) would fit the data best. \n",
    "\n",
    "The following modeling allows for manipulation of class labels, categorical or binary responses, and feature selection. This is an experimental model and should not be counted as fully deterministic. "
   ]
  },
  {
   "cell_type": "code",
   "execution_count": 1,
   "metadata": {},
   "outputs": [],
   "source": [
    "import numpy as np\n",
    "# set a seed for reproducibility\n",
    "np.random.seed(23)\n",
    "\n",
    "import pandas as pd\n",
    "import matplotlib.pyplot as plt\n",
    "\n",
    "from sklearn.impute import SimpleImputer\n",
    "from sklearn.impute import KNNImputer\n",
    "\n",
    "# to scale our data\n",
    "from sklearn.preprocessing import MinMaxScaler\n",
    "\n",
    "# to generate k-folds from the data\n",
    "from sklearn.model_selection import KFold, train_test_split\n",
    "\n",
    "# use sklearn.metrics to calculate a confusion matrix\n",
    "from sklearn.metrics import confusion_matrix\n",
    "from sklearn.metrics import accuracy_score\n",
    "\n",
    "# to calulate distance matrix\n",
    "from sklearn.metrics import pairwise_distances\n",
    "\n",
    "# to use in building graphs for DT\n",
    "import graphviz \n",
    "\n",
    "# to use in viewing feature importance from random forest \n",
    "import seaborn as sns\n",
    "\n",
    "# to export dataframes\n",
    "import dataframe_image as dfi\n",
    "\n",
    "# to build out Lasso regression \n",
    "from sklearn.linear_model import LassoCV"
   ]
  },
  {
   "cell_type": "code",
   "execution_count": 2,
   "metadata": {},
   "outputs": [],
   "source": [
    "# import data\n",
    "\n",
    "# import imputted testing data\n",
    "testI = pd.read_csv(r'/Users/natalie_kraft/Documents/LAS/Pew2017_ITest.csv')\n",
    "# import imputted training data\n",
    "trainI = pd.read_csv(r'/Users/natalie_kraft/Documents/LAS/Pew2017_ITrain.csv')\n",
    "\n",
    "# import imputted testing data\n",
    "testT = pd.read_csv(r'/Users/natalie_kraft/Documents/LAS/Pew2017_TTest.csv')\n",
    "# import imputted testing data\n",
    "trainT = pd.read_csv(r'/Users/natalie_kraft/Documents/LAS/Pew2017_TTest.csv')\n"
   ]
  },
  {
   "cell_type": "code",
   "execution_count": 3,
   "metadata": {},
   "outputs": [],
   "source": [
    "testI = testI.drop(columns=['Unnamed: 0'])\n",
    "trainI = trainI.drop(columns=['Unnamed: 0'])\n",
    "testT = testT.drop(columns=['Unnamed: 0'])\n",
    "trainT = trainT.drop(columns=['Unnamed: 0'])"
   ]
  },
  {
   "cell_type": "markdown",
   "metadata": {},
   "source": [
    "## The following functions are defined as... \n",
    "\n",
    "> discretize (mapping, labelName, df): turns the categorical/ordinal response into binary or other discretized value   \n",
    "\n",
    "> dtree(x_train, y_train, x_test, criterion, random_state, depth, prob): creates a decision tree using the training data set and then predicts the labels for the test dataset\n",
    "- users can specify tree depth as well as use of gini/entropy \n",
    "- return the tree and the prediction accuracy\n",
    "\n",
    "> randomforest(x_train, y_train, x_test, criterion, random_state, depth, prob): builds 100 decision trees to determine relevance of attributes based on different split\n",
    "- returns all of the trees and the prediction accuracies \n",
    "\n",
    "> featureImportance(x_train, y_train, x_test, criterion, random_state, depth, prob, runningModel, threshold): builds a random forest, calculates feature importance based off the forest, determines relevant attributes to model, builds reduced attribute model\n",
    "- returns model with reduced attributes based upon threshold set\n",
    "\n",
    "> evaluation_measures(y_true, y_pred): determining accuracy and confusion matrix"
   ]
  },
  {
   "cell_type": "code",
   "execution_count": 4,
   "metadata": {},
   "outputs": [],
   "source": [
    "def evaluation_measures(y_true, y_pred):\n",
    "\n",
    "    # binary equivalent for accuracy\n",
    "    # cm = confusion_matrix(true_labels, pred_labels)\n",
    "    # accuracy = (cm[0][0] + cm[1][1]) / (cm[0][0] + cm[1][1] + cm[0][1] + cm[1][0])\n",
    "    \n",
    "    cm = confusion_matrix(y_true, y_pred)\n",
    "    # tp + tn / tp + tn + fp + fn\n",
    "    # generic values used in anticipation of test cases having more than two class labels\n",
    "    accuracy = sum(cm[i][i] for i in range(cm.shape[0])) / cm.sum()\n",
    "    \n",
    "    # return as a list\n",
    "    return [accuracy, cm]"
   ]
  },
  {
   "cell_type": "code",
   "execution_count": 5,
   "metadata": {},
   "outputs": [],
   "source": [
    "def feature_importance(reg, accuracy, modelColumns):\n",
    "    \n",
    "    features = []\n",
    "    removedFeatures = []\n",
    "    # Which attributes are most predictive of the outcome variable?\n",
    "    for i in range(0, len(reg.coef_)):\n",
    "        if reg.coef_[i] != 0:\n",
    "            features.append([modelColumns[i], reg.coef_[i]])\n",
    "        else:\n",
    "            removedFeatures.append(modelColumns[i])\n",
    "            \n",
    "   \n",
    "    print(f'Model coefficients:\\n{features}')\n",
    "    \n",
    "    print()\n",
    "    print(f'Model features removed include:\\n {removedFeatures}')\n",
    "\n",
    "    print()\n",
    "    # Note we called this 'lamda' in class, but sklearn calls it alpha (should be ~3.196)\n",
    "    print(f'The shinkage coefficient hyperparameter chosen by CV: {reg.alpha_}')\n",
    "    \n",
    "    return features"
   ]
  },
  {
   "cell_type": "code",
   "execution_count": 6,
   "metadata": {},
   "outputs": [],
   "source": [
    "def regression_lasso(X_train, X_test, y_train, y_test, i, random_state, printC, modelColumns):\n",
    "    \n",
    "    reg = LassoCV(cv=i, random_state=random_state).fit(X_train, y_train)\n",
    "    pred = reg.predict(X_test)\n",
    "    \n",
    "    pred = np.around(pred)\n",
    "    accuracy, cm = evaluation_measures(y_test, pred)\n",
    "    \n",
    "    if printC is True:\n",
    "        features = feature_importance(reg, accuracy, modelColumns)\n",
    "    else:\n",
    "        features = []\n",
    "        \n",
    "    error = calculate_rmse(y_test, pred)\n",
    "    print(\"The error is : \" + str(error))\n",
    "        \n",
    "    return [accuracy, cm, pred, error, features]"
   ]
  },
  {
   "cell_type": "code",
   "execution_count": 7,
   "metadata": {},
   "outputs": [],
   "source": [
    "def regression_lasso_cross(label, X_train, X_test, y_train, y_test, random_state):\n",
    "    \n",
    "    scatter = []\n",
    "    highestVal = 0\n",
    "    bestCross = -1\n",
    "    \n",
    "    for i in range(2, 20):\n",
    "        \n",
    "        evaluations = regression_lasso(X_train, X_test, y_train, y_test, i, random_state, False, None)\n",
    "        \n",
    "        scatter.append([label, i, evaluations[0]])\n",
    "        if evaluations[0] > highestVal: \n",
    "            highestVal = evaluations[0]\n",
    "            bestCross = i\n",
    "        \n",
    "    return scatter, highestVal, bestCross, evaluations[4]"
   ]
  },
  {
   "cell_type": "code",
   "execution_count": 8,
   "metadata": {},
   "outputs": [],
   "source": [
    "import math\n",
    "def calculate_rmse(y_true, y_pred):\n",
    "    # Inputs:\n",
    "    # y_true: ground truth dependent variable values, of type vector\n",
    "    # y_pred: prediction outcomes from any regression method, with the same length as y_true\n",
    "  \n",
    "    # Outputs:\n",
    "    # a single value of type double, with the RMSE value\n",
    "    return (math.sqrt(np.sum((y_true - y_pred)**2)/len(y_true)))"
   ]
  },
  {
   "cell_type": "markdown",
   "metadata": {},
   "source": [
    "## Predict your model\n",
    "\n",
    "#### What do you want to predict? Choose your variable first:\n",
    "- RESPONSE : binary classification of either trust government (1) or not (0)\n",
    "- trust_gov : ordinal classification of trust government (4) to don't trust government (1)"
   ]
  },
  {
   "cell_type": "code",
   "execution_count": 9,
   "metadata": {},
   "outputs": [],
   "source": [
    "# choose your variable here \n",
    "# either RESPONSE or trust_gov\n",
    "predictor = \"RESPONSE\"\n",
    "\n",
    "# allVars = ['RESPONSE', 'trust_gov']\n",
    "allVars = ['trust_gov', 'RESPONSE']"
   ]
  },
  {
   "cell_type": "markdown",
   "metadata": {},
   "source": [
    "### Run model with each response variable \n",
    "\n",
    "Determine accuracy for each response variable based off a determination on model's best cross validation splits\n",
    "\n",
    "__Average results for full and reduced responses__\n",
    "In order to show the benefits of reducing the categorical/ordinal responses of response variables into larger \n",
    "groups, the average for all predictors is laid out. "
   ]
  },
  {
   "cell_type": "code",
   "execution_count": 10,
   "metadata": {},
   "outputs": [
    {
     "name": "stdout",
     "output_type": "stream",
     "text": [
      "\n",
      "Let's work on trust_gov\n",
      "\n",
      "The error is : 0.8671806549557707\n",
      "The error is : 0.8588947716879827\n",
      "The error is : 0.8559479157504258\n",
      "The error is : 0.8548332546241337\n",
      "The error is : 0.8565047023283658\n",
      "The error is : 0.8559479157504258\n",
      "The error is : 0.8546101479376707\n",
      "The error is : 0.8575616008856164\n",
      "The error is : 0.8546101479376707\n",
      "The error is : 0.8509204420975898\n",
      "The error is : 0.8560036107054739\n",
      "The error is : 0.8548332546241337\n",
      "The error is : 0.8546101479376707\n",
      "The error is : 0.8548332546241337\n",
      "The error is : 0.8519283103167459\n",
      "The error is : 0.8548332546241337\n",
      "The error is : 0.8565047023283658\n",
      "The error is : 0.8560036107054739\n",
      "Accuracy for trust_gov is: 0.4622425629290618\n",
      "Valuable features for trust_gov include: \n",
      "\n",
      "Model coefficients:\n",
      "[['desc_day', 0.006629904599063995], ['nostalgia50', 0.13187598620186808], ['econ_sit', 0.3396803206093876], ['children_betteroff2', 0.08323105104298141], ['fav_Iran', -0.063355215046037], ['fav_Germany', 0.00352302191945769], ['fav_India', 0.0029116570578808535], ['fav_Turkey', -0.03337993428931127], ['fav_Cuba', -0.10295948636731599], ['NAFTA_goodbad', 0.007804784280995692], ['intthreat_isis', 0.02233930295389234], ['intthreat_econcondition', -0.021635240215139715], ['concern_country', 0.006651663033402491], ['econ_power_china', -0.010542536475705746], ['global_trade', 0.0008307268950995678], ['global_culture', -0.016272283784270713], ['global_money', 0.00657197664170788], ['polsys_directdemocracy', -0.017886224101006536], ['polsys_republic', 0.049857846974542125], ['polsys_autocracy', 0.015242601186863573], ['polsys_junta', 0.008530089331979575], ['confid_trump', 0.04040257992743631], ['confid_xi', 0.028316668130187395], ['confid_putin', 0.01797607296963587], ['confid_merkel', 0.04899347823511274], ['confid_castro', -0.03116247777042888], ['Obama_pastapproval', -0.01398279355707049], ['Trump_futureapproval', 0.03420860877463132], ['Trump_relations', 0.02242334354718269], ['Trump_personality_dangerous', -0.035507467036261696], ['Trump_personality_arrogant', -0.009212364184699546], ['Trump_policy_thewall', 0.016645411329738697], ['china_environ', -0.005328042887787034], ['mfollow_country', 0.0038965113675197916], ['mfollow_US', 0.008407722078837861], ['medwell_accuracy', 0.04054539038727583], ['medwell_leaders', 0.04240890163312471], ['medwell_unbiased', 0.044185981413732485], ['medwell_coverage', 0.02201251817915548], ['diversity_goodbad', 0.005871550773219795], ['EUexit_referendum', -0.06844848907369201], ['EU_germanyinfluence', -0.016526414400252425], ['ME_role_Iran', -0.05410937135006206], ['use_internet', -0.030672214843996338], ['onlinenews', 0.015201388709561158], ['influ_gov', 0.014544662255829762], ['influ_news', -0.0034718088381605386], ['influ_relleaders', -0.007438030853811476], ['influ_police', -0.004913740390474564], ['influ_teachers', -0.15569300039064107], ['influ_humanrights', 0.020081068111584156], ['fav_maduro', 0.23685091103803121], ['fav_BJP', 0.004423379526108295], ['humanrights_priority_poor', 0.004372189747806974], ['humanrights_priority_police', 0.017381906210329215], ['humanrights_priority_election', 0.0005261692834742481], ['humanrights_priority_justice', 0.001381042759318228], ['humanrights_motive', 0.006634591841267121], ['Russia_Syria_civilians', 0.04450851843664027], ['fav_Duterte', 0.019101371887250227], ['age', 0.0019781863275885143], ['muslim_branch', 0.03699962791127117], ['muslim_branch_Alevi', -0.47689729419467286], ['pray_several', 0.013404289947010779], ['pray_severalA', -0.005918847241908295], ['country_national', 0.0013040446426795253], ['d_hhpeople', 0.0126279333796528], ['d_adult_us', -0.017539106036863827], ['political_scale2', -0.024380680161632483], ['d_political_scale_us', 0.0007093388712005792], ['d_homephone_us', -0.008157560003608396], ['d_numcell', -0.008400207770241733]]\n",
      "\n",
      "Model features removed include:\n",
      " ['country_satis', 'improve_econ', 'personal_econ', 'satisfied_democracy', 'fav_US', 'fav_Americans', 'fav_China', 'fav_Russia', 'fav_EU', 'fav_Britain', 'fav_NATO', 'fav_Japan', 'fav_Saudi', 'fav_SKorea', 'fav_NKorea', 'country_respect', 'intthreat_chpower', 'intthreat_climatechange', 'intthreat_USpower', 'intthreat_ruspower', 'intthreat_cyber', 'intthreat_refugee', 'nato_def', 'us_def_milforce', 'econ_power_eu', 'econ_power_japan', 'econ_power_none', 'econ_power_us', 'respect_china', 'respect_us', 'respect_france', 'respect_russia', 'global_movement', 'global_information', 'polsys_technocracy', 'American_customs', 'American_democracy', 'American_entertainment', 'Trump_personality_qualified', 'Trump_personality_strong', 'Trump_personality_charismatic', 'Trump_personality_intolerant', 'Trump_personality_ordinarypeople', 'Trump_policy_climatechange', 'Trump_policy_nuclear', 'Trump_policy_trade', 'Trump_policy_muslims', 'china_jobloss', 'china_deficit', 'china_rights', 'china_taiwan', 'china_debt', 'china_terrdisputes', 'china_cyber', 'mfollow_city', 'mfollow_othercountries', 'mediabias', 'EU_leavestay', 'eu_approve_econ', 'eu_approve_refugee', 'Brexit_policy_trade', 'Brexit_policy_EUpeoplemove', 'Brexit_policy_nonEUmove', 'Brexit_country_EU', 'Brexit_country_UK', 'china_econ', 'china_military', 'china_territorial', 'China_econ_military', 'us_def_china', 'us_def_nkorea', 'defend_asia_china', 'defend_asia_nkorea', 'NKorea_nukes', 'nkorea_action', 'Russia_intervene', 'ME_role_Russia', 'ME_role_US', 'ME_role_Egypt', 'ME_role_SaudiArabia', 'ME_role_Turkey', 'ME_role_Israel', 'fav_sisi', 'fav_erdogan', 'fav_assad', 'fav_netanyahu', 'fav_salman', 'fav_rouhani', 'fav_abdullahII', 'own_cell_standalone', 'cell_12months_political', 'internet_action_newspolitics', 'internet_action_infogov', 'socialnetwork_views_politics', 'internetinfluence_politics', 'influ_mil', 'influ_courts', 'influ_civservant', 'influ_corporation', 'influ_banks', 'influ_movimiento', 'influ_colectivo', 'influ_opocision', 'influ_psuv', 'usrole_turkey_coup', 'turkey_coup_Gulen', 'fav_lopez', 'fav_radonski', 'fav_allup', 'maduro_unemp', 'maduro_us', 'maduro_opposition', 'maduro_corrupt', 'maduro_crime', 'maduro_energy', 'maduro_prices', 'influence_humanrightsorgs', 'fav_PRI', 'fav_PAN', 'fav_MORENA', 'fav_PRD', 'fav_nieto', 'nieto_econ', 'nieto_crime', 'nieto_corrupt', 'nieto_educ', 'nieto_us', 'nieto_police', 'us_better_life', 'mex_live_US', 'mex_wo_auth', 'US_mex_econ', 'fav_rahul_gandhi', 'fav_sonia_gandhi', 'fav_modi', 'fav_kejriwal', 'fav_INC', 'fav_AAP', 'modi_unemployment', 'modi_terrorism', 'modi_corruption', 'modi_poor', 'modi_communal_rel', 'modi_airpollution', 'modi_prices', 'modi_kashmir', 'modi_china', 'modi_russia', 'modi_pakistan', 'modi_US', 'Kashmir_military', 'humanrights_priority_religion', 'humanrights_priority_speech', 'humanrights_priority_gender', 'humanrights_priority_enviro', 'humanrights_priority_lgbt', 'humanrights_priority_govtaccountable', 'isr_pal_coexist', 'jewish_settlements', 'gov_care', 'russia_world_role', 'putin_ukr', 'putin_econ', 'putin_civsociety', 'putin_eu', 'putin_energy', 'putin_us', 'putin_china', 'putin_corrupt', 'sanc_effrus', 'russia_syria', 'Russia_Syria_extremists', 'Russia_Syria_Assad', 'Russ_imp_event_1998_financial_crisis', 'Russ_imp_event_All', 'Russ_imp_event_None', 'Russ_imp_event_USSR_Dissolution', 'Russ_imp_event_WWII', 'Russ_imp_event_revolution', 'duterte_USrelations', 'duterte_econ', 'duterte_Chinarelations', 'duterte_corruption', 'duterte_terrorism', 'duterte_crime', 'duterte_drugtraffick', 'Phil_USmilitary', 'Phil_drugcampaign', 'China_tough_econ', 'trustpeople', 'favgaymarriage', 'legalabortion', 'state_religion', 'church_morality', 'church_rules', 'church_community', 'church_corrupt', 'church_poor', 'church_politics', 'italy_pride_italian', 'italy_pride_europe', 'nationality_born', 'nationality_lang', 'participation_commgroup', 'participation_politicalparty', 'participation_arts', 'participation_club', 'participation_Scouts', 'participation_study', 'participation_religious', 'participation_charity', 'jews_infamily', 'jews_asneighbors', 'migrant_muslim', 'migrant_easteurope', 'muslims_infamily', 'muslims_asneighbors', 'stayintouch', 'wouldmove', 'planmove', 'female', 'travel_us', 'friends_abroad', 'friends_abroad_intouch', 'friends_us', 'friends_us_intouch', 'receive_money', 'd_relig_practice_incense', 'd_relig_practice_diet', 'd_relig_practice_gods', 'd_relig_practice_spirits', 'd_relig_practice_offerings', 'd_relig_practice_ancestralRites', 'd_relig_practice_meditate', 'd_relig_practice_templeRites', 'd_relig_practice_homeRites', 'd_relig_practice_imptEvents', 'd_relig_belief_God', 'd_relig_belief_Heaven', 'd_relig_belief_Hell', 'd_relig_belief_Reincarn', 'd_relig_belief_Angels', 'd_relig_belief_Demons', 'd_relig_belief_Afterlife', 'd_relig_belief_DivineJustice', 'd_relig_belief_Karma', 'd_relig_belief_magic', 'd_relig_belief_miracles', 'd_relig_belief_gods', 'd_relig_commune_divine', 'relig_rituals_import', 'pray_salah', 'pray_salahA', 'pray_muslim', 'religion_import', 'rel_income', 'country_born', 'd_tenure5', 'd_tenure1', 'd_working_cell', 'd_hhcell', 'd_density']\n",
      "\n",
      "The shinkage coefficient hyperparameter chosen by CV: 0.007261815840521891\n",
      "The error is : 0.8509204420975898\n",
      "\n",
      "Let's work on RESPONSE\n",
      "\n"
     ]
    },
    {
     "name": "stdout",
     "output_type": "stream",
     "text": [
      "The error is : 0.4954022012073608\n",
      "The error is : 0.4930872249832149\n",
      "The error is : 0.493666986764874\n",
      "The error is : 0.4893020293975287\n",
      "The error is : 0.4949208074475614\n",
      "The error is : 0.49173178924623256\n",
      "The error is : 0.4946317463069013\n",
      "The error is : 0.4933771910329651\n",
      "The error is : 0.49240997349614524\n",
      "The error is : 0.4873494995445579\n",
      "The error is : 0.49240997349614524\n",
      "The error is : 0.49173178924623256\n",
      "The error is : 0.49202255410218\n",
      "The error is : 0.4949208074475614\n",
      "The error is : 0.48822910429031685\n",
      "The error is : 0.4933771910329651\n",
      "The error is : 0.4937635475456048\n",
      "The error is : 0.49202255410218\n",
      "Accuracy for RESPONSE is: 0.7624904652936689\n",
      "Valuable features for RESPONSE include: \n",
      "\n",
      "Model coefficients:\n",
      "[['desc_day', 0.0017602568645275138], ['nostalgia50', 0.05864655091316339], ['econ_sit', 0.1391499390647608], ['improve_econ', 0.02079668449989956], ['children_betteroff2', 0.03725154582911686], ['satisfied_democracy', 0.020974380325129074], ['fav_Iran', -0.022800081648498487], ['fav_EU', 0.003641175018383686], ['fav_Japan', 0.003418669196634481], ['fav_Turkey', -0.008074104717261854], ['fav_Cuba', -0.059414291292182356], ['NAFTA_goodbad', 0.011473318934198992], ['intthreat_isis', 0.0017754370463897314], ['intthreat_econcondition', -0.010221152093593443], ['concern_country', 0.008429534217315099], ['econ_power_china', -0.007572009894507904], ['econ_power_us', -0.003092971988436936], ['global_culture', -0.006097753691096621], ['global_money', 0.0028671652507410938], ['polsys_directdemocracy', -0.011840940055631988], ['polsys_republic', 0.018894112062523283], ['polsys_autocracy', 0.005652251766874888], ['polsys_technocracy', -0.0005102788075580526], ['confid_trump', 0.019425091731563378], ['confid_xi', 0.010518487916454891], ['confid_putin', 0.009483344142909382], ['confid_merkel', 0.018501926820508368], ['confid_castro', -0.028814395681848945], ['Obama_pastapproval', -0.009067973073399942], ['Trump_futureapproval', 0.01149604445449369], ['Trump_relations', 0.008693457790886783], ['Trump_personality_dangerous', -0.02080740147861958], ['Trump_personality_arrogant', -0.0011734655644786713], ['Trump_policy_thewall', 0.009014768390135408], ['china_rights', -0.005256416086304778], ['china_environ', -0.013549251479989529], ['mfollow_othercountries', 0.00224863865689721], ['mfollow_US', 0.004121760363524852], ['medwell_accuracy', 0.01733197766599578], ['medwell_leaders', 0.018520435145262013], ['medwell_unbiased', 0.01955241957462084], ['medwell_coverage', 0.008201974056730912], ['diversity_goodbad', 0.004455337262808353], ['EUexit_referendum', -0.04134211726784162], ['eu_approve_econ', 0.02673943057619879], ['EU_germanyinfluence', -0.021745606559513558], ['ME_role_Egypt', -0.010937561875441287], ['ME_role_Iran', -0.029270834454206387], ['ME_role_Israel', 0.005988438851955105], ['use_internet', -0.014723510013063565], ['onlinenews', 0.007570687640017544], ['influ_gov', 0.01168896709365847], ['influ_corporation', 0.00249808292302889], ['influ_teachers', -0.030690697756445597], ['influ_humanrights', 0.004353901559936282], ['fav_maduro', 0.07682399088475164], ['fav_modi', 0.005917572009719235], ['fav_BJP', 0.001150373590533431], ['humanrights_priority_speech', 0.0006233691949455164], ['humanrights_priority_poor', 0.008676281483162688], ['humanrights_priority_police', 0.008860660028924203], ['humanrights_priority_justice', 0.0006795235688658603], ['humanrights_motive', 0.0060215395328198475], ['Russia_Syria_civilians', 0.0020887218358699483], ['fav_Duterte', 0.023535562215109912], ['nationality_lang', -0.0006925904583635314], ['planmove', -0.007483151688002656], ['age', 0.0008303749986576304], ['muslim_branch', 0.015552543764753523], ['muslim_branch_Alevi', -0.10390931500574313], ['pray_several', 0.005486232779790578], ['pray_severalA', -0.004097654837943684], ['religion_import', -0.00260221797835984], ['country_national', -0.003424535277433443], ['d_hhpeople', 0.0047771370227725025], ['d_adult_us', -0.009717637259786579], ['political_scale2', -0.010607559879211276], ['d_political_scale_us', 0.010104338155385148], ['d_homephone_us', -0.0020951689422388908], ['d_working_cell', 0.030439734584414187], ['d_numcell', -0.005767449275993365]]\n",
      "\n",
      "Model features removed include:\n",
      " ['country_satis', 'personal_econ', 'fav_US', 'fav_Americans', 'fav_China', 'fav_Russia', 'fav_Germany', 'fav_Britain', 'fav_NATO', 'fav_India', 'fav_Saudi', 'fav_SKorea', 'fav_NKorea', 'country_respect', 'intthreat_chpower', 'intthreat_climatechange', 'intthreat_USpower', 'intthreat_ruspower', 'intthreat_cyber', 'intthreat_refugee', 'nato_def', 'us_def_milforce', 'econ_power_eu', 'econ_power_japan', 'econ_power_none', 'respect_china', 'respect_us', 'respect_france', 'respect_russia', 'global_trade', 'global_movement', 'global_information', 'polsys_junta', 'American_customs', 'American_democracy', 'American_entertainment', 'Trump_personality_qualified', 'Trump_personality_strong', 'Trump_personality_charismatic', 'Trump_personality_intolerant', 'Trump_personality_ordinarypeople', 'Trump_policy_climatechange', 'Trump_policy_nuclear', 'Trump_policy_trade', 'Trump_policy_muslims', 'china_jobloss', 'china_deficit', 'china_taiwan', 'china_debt', 'china_terrdisputes', 'china_cyber', 'mfollow_city', 'mfollow_country', 'mediabias', 'EU_leavestay', 'eu_approve_refugee', 'Brexit_policy_trade', 'Brexit_policy_EUpeoplemove', 'Brexit_policy_nonEUmove', 'Brexit_country_EU', 'Brexit_country_UK', 'china_econ', 'china_military', 'china_territorial', 'China_econ_military', 'us_def_china', 'us_def_nkorea', 'defend_asia_china', 'defend_asia_nkorea', 'NKorea_nukes', 'nkorea_action', 'Russia_intervene', 'ME_role_Russia', 'ME_role_US', 'ME_role_SaudiArabia', 'ME_role_Turkey', 'fav_sisi', 'fav_erdogan', 'fav_assad', 'fav_netanyahu', 'fav_salman', 'fav_rouhani', 'fav_abdullahII', 'own_cell_standalone', 'cell_12months_political', 'internet_action_newspolitics', 'internet_action_infogov', 'socialnetwork_views_politics', 'internetinfluence_politics', 'influ_mil', 'influ_news', 'influ_relleaders', 'influ_courts', 'influ_civservant', 'influ_banks', 'influ_police', 'influ_movimiento', 'influ_colectivo', 'influ_opocision', 'influ_psuv', 'usrole_turkey_coup', 'turkey_coup_Gulen', 'fav_lopez', 'fav_radonski', 'fav_allup', 'maduro_unemp', 'maduro_us', 'maduro_opposition', 'maduro_corrupt', 'maduro_crime', 'maduro_energy', 'maduro_prices', 'influence_humanrightsorgs', 'fav_PRI', 'fav_PAN', 'fav_MORENA', 'fav_PRD', 'fav_nieto', 'nieto_econ', 'nieto_crime', 'nieto_corrupt', 'nieto_educ', 'nieto_us', 'nieto_police', 'us_better_life', 'mex_live_US', 'mex_wo_auth', 'US_mex_econ', 'fav_rahul_gandhi', 'fav_sonia_gandhi', 'fav_kejriwal', 'fav_INC', 'fav_AAP', 'modi_unemployment', 'modi_terrorism', 'modi_corruption', 'modi_poor', 'modi_communal_rel', 'modi_airpollution', 'modi_prices', 'modi_kashmir', 'modi_china', 'modi_russia', 'modi_pakistan', 'modi_US', 'Kashmir_military', 'humanrights_priority_religion', 'humanrights_priority_gender', 'humanrights_priority_enviro', 'humanrights_priority_lgbt', 'humanrights_priority_election', 'humanrights_priority_govtaccountable', 'isr_pal_coexist', 'jewish_settlements', 'gov_care', 'russia_world_role', 'putin_ukr', 'putin_econ', 'putin_civsociety', 'putin_eu', 'putin_energy', 'putin_us', 'putin_china', 'putin_corrupt', 'sanc_effrus', 'russia_syria', 'Russia_Syria_extremists', 'Russia_Syria_Assad', 'Russ_imp_event_1998_financial_crisis', 'Russ_imp_event_All', 'Russ_imp_event_None', 'Russ_imp_event_USSR_Dissolution', 'Russ_imp_event_WWII', 'Russ_imp_event_revolution', 'duterte_USrelations', 'duterte_econ', 'duterte_Chinarelations', 'duterte_corruption', 'duterte_terrorism', 'duterte_crime', 'duterte_drugtraffick', 'Phil_USmilitary', 'Phil_drugcampaign', 'China_tough_econ', 'trustpeople', 'favgaymarriage', 'legalabortion', 'state_religion', 'church_morality', 'church_rules', 'church_community', 'church_corrupt', 'church_poor', 'church_politics', 'italy_pride_italian', 'italy_pride_europe', 'nationality_born', 'participation_commgroup', 'participation_politicalparty', 'participation_arts', 'participation_club', 'participation_Scouts', 'participation_study', 'participation_religious', 'participation_charity', 'jews_infamily', 'jews_asneighbors', 'migrant_muslim', 'migrant_easteurope', 'muslims_infamily', 'muslims_asneighbors', 'stayintouch', 'wouldmove', 'female', 'travel_us', 'friends_abroad', 'friends_abroad_intouch', 'friends_us', 'friends_us_intouch', 'receive_money', 'd_relig_practice_incense', 'd_relig_practice_diet', 'd_relig_practice_gods', 'd_relig_practice_spirits', 'd_relig_practice_offerings', 'd_relig_practice_ancestralRites', 'd_relig_practice_meditate', 'd_relig_practice_templeRites', 'd_relig_practice_homeRites', 'd_relig_practice_imptEvents', 'd_relig_belief_God', 'd_relig_belief_Heaven', 'd_relig_belief_Hell', 'd_relig_belief_Reincarn', 'd_relig_belief_Angels', 'd_relig_belief_Demons', 'd_relig_belief_Afterlife', 'd_relig_belief_DivineJustice', 'd_relig_belief_Karma', 'd_relig_belief_magic', 'd_relig_belief_miracles', 'd_relig_belief_gods', 'd_relig_commune_divine', 'relig_rituals_import', 'pray_salah', 'pray_salahA', 'pray_muslim', 'rel_income', 'country_born', 'd_tenure5', 'd_tenure1', 'd_hhcell', 'd_density']\n",
      "\n",
      "The shinkage coefficient hyperparameter chosen by CV: 0.002662444581830111\n",
      "The error is : 0.4873494995445579\n"
     ]
    },
    {
     "data": {
      "text/plain": [
       "[['trust_gov', 0.4622425629290618, 11], ['RESPONSE', 0.7624904652936689, 11]]"
      ]
     },
     "execution_count": 10,
     "metadata": {},
     "output_type": "execute_result"
    }
   ],
   "source": [
    "modelStatus = []\n",
    "graphs = []\n",
    "\n",
    "dataset = trainI.drop(columns=['Country', 'ID']).copy()\n",
    "datasetTest = testI.drop(columns=['Country', 'ID']).copy()\n",
    "\n",
    "for idx in range(0, len(allVars)): \n",
    "    \n",
    "    print(\"\\nLet's work on \" + allVars[idx] + \"\\n\")\n",
    "    \n",
    "    ytrain = dataset[allVars[idx]]\n",
    "    xtrain = dataset.drop(columns=['trust_gov', 'RESPONSE'])\n",
    "    \n",
    "    ytest = datasetTest[allVars[idx]]\n",
    "    xtest = datasetTest.drop(columns=['trust_gov', 'RESPONSE'])\n",
    "    \n",
    "    scatter, highestVal, bestCross, features = regression_lasso_cross(allVars[idx], xtrain, xtest, ytrain, ytest, 33)\n",
    "    \n",
    "    graphs.append(scatter)\n",
    "    modelStatus.append([allVars[idx], highestVal, bestCross])\n",
    "    \n",
    "    print(\"Accuracy for \" + allVars[idx] + \" is: \" + str(highestVal))\n",
    "    print(\"Valuable features for \" + allVars[idx] + \" include: \\n\")\n",
    "    f = regression_lasso(xtrain, xtest, ytrain, ytest, bestCross, 33, True, xtrain.columns )\n",
    "\n",
    "modelStatus"
   ]
  },
  {
   "cell_type": "code",
   "execution_count": 11,
   "metadata": {},
   "outputs": [
    {
     "data": {
      "text/plain": [
       "[[['trust_gov', 2, 0.4376430205949657],\n",
       "  ['trust_gov', 3, 0.4506102212051869],\n",
       "  ['trust_gov', 4, 0.4545194508009153],\n",
       "  ['trust_gov', 5, 0.4583333333333333],\n",
       "  ['trust_gov', 6, 0.45585430968726165],\n",
       "  ['trust_gov', 7, 0.4545194508009153],\n",
       "  ['trust_gov', 8, 0.4595728451563692],\n",
       "  ['trust_gov', 9, 0.4520404271548436],\n",
       "  ['trust_gov', 10, 0.4595728451563692],\n",
       "  ['trust_gov', 11, 0.4622425629290618],\n",
       "  ['trust_gov', 12, 0.4567124332570557],\n",
       "  ['trust_gov', 13, 0.4583333333333333],\n",
       "  ['trust_gov', 14, 0.4595728451563692],\n",
       "  ['trust_gov', 15, 0.4583333333333333],\n",
       "  ['trust_gov', 16, 0.46167048054919907],\n",
       "  ['trust_gov', 17, 0.4583333333333333],\n",
       "  ['trust_gov', 18, 0.45585430968726165],\n",
       "  ['trust_gov', 19, 0.4567124332570557]],\n",
       " [['RESPONSE', 2, 0.7545766590389016],\n",
       "  ['RESPONSE', 3, 0.7568649885583524],\n",
       "  ['RESPONSE', 4, 0.7562929061784897],\n",
       "  ['RESPONSE', 5, 0.76058352402746],\n",
       "  ['RESPONSE', 6, 0.7550533943554538],\n",
       "  ['RESPONSE', 7, 0.7581998474446987],\n",
       "  ['RESPONSE', 8, 0.7553394355453852],\n",
       "  ['RESPONSE', 9, 0.756578947368421],\n",
       "  ['RESPONSE', 10, 0.7575324180015256],\n",
       "  ['RESPONSE', 11, 0.7624904652936689],\n",
       "  ['RESPONSE', 12, 0.7575324180015256],\n",
       "  ['RESPONSE', 13, 0.7581998474446987],\n",
       "  ['RESPONSE', 14, 0.7579138062547673],\n",
       "  ['RESPONSE', 15, 0.7550533943554538],\n",
       "  ['RESPONSE', 16, 0.761632341723875],\n",
       "  ['RESPONSE', 17, 0.756578947368421],\n",
       "  ['RESPONSE', 18, 0.7561975591151793],\n",
       "  ['RESPONSE', 19, 0.7579138062547673]]]"
      ]
     },
     "execution_count": 11,
     "metadata": {},
     "output_type": "execute_result"
    }
   ],
   "source": [
    "graphs"
   ]
  },
  {
   "cell_type": "code",
   "execution_count": 12,
   "metadata": {},
   "outputs": [
    {
     "data": {
      "text/plain": [
       "Text(0.5, 0, '# CV')"
      ]
     },
     "execution_count": 12,
     "metadata": {},
     "output_type": "execute_result"
    },
    {
     "data": {
      "image/png": "[encoded data removed]",
      "text/plain": [
       "<Figure size 432x288 with 1 Axes>"
      ]
     },
     "metadata": {
      "needs_background": "light"
     },
     "output_type": "display_data"
    }
   ],
   "source": [
    "x = np.array(graphs[0])[:,1]\n",
    "y = np.array(graphs[0])[:,2]\n",
    "plt.plot(x, y)\n",
    "plt.title(\"Trust in Government Accuracy on Unique CV Values\")\n",
    "plt.ylabel('accuracy')\n",
    "plt.xlabel('# CV')"
   ]
  },
  {
   "cell_type": "code",
   "execution_count": 13,
   "metadata": {},
   "outputs": [
    {
     "data": {
      "text/plain": [
       "Text(0.5, 0, '# CV')"
      ]
     },
     "execution_count": 13,
     "metadata": {},
     "output_type": "execute_result"
    },
    {
     "data": {
      "image/png": "[encoded data removed]",
      "text/plain": [
       "<Figure size 432x288 with 1 Axes>"
      ]
     },
     "metadata": {
      "needs_background": "light"
     },
     "output_type": "display_data"
    }
   ],
   "source": [
    "x = np.array(graphs[1])[:,1]\n",
    "y = np.array(graphs[1])[:,2]\n",
    "plt.plot(x, y)\n",
    "plt.title(\"Response Accuracy on Unique CV Values\")\n",
    "plt.ylabel('accuracy')\n",
    "plt.xlabel('# CV')"
   ]
  },
  {
   "cell_type": "code",
   "execution_count": 42,
   "metadata": {},
   "outputs": [
    {
     "name": "stdout",
     "output_type": "stream",
     "text": [
      "[[0.43764302 0.45061022 0.45451945 0.45833333 0.45585431 0.45451945\n",
      "  0.45957285 0.45204043 0.45957285 0.46224256 0.45671243 0.45833333\n",
      "  0.45957285 0.45833333 0.46167048 0.45833333 0.45585431 0.45671243]\n",
      " [0.75457666 0.75686499 0.75629291 0.76058352 0.75505339 0.75819985\n",
      "  0.75533944 0.75657895 0.75753242 0.76249047 0.75753242 0.75819985\n",
      "  0.75791381 0.75505339 0.76163234 0.75657895 0.75619756 0.75791381]]\n"
     ]
    },
    {
     "data": {
      "image/png": "[encoded data removed]",
      "text/plain": [
       "<Figure size 432x288 with 1 Axes>"
      ]
     },
     "metadata": {
      "needs_background": "light"
     },
     "output_type": "display_data"
    }
   ],
   "source": [
    "import pylab as plt\n",
    "\n",
    "x = np.array(graphs)[:,:,1]\n",
    "y = np.array(graphs)[:,:,2].astype(float)\n",
    "print(y)\n",
    "labels=['trust_government', 'response']\n",
    "colors=['r','g']\n",
    "\n",
    "plt.figure()\n",
    "\n",
    "# loop over data, labels and colors\n",
    "for i in range(len(y)):\n",
    "    plt.plot(x[i],y[i],'o-',color=colors[i],label=labels[i])\n",
    "\n",
    "plt.xlabel('# CV')\n",
    "plt.ylabel('accuracy')\n",
    "plt.title('Trust in government accuracy on unique CV values')\n",
    "plt.legend()\n",
    "#plt.yticks(np.arange(.4, .8, step=.05))\n",
    "plt.show()"
   ]
  },
  {
   "cell_type": "code",
   "execution_count": 37,
   "metadata": {},
   "outputs": [],
   "source": [
    "valuableFeatures = f[4]"
   ]
  },
  {
   "cell_type": "code",
   "execution_count": 16,
   "metadata": {},
   "outputs": [],
   "source": [
    "df = pd.DataFrame(valuableFeatures, columns=['attributes', 'values'])"
   ]
  },
  {
   "cell_type": "code",
   "execution_count": 17,
   "metadata": {},
   "outputs": [],
   "source": [
    "df.to_csv(\"/Users/natalie_kraft/Desktop/Lasso-TG.csv\")"
   ]
  },
  {
   "cell_type": "markdown",
   "metadata": {},
   "source": [
    "## Drop Invaluable Features \n",
    "### To ensure that only relevant features are utilized across all models\n",
    "### Rerun model to determine accuracy"
   ]
  },
  {
   "cell_type": "markdown",
   "metadata": {},
   "source": [
    "## Trust in Government \n",
    "\n",
    "1-4 ordinal responses "
   ]
  },
  {
   "cell_type": "code",
   "execution_count": 18,
   "metadata": {},
   "outputs": [],
   "source": [
    "trustGovGraph = []\n",
    "variable = 'trust_gov'"
   ]
  },
  {
   "cell_type": "code",
   "execution_count": 19,
   "metadata": {},
   "outputs": [
    {
     "name": "stdout",
     "output_type": "stream",
     "text": [
      "The error is : 0.9991415079258853\n",
      "The error is : 0.9991415079258853\n",
      "The error is : 0.9991415079258853\n",
      "The error is : 0.9991415079258853\n",
      "The error is : 0.9991415079258853\n",
      "The error is : 0.9991415079258853\n",
      "The error is : 0.9991415079258853\n",
      "The error is : 0.9991415079258853\n",
      "The error is : 0.9991415079258853\n",
      "The error is : 0.9991415079258853\n",
      "The error is : 0.9991415079258853\n",
      "The error is : 0.9991415079258853\n",
      "The error is : 0.9991415079258853\n",
      "The error is : 0.9991415079258853\n",
      "The error is : 0.9991415079258853\n",
      "The error is : 0.9991415079258853\n",
      "The error is : 0.9991415079258853\n",
      "The error is : 0.9991415079258853\n"
     ]
    }
   ],
   "source": [
    "testIQ = testI[['econ_sit', 'age', variable]]\n",
    "trainIQ = trainI[['econ_sit', 'age', variable]]\n",
    "\n",
    "ytrain = trainIQ[variable]\n",
    "xtrain = trainIQ.drop(columns=[variable])\n",
    "    \n",
    "ytest = testIQ[variable]\n",
    "xtest = testIQ.drop(columns=[variable])\n",
    "\n",
    "scatter, highestVal, bestCross, features = regression_lasso_cross(variable, xtrain, xtest, ytrain, ytest, 33)\n",
    "trustGovGraph.append([2, highestVal])"
   ]
  },
  {
   "cell_type": "code",
   "execution_count": 20,
   "metadata": {},
   "outputs": [
    {
     "name": "stdout",
     "output_type": "stream",
     "text": [
      "The error is : 0.9654599375028254\n",
      "The error is : 0.9643235496796805\n",
      "The error is : 0.9648672064917712\n",
      "The error is : 0.9648672064917712\n",
      "The error is : 0.964966020277323\n",
      "The error is : 0.9655093153285835\n",
      "The error is : 0.9655093153285835\n",
      "The error is : 0.9653611742743431\n",
      "The error is : 0.965262400940655\n",
      "The error is : 0.9656080634050707\n",
      "The error is : 0.9656080634050707\n",
      "The error is : 0.9653611742743431\n",
      "The error is : 0.9653611742743431\n",
      "The error is : 0.9653611742743431\n",
      "The error is : 0.9655093153285835\n",
      "The error is : 0.9654105571515411\n",
      "The error is : 0.9654105571515411\n",
      "The error is : 0.9655093153285835\n"
     ]
    }
   ],
   "source": [
    "testIQ = testI[['econ_sit', 'age', 'nostalgia50', 'medwell_accuracy', 'medwell_unbiased', 'Trump_futureapproval', 'd_hhpeople', \n",
    "                'medwell_leaders', 'children_betteroff2', 'pray_several', variable]]\n",
    "trainIQ = trainI[['econ_sit', 'age', 'nostalgia50', 'medwell_accuracy', 'medwell_unbiased', 'Trump_futureapproval', 'd_hhpeople', \n",
    "                  'medwell_leaders', 'children_betteroff2', 'pray_several', variable]]\n",
    "\n",
    "ytrain = trainIQ[variable]\n",
    "xtrain = trainIQ.drop(columns=[variable])\n",
    "    \n",
    "ytest = testIQ[variable]\n",
    "xtest = testIQ.drop(columns=[variable])\n",
    "\n",
    "scatter, highestVal, bestCross, features = regression_lasso_cross(variable, xtrain, xtest, ytrain, ytest, 33)\n",
    "trustGovGraph.append([10, highestVal])"
   ]
  },
  {
   "cell_type": "code",
   "execution_count": 21,
   "metadata": {},
   "outputs": [
    {
     "name": "stdout",
     "output_type": "stream",
     "text": [
      "The error is : 0.9375524394182113\n",
      "The error is : 0.9340883129308108\n",
      "The error is : 0.9340883129308108\n",
      "The error is : 0.9338330905667116\n",
      "The error is : 0.9338330905667116\n",
      "The error is : 0.9335777984296884\n",
      "The error is : 0.9335267316244957\n",
      "The error is : 0.9334756620256378\n",
      "The error is : 0.9330670046077716\n",
      "The error is : 0.9327603940497563\n",
      "The error is : 0.9332202721103151\n",
      "The error is : 0.9327603940497563\n",
      "The error is : 0.9330670046077716\n",
      "The error is : 0.9327603940497563\n",
      "The error is : 0.9330670046077716\n",
      "The error is : 0.9334756620256378\n",
      "The error is : 0.9340883129308108\n",
      "The error is : 0.9330670046077716\n"
     ]
    }
   ],
   "source": [
    "testIQ = testI[['econ_sit', 'age', 'nostalgia50', 'medwell_accuracy', 'medwell_unbiased', 'Trump_futureapproval', \n",
    "                'd_hhpeople', 'medwell_leaders', 'children_betteroff2', 'pray_several', 'political_scale2', 'confid_merkel', \n",
    "                'onlinenews', 'medwell_coverage', 'confid_xi', 'd_relig_commune_divine', \n",
    "                'fav_maduro', 'confid_castro', 'confid_trump', 'mfollow_othercountries', variable]]\n",
    "trainIQ = trainI[['econ_sit', 'age', 'nostalgia50', 'medwell_accuracy', 'medwell_unbiased', 'Trump_futureapproval', 'd_hhpeople',\n",
    "                  'medwell_leaders', 'children_betteroff2', 'pray_several', 'political_scale2', 'confid_merkel', 'onlinenews', \n",
    "                  'medwell_coverage', 'confid_xi', 'd_relig_commune_divine', \n",
    "                  'fav_maduro', 'confid_castro', 'confid_trump', 'mfollow_othercountries', variable]]\n",
    "\n",
    "ytrain = trainIQ[variable]\n",
    "xtrain = trainIQ.drop(columns=[variable])\n",
    "    \n",
    "ytest = testIQ[variable]\n",
    "xtest = testIQ.drop(columns=[variable])\n",
    "\n",
    "scatter, highestVal, bestCross, features = regression_lasso_cross(variable, xtrain, xtest, ytrain, ytest, 33)\n",
    "trustGovGraph.append([20, highestVal])"
   ]
  },
  {
   "cell_type": "code",
   "execution_count": 22,
   "metadata": {},
   "outputs": [
    {
     "name": "stdout",
     "output_type": "stream",
     "text": [
      "The error is : 0.9241339978984113\n",
      "The error is : 0.9029466974122328\n",
      "The error is : 0.9013084818224193\n",
      "The error is : 0.92051580738191\n",
      "The error is : 0.9007264633109319\n",
      "The error is : 0.9153742362401484\n",
      "The error is : 0.9005147269508575\n",
      "The error is : 0.9016257881099548\n",
      "The error is : 0.9032634282132322\n",
      "The error is : 0.89982623968872\n",
      "The error is : 0.9029466974122328\n",
      "The error is : 0.9304575943367255\n",
      "The error is : 0.9013613739607133\n",
      "The error is : 0.9304575943367255\n",
      "The error is : 0.89982623968872\n",
      "The error is : 0.9021543839155256\n",
      "The error is : 0.9004088400991833\n",
      "The error is : 0.8999851681123824\n"
     ]
    }
   ],
   "source": [
    "testIQ = testI[['econ_sit', 'age', 'nostalgia50', 'medwell_accuracy', 'medwell_unbiased', 'Trump_futureapproval', 'd_hhpeople',\n",
    "                  'medwell_leaders', 'children_betteroff2', 'pray_several', 'political_scale2', 'confid_merkel', 'onlinenews', \n",
    "                  'medwell_coverage', 'confid_xi', 'd_relig_commune_divine', 'fav_maduro', 'confid_castro', 'confid_trump', \n",
    "                  'mfollow_othercountries', 'fav_Cuba', 'polsys_republic', 'd_density', 'Trump_relations', 'Obama_pastapproval',\n",
    "                  'intthreat_econcondition', 'fav_Germany', 'influ_humanrights', 'concern_country', 'd_adult_us', 'NKorea_nukes', \n",
    "                  'confid_putin', 'religion_import', 'fav_BJP', 'intthreat_refugee',\n",
    "                  'relig_rituals_import', 'influ_mil', 'global_money', 'fav_Britain', 'humanrights_priority_police', variable]]\n",
    "trainIQ = trainI[['econ_sit', 'age', 'nostalgia50', 'medwell_accuracy', 'medwell_unbiased', 'Trump_futureapproval', 'd_hhpeople',\n",
    "                  'medwell_leaders', 'children_betteroff2', 'pray_several', 'political_scale2', 'confid_merkel', 'onlinenews', \n",
    "                  'medwell_coverage', 'confid_xi', 'd_relig_commune_divine', 'fav_maduro', 'confid_castro', 'confid_trump', \n",
    "                  'mfollow_othercountries', 'fav_Cuba', 'polsys_republic', 'd_density', 'Trump_relations', 'Obama_pastapproval',\n",
    "                  'intthreat_econcondition', 'fav_Germany', 'influ_humanrights', 'concern_country', 'd_adult_us', 'NKorea_nukes', \n",
    "                  'confid_putin', 'religion_import', 'fav_BJP', 'intthreat_refugee',\n",
    "                  'relig_rituals_import', 'influ_mil', 'global_money', 'fav_Britain', 'humanrights_priority_police', variable]]\n",
    "\n",
    "ytrain = trainIQ[variable]\n",
    "xtrain = trainIQ.drop(columns=[variable])\n",
    "    \n",
    "ytest = testIQ[variable]\n",
    "xtest = testIQ.drop(columns=[variable])\n",
    "\n",
    "scatter, highestVal, bestCross, features = regression_lasso_cross(variable, xtrain, xtest, ytrain, ytest, 33)\n",
    "trustGovGraph.append([40, highestVal])"
   ]
  },
  {
   "cell_type": "code",
   "execution_count": 23,
   "metadata": {},
   "outputs": [
    {
     "name": "stdout",
     "output_type": "stream",
     "text": [
      "The error is : 0.9107795840931632\n",
      "The error is : 0.8786496296162162\n",
      "The error is : 0.8736982252834574\n",
      "The error is : 0.8757692488716763\n",
      "The error is : 0.8766397950596513\n",
      "The error is : 0.8760413874845254\n",
      "The error is : 0.8757692488716763\n",
      "The error is : 0.8745708329669074\n",
      "The error is : 0.8760413874845254\n",
      "The error is : 0.8763134415848958\n",
      "The error is : 0.8763678422703991\n",
      "The error is : 0.8763678422703991\n",
      "The error is : 0.8735890880367281\n",
      "The error is : 0.8763678422703991\n",
      "The error is : 0.8763134415848958\n",
      "The error is : 0.8737527887948475\n",
      "The error is : 0.8741891742828077\n",
      "The error is : 0.8751157709180738\n"
     ]
    }
   ],
   "source": [
    "testIQ = testI[['econ_sit', 'age', 'nostalgia50', 'medwell_accuracy', 'medwell_unbiased', 'Trump_futureapproval', \n",
    "                  'd_hhpeople', 'medwell_leaders', 'children_betteroff2', 'pray_several', 'political_scale2', 'confid_merkel', \n",
    "                  'onlinenews', 'medwell_coverage', 'confid_xi', 'd_relig_commune_divine', 'fav_maduro', 'confid_castro', \n",
    "                  'confid_trump', 'mfollow_othercountries', 'fav_Cuba', 'polsys_republic', 'd_density', 'Trump_relations', \n",
    "                  'Obama_pastapproval', 'intthreat_econcondition', 'fav_Germany', 'influ_humanrights', 'concern_country', \n",
    "                  'd_adult_us', 'NKorea_nukes', 'confid_putin', 'religion_import', 'fav_BJP', 'intthreat_refugee', \n",
    "                  'relig_rituals_import', 'influ_mil', 'global_money', 'fav_Britain', 'humanrights_priority_police', \n",
    "                  'intthreat_isis', 'mfollow_country', 'Kashmir_military', 'fav_EU', 'influence_humanrightsorgs', \n",
    "                  'American_democracy', 'mfollow_US', 'polsys_directdemocracy', 'improve_econ', 'influ_news', \n",
    "                  'humanrights_priority_religion', 'fav_SKorea', 'fav_Americans', 'intthreat_climatechange', 'fav_Japan', \n",
    "                  'humanrights_priority_enviro', 'fav_Saudi', 'humanrights_priority_justice', 'mfollow_city', 'polsys_junta',\n",
    "                  'humanrights_priority_speech', 'Trump_personality_dangerous', 'legalabortion', 'modi_china', \n",
    "                  'Trump_personality_arrogant', 'd_relig_belief_Afterlife', 'd_relig_practice_offerings', 'd_relig_practice_gods',\n",
    "                  'd_relig_belief_Reincarn', 'd_relig_belief_Angels', 'modi_communal_rel', 'Trump_policy_thewall',\n",
    "                  'intthreat_USpower', 'd_relig_belief_gods',\n",
    "                  'd_relig_belief_Demons', 'desc_day', 'Trump_policy_trade', 'd_numcell', 'modi_kashmir', 'fav_India', variable]]\n",
    "trainIQ = trainI[['econ_sit', 'age', 'nostalgia50', 'medwell_accuracy', 'medwell_unbiased', 'Trump_futureapproval', \n",
    "                  'd_hhpeople', 'medwell_leaders', 'children_betteroff2', 'pray_several', 'political_scale2', 'confid_merkel', \n",
    "                  'onlinenews', 'medwell_coverage', 'confid_xi', 'd_relig_commune_divine', 'fav_maduro', 'confid_castro', \n",
    "                  'confid_trump', 'mfollow_othercountries', 'fav_Cuba', 'polsys_republic', 'd_density', 'Trump_relations', \n",
    "                  'Obama_pastapproval', 'intthreat_econcondition', 'fav_Germany', 'influ_humanrights', 'concern_country', \n",
    "                  'd_adult_us', 'NKorea_nukes', 'confid_putin', 'religion_import', 'fav_BJP', 'intthreat_refugee', \n",
    "                  'relig_rituals_import', 'influ_mil', 'global_money', 'fav_Britain', 'humanrights_priority_police', \n",
    "                  'intthreat_isis', 'mfollow_country', 'Kashmir_military', 'fav_EU', 'influence_humanrightsorgs', \n",
    "                  'American_democracy', 'mfollow_US', 'polsys_directdemocracy', 'improve_econ', 'influ_news', \n",
    "                  'humanrights_priority_religion', 'fav_SKorea', 'fav_Americans', 'intthreat_climatechange', 'fav_Japan', \n",
    "                  'humanrights_priority_enviro', 'fav_Saudi', 'humanrights_priority_justice', 'mfollow_city', 'polsys_junta',\n",
    "                  'humanrights_priority_speech', 'Trump_personality_dangerous', 'legalabortion', 'modi_china', \n",
    "                  'Trump_personality_arrogant', 'd_relig_belief_Afterlife', 'd_relig_practice_offerings', 'd_relig_practice_gods',\n",
    "                  'd_relig_belief_Reincarn', 'd_relig_belief_Angels', 'modi_communal_rel', 'Trump_policy_thewall',\n",
    "                  'intthreat_USpower', 'd_relig_belief_gods',\n",
    "                  'd_relig_belief_Demons', 'desc_day', 'Trump_policy_trade', 'd_numcell', 'modi_kashmir', 'fav_India', variable]]\n",
    "\n",
    "ytrain = trainIQ[variable]\n",
    "xtrain = trainIQ.drop(columns=[variable])\n",
    "    \n",
    "ytest = testIQ[variable]\n",
    "xtest = testIQ.drop(columns=[variable])\n",
    "\n",
    "scatter, highestVal, bestCross, features = regression_lasso_cross(variable, xtrain, xtest, ytrain, ytest, 33)\n",
    "trustGovGraph.append([80, highestVal])"
   ]
  },
  {
   "cell_type": "markdown",
   "metadata": {},
   "source": [
    "## RESPONSE\n",
    "\n",
    "binary responses "
   ]
  },
  {
   "cell_type": "code",
   "execution_count": 24,
   "metadata": {},
   "outputs": [],
   "source": [
    "ResponseGraph = []\n",
    "variable = 'RESPONSE'"
   ]
  },
  {
   "cell_type": "code",
   "execution_count": 25,
   "metadata": {},
   "outputs": [
    {
     "name": "stdout",
     "output_type": "stream",
     "text": [
      "The error is : 0.5390013932328388\n",
      "The error is : 0.5390013932328388\n",
      "The error is : 0.5390013932328388\n",
      "The error is : 0.5390013932328388\n",
      "The error is : 0.5390013932328388\n",
      "The error is : 0.5390013932328388\n",
      "The error is : 0.5390013932328388\n",
      "The error is : 0.5390013932328388\n",
      "The error is : 0.5390013932328388\n",
      "The error is : 0.5390013932328388\n",
      "The error is : 0.5390013932328388\n",
      "The error is : 0.5390013932328388\n",
      "The error is : 0.5390013932328388\n",
      "The error is : 0.5390013932328388\n",
      "The error is : 0.5390013932328388\n",
      "The error is : 0.5390013932328388\n",
      "The error is : 0.5390013932328388\n",
      "The error is : 0.5390013932328388\n"
     ]
    }
   ],
   "source": [
    "testIQ = testI[['econ_sit', 'age', variable]]\n",
    "trainIQ = trainI[['econ_sit', 'age', variable]]\n",
    "\n",
    "ytrain = trainIQ[variable]\n",
    "xtrain = trainIQ.drop(columns=[variable])\n",
    "    \n",
    "ytest = testIQ[variable]\n",
    "xtest = testIQ.drop(columns=[variable])\n",
    "\n",
    "scatter, highestVal, bestCross, features = regression_lasso_cross(variable, xtrain, xtest, ytrain, ytest, 33)\n",
    "ResponseGraph.append([2, highestVal])"
   ]
  },
  {
   "cell_type": "code",
   "execution_count": 26,
   "metadata": {},
   "outputs": [
    {
     "name": "stdout",
     "output_type": "stream",
     "text": [
      "The error is : 0.5255667820652041\n",
      "The error is : 0.5256574830378469\n",
      "The error is : 0.5251130422050299\n",
      "The error is : 0.5252945851809653\n",
      "The error is : 0.5246589099379417\n",
      "The error is : 0.5256574830378469\n",
      "The error is : 0.5256574830378469\n",
      "The error is : 0.5257481683629479\n",
      "The error is : 0.5256574830378469\n",
      "The error is : 0.5256574830378469\n",
      "The error is : 0.5251130422050299\n",
      "The error is : 0.5256574830378469\n",
      "The error is : 0.5256574830378469\n",
      "The error is : 0.5255667820652041\n",
      "The error is : 0.5256574830378469\n",
      "The error is : 0.5256574830378469\n",
      "The error is : 0.5257481683629479\n",
      "The error is : 0.5256574830378469\n"
     ]
    }
   ],
   "source": [
    "testIQ = testI[['econ_sit', 'age', 'political_scale2', 'medwell_unbiased', 'confid_castro', 'medwell_accuracy', 'd_hhpeople',\n",
    "                'fav_Cuba', 'nostalgia50', 'intthreat_econcondition', variable]]\n",
    "trainIQ = trainI[['econ_sit', 'age', 'political_scale2', 'medwell_unbiased', 'confid_castro', 'medwell_accuracy', 'd_hhpeople',\n",
    "                'fav_Cuba', 'nostalgia50', 'intthreat_econcondition', variable]]\n",
    "\n",
    "ytrain = trainIQ[variable]\n",
    "xtrain = trainIQ.drop(columns=[variable])\n",
    "    \n",
    "ytest = testIQ[variable]\n",
    "xtest = testIQ.drop(columns=[variable])\n",
    "\n",
    "scatter, highestVal, bestCross, features = regression_lasso_cross(variable, xtrain, xtest, ytrain, ytest, 33)\n",
    "ResponseGraph.append([10, highestVal])"
   ]
  },
  {
   "cell_type": "code",
   "execution_count": 27,
   "metadata": {},
   "outputs": [
    {
     "name": "stdout",
     "output_type": "stream",
     "text": [
      "The error is : 0.5168776174259058\n",
      "The error is : 0.515954456093536\n",
      "The error is : 0.5161392204525804\n",
      "The error is : 0.5158620490978825\n",
      "The error is : 0.5153072591373067\n",
      "The error is : 0.5149370670930202\n",
      "The error is : 0.5157696255462856\n",
      "The error is : 0.5153997656023078\n",
      "The error is : 0.5153072591373067\n",
      "The error is : 0.5152147360628313\n",
      "The error is : 0.5153072591373067\n",
      "The error is : 0.5153072591373067\n",
      "The error is : 0.5152147360628313\n",
      "The error is : 0.5149370670930202\n",
      "The error is : 0.5156771854298435\n",
      "The error is : 0.5153997656023078\n",
      "The error is : 0.5153997656023078\n",
      "The error is : 0.51502964004965\n"
     ]
    }
   ],
   "source": [
    "testIQ = testI[['econ_sit', 'age', 'political_scale2', 'medwell_unbiased', 'confid_castro', \n",
    "                'medwell_accuracy', 'd_hhpeople', 'fav_Cuba', 'nostalgia50', 'intthreat_econcondition',\n",
    "                'influ_gov', 'fav_NKorea', 'medwell_leaders', 'Trump_futureapproval', 'fav_SKorea', 'onlinenews',\n",
    "                'fav_Saudi', 'pray_several', 'd_adult_us', 'fav_EU', variable]]\n",
    "trainIQ = trainI[['econ_sit', 'age', 'political_scale2', 'medwell_unbiased', 'confid_castro', \n",
    "                'medwell_accuracy', 'd_hhpeople', 'fav_Cuba', 'nostalgia50', 'intthreat_econcondition',\n",
    "                'influ_gov', 'fav_NKorea', 'medwell_leaders', 'Trump_futureapproval', 'fav_SKorea', 'onlinenews',\n",
    "                'fav_Saudi', 'pray_several', 'd_adult_us', 'fav_EU', variable]]\n",
    "\n",
    "ytrain = trainIQ[variable]\n",
    "xtrain = trainIQ.drop(columns=[variable])\n",
    "    \n",
    "ytest = testIQ[variable]\n",
    "xtest = testIQ.drop(columns=[variable])\n",
    "\n",
    "scatter, highestVal, bestCross, features = regression_lasso_cross(variable, xtrain, xtest, ytrain, ytest, 33)\n",
    "ResponseGraph.append([20, highestVal])"
   ]
  },
  {
   "cell_type": "code",
   "execution_count": 28,
   "metadata": {},
   "outputs": [
    {
     "name": "stdout",
     "output_type": "stream",
     "text": [
      "The error is : 0.5034207924581345\n",
      "The error is : 0.4996184661787014\n",
      "The error is : 0.5016182812420991\n",
      "The error is : 0.4996184661787014\n",
      "The error is : 0.501808324166607\n",
      "The error is : 0.4975148001355621\n",
      "The error is : 0.4992366407762119\n",
      "The error is : 0.4994275899668913\n",
      "The error is : 0.4979936863761232\n",
      "The error is : 0.49597925696641904\n",
      "The error is : 0.4992366407762119\n",
      "The error is : 0.49741896756217274\n",
      "The error is : 0.49626753322264844\n",
      "The error is : 0.49904561852289164\n",
      "The error is : 0.4954022012073608\n",
      "The error is : 0.4963635881027162\n",
      "The error is : 0.4954022012073608\n",
      "The error is : 0.49501712365114864\n"
     ]
    }
   ],
   "source": [
    "testIQ = testI[['econ_sit', 'age', 'political_scale2', 'medwell_unbiased', 'confid_castro', 'medwell_accuracy', \n",
    "                  'd_hhpeople', 'fav_Cuba', 'nostalgia50', 'intthreat_econcondition', 'influ_gov', 'fav_NKorea', 'medwell_leaders',\n",
    "                  'Trump_futureapproval', 'fav_SKorea', 'onlinenews', 'fav_Saudi', 'pray_several', 'd_adult_us', 'fav_EU',\n",
    "                  'polsys_republic', 'confid_merkel', 'fav_maduro', 'confid_trump', 'fav_Turkey', 'intthreat_USpower', 'fav_Iran',\n",
    "                  'use_internet', 'Trump_relations', 'confid_xi', 'd_density', 'children_betteroff2', 'intthreat_ruspower',\n",
    "                  'improve_econ', 'concern_country', 'd_homephone_us',\n",
    "                  'intthreat_isis', 'mfollow_city', 'polsys_technocracy', 'mfollow_othercountries', variable]]\n",
    "trainIQ = trainI[['econ_sit', 'age', 'political_scale2', 'medwell_unbiased', 'confid_castro', 'medwell_accuracy', \n",
    "                  'd_hhpeople', 'fav_Cuba', 'nostalgia50', 'intthreat_econcondition', 'influ_gov', 'fav_NKorea', 'medwell_leaders',\n",
    "                  'Trump_futureapproval', 'fav_SKorea', 'onlinenews', 'fav_Saudi', 'pray_several', 'd_adult_us', 'fav_EU',\n",
    "                  'polsys_republic', 'confid_merkel', 'fav_maduro', 'confid_trump', 'fav_Turkey', 'intthreat_USpower', 'fav_Iran',\n",
    "                  'use_internet', 'Trump_relations', 'confid_xi', 'd_density', 'children_betteroff2', 'intthreat_ruspower',\n",
    "                  'improve_econ', 'concern_country', 'd_homephone_us',\n",
    "                  'intthreat_isis', 'mfollow_city', 'polsys_technocracy', 'mfollow_othercountries', variable]]\n",
    "ytrain = trainIQ[variable]\n",
    "xtrain = trainIQ.drop(columns=[variable])\n",
    "    \n",
    "ytest = testIQ[variable]\n",
    "xtest = testIQ.drop(columns=[variable])\n",
    "\n",
    "scatter, highestVal, bestCross, features = regression_lasso_cross(variable, xtrain, xtest, ytrain, ytest, 33)\n",
    "ResponseGraph.append([40, highestVal])"
   ]
  },
  {
   "cell_type": "code",
   "execution_count": 29,
   "metadata": {},
   "outputs": [
    {
     "name": "stdout",
     "output_type": "stream",
     "text": [
      "The error is : 0.5017133117025979\n",
      "The error is : 0.49260356893255997\n",
      "The error is : 0.5008573884548315\n",
      "The error is : 0.49221630191599053\n",
      "The error is : 0.5014281662907029\n",
      "The error is : 0.4946317463069013\n",
      "The error is : 0.5014281662907029\n",
      "The error is : 0.5004765082564337\n",
      "The error is : 0.492797088314974\n",
      "The error is : 0.49056700642784357\n",
      "The error is : 0.492797088314974\n",
      "The error is : 0.5008573884548315\n",
      "The error is : 0.5004765082564337\n",
      "The error is : 0.5016182812420991\n",
      "The error is : 0.5008573884548315\n",
      "The error is : 0.5016182812420991\n",
      "The error is : 0.5004765082564337\n",
      "The error is : 0.492797088314974\n"
     ]
    }
   ],
   "source": [
    "testIQ = testI[['econ_sit', 'age', 'political_scale2', 'medwell_unbiased', 'confid_castro', 'medwell_accuracy', \n",
    "                   'd_hhpeople', 'fav_Cuba', 'nostalgia50', 'intthreat_econcondition', 'influ_gov', 'fav_NKorea', \n",
    "                   'medwell_leaders', 'Trump_futureapproval', 'fav_SKorea', 'onlinenews', 'fav_Saudi', 'pray_several', \n",
    "                   'd_adult_us', 'fav_EU', 'polsys_republic', 'confid_merkel', 'fav_maduro', 'confid_trump', 'fav_Turkey', \n",
    "                   'intthreat_USpower', 'fav_Iran', 'use_internet', 'Trump_relations', 'confid_xi', 'd_density',\n",
    "                   'children_betteroff2', 'intthreat_ruspower', 'improve_econ', 'concern_country', 'd_homephone_us',\n",
    "                   'intthreat_isis', 'mfollow_city', 'polsys_technocracy', 'mfollow_othercountries', 'polsys_autocracy', \n",
    "                   'country_born', 'intthreat_cyber', 'medwell_coverage', 'Obama_pastapproval', 'confid_putin',\n",
    "                   'polsys_directdemocracy', 'religion_import', 'mfollow_country', 'fav_Germany', 'influ_mil', 'intthreat_refugee',\n",
    "                   'mfollow_US', 'fav_Britain', 'rel_income', 'd_hhcell', 'd_political_scale_us', 'ME_role_US', \n",
    "                   'ME_role_SaudiArabia', 'mediabias', 'country_national', 'ME_role_Israel', 'fav_US', 'd_relig_commune_divine',\n",
    "                   'NAFTA_goodbad', 'influ_courts', 'humanrights_priority_poor', 'influ_news', 'influ_banks', 'ME_role_Turkey',\n",
    "                   'EU_germanyinfluence', 'legalabortion', 'personal_econ', 'influ_civservant', 'fav_Duterte',\n",
    "                   'fav_NATO', 'own_cell_standalone', 'intthreat_chpower', 'fav_MORENA', 'influ_opocision', variable]]\n",
    "trainIQ = trainI[['econ_sit', 'age', 'political_scale2', 'medwell_unbiased', 'confid_castro', 'medwell_accuracy', \n",
    "                   'd_hhpeople', 'fav_Cuba', 'nostalgia50', 'intthreat_econcondition', 'influ_gov', 'fav_NKorea', \n",
    "                   'medwell_leaders', 'Trump_futureapproval', 'fav_SKorea', 'onlinenews', 'fav_Saudi', 'pray_several', \n",
    "                   'd_adult_us', 'fav_EU', 'polsys_republic', 'confid_merkel', 'fav_maduro', 'confid_trump', 'fav_Turkey', \n",
    "                   'intthreat_USpower', 'fav_Iran', 'use_internet', 'Trump_relations', 'confid_xi', 'd_density',\n",
    "                   'children_betteroff2', 'intthreat_ruspower', 'improve_econ', 'concern_country', 'd_homephone_us',\n",
    "                   'intthreat_isis', 'mfollow_city', 'polsys_technocracy', 'mfollow_othercountries', 'polsys_autocracy', \n",
    "                   'country_born', 'intthreat_cyber', 'medwell_coverage', 'Obama_pastapproval', 'confid_putin',\n",
    "                   'polsys_directdemocracy', 'religion_import', 'mfollow_country', 'fav_Germany', 'influ_mil', 'intthreat_refugee',\n",
    "                   'mfollow_US', 'fav_Britain', 'rel_income', 'd_hhcell', 'd_political_scale_us', 'ME_role_US', \n",
    "                   'ME_role_SaudiArabia', 'mediabias', 'country_national', 'ME_role_Israel', 'fav_US', 'd_relig_commune_divine',\n",
    "                   'NAFTA_goodbad', 'influ_courts', 'humanrights_priority_poor', 'influ_news', 'influ_banks', 'ME_role_Turkey',\n",
    "                   'EU_germanyinfluence', 'legalabortion', 'personal_econ', 'influ_civservant', 'fav_Duterte',\n",
    "                   'fav_NATO', 'own_cell_standalone', 'intthreat_chpower', 'fav_MORENA', 'influ_opocision', variable]]\n",
    "\n",
    "ytrain = trainIQ[variable]\n",
    "xtrain = trainIQ.drop(columns=[variable])\n",
    "    \n",
    "ytest = testIQ[variable]\n",
    "xtest = testIQ.drop(columns=[variable])\n",
    "\n",
    "scatter, highestVal, bestCross, features = regression_lasso_cross(variable, xtrain, xtest, ytrain, ytest, 33)\n",
    "ResponseGraph.append([80, highestVal])"
   ]
  },
  {
   "cell_type": "markdown",
   "metadata": {},
   "source": [
    "## Graph Visualizations"
   ]
  },
  {
   "cell_type": "code",
   "execution_count": 43,
   "metadata": {},
   "outputs": [
    {
     "data": {
      "image/png": "[encoded data removed]",
      "text/plain": [
       "<Figure size 432x288 with 1 Axes>"
      ]
     },
     "metadata": {
      "needs_background": "light"
     },
     "output_type": "display_data"
    },
    {
     "data": {
      "text/plain": [
       "<Figure size 3600x3600 with 0 Axes>"
      ]
     },
     "metadata": {},
     "output_type": "display_data"
    }
   ],
   "source": [
    "graph = []\n",
    "graph.append(trustGovGraph)\n",
    "graph.append(ResponseGraph)\n",
    "\n",
    "x = np.array(graph)[:,:,0]\n",
    "y = np.array(graph)[:,:,1]\n",
    "labels=['trust_government', 'response']\n",
    "colors=['r','g']\n",
    "\n",
    "# loop over data, labels and colors\n",
    "for i in range(len(y)):\n",
    "    plt.plot(x[i],y[i],'o-',color=colors[i],label=labels[i])\n",
    "\n",
    "plt.xlabel('# top features in model')\n",
    "plt.ylabel('accuracy')\n",
    "plt.title('Trust in government accuracy with reduced features')\n",
    "plt.legend()\n",
    "plt.figure(figsize=(50,50))\n",
    "plt.show()"
   ]
  },
  {
   "cell_type": "code",
   "execution_count": 31,
   "metadata": {},
   "outputs": [
    {
     "data": {
      "text/plain": [
       "array([[[ 2.        ,  0.38053013],\n",
       "        [10.        ,  0.42162471],\n",
       "        [20.        ,  0.43430587],\n",
       "        [40.        ,  0.43754767],\n",
       "        [80.        ,  0.44450801]],\n",
       "\n",
       "       [[ 2.        ,  0.7094775 ],\n",
       "        [10.        ,  0.72473303],\n",
       "        [20.        ,  0.73483982],\n",
       "        [40.        ,  0.75495805],\n",
       "        [80.        ,  0.75934401]]])"
      ]
     },
     "execution_count": 31,
     "metadata": {},
     "output_type": "execute_result"
    }
   ],
   "source": [
    "np.array(graph)"
   ]
  },
  {
   "cell_type": "code",
   "execution_count": null,
   "metadata": {},
   "outputs": [],
   "source": []
  }
 ],
 "metadata": {
  "kernelspec": {
   "display_name": "Python 3",
   "language": "python",
   "name": "python3"
  },
  "language_info": {
   "codemirror_mode": {
    "name": "ipython",
    "version": 3
   },
   "file_extension": ".py",
   "mimetype": "text/x-python",
   "name": "python",
   "nbconvert_exporter": "python",
   "pygments_lexer": "ipython3",
   "version": "3.8.3"
  }
 },
 "nbformat": 4,
 "nbformat_minor": 4
}
