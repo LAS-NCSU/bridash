{
 "cells": [
  {
   "cell_type": "markdown",
   "metadata": {},
   "source": [
    "# Scraping Data"
   ]
  },
  {
   "cell_type": "code",
   "execution_count": 3,
   "metadata": {},
   "outputs": [],
   "source": [
    "import pandas as pd \n",
    "\n",
    "# Used to grab URLs and direct people to certain websites. \n",
    "import urllib.request\n",
    "import urllib\n",
    "\n",
    "# Beautiful Soup used for scrapping from the front end of website. Think scrapping paragraphs to build features. \n",
    "import bs4\n",
    "\n",
    "# Selenium used for webcrawling and jumping to new pages, site navigation. You can also use for scrapping. \n",
    "from selenium import webdriver\n",
    "from selenium.webdriver.chrome.options import Options\n",
    "from selenium.webdriver.chrome.service import Service\n",
    "from selenium.webdriver.common.action_chains import ActionChains\n",
    "from webdriver_manager.chrome import ChromeDriverManager\n",
    "\n",
    "# Scrapy used for scrapping \n",
    "import scrapy"
   ]
  },
  {
   "cell_type": "markdown",
   "metadata": {},
   "source": [
    "## Beautiful Soup"
   ]
  },
  {
   "cell_type": "code",
   "execution_count": 11,
   "metadata": {},
   "outputs": [
    {
     "name": "stdout",
     "output_type": "stream",
     "text": [
      "<title>Online Tutorials Library</title>\n"
     ]
    }
   ],
   "source": [
    "from bs4 import BeautifulSoup\n",
    "import requests\n",
    "url = \"https://www.tutorialspoint.com/index.htm\"\n",
    "req = requests.get(url)\n",
    "soup = BeautifulSoup(req.text, \"html.parser\")\n",
    "print(soup.title)"
   ]
  },
  {
   "cell_type": "markdown",
   "metadata": {},
   "source": [
    "## Selenium Guide "
   ]
  },
  {
   "cell_type": "code",
   "execution_count": 4,
   "metadata": {},
   "outputs": [],
   "source": [
    "options = webdriver.ChromeOptions()\n",
    "\n",
    "options.add_argument('--no-sandbox')\n",
    "options.add_argument('--disable-dev-shm-usage')"
   ]
  },
  {
   "cell_type": "code",
   "execution_count": 8,
   "metadata": {},
   "outputs": [
    {
     "name": "stderr",
     "output_type": "stream",
     "text": [
      "\n",
      "\n",
      "====== WebDriver manager ======\n",
      "Current google-chrome version is 102.0.5005\n",
      "Get LATEST chromedriver version for 102.0.5005 google-chrome\n",
      "Driver [/Users/natalie_kraft/.wdm/drivers/chromedriver/mac64/102.0.5005.61/chromedriver] found in cache\n"
     ]
    }
   ],
   "source": [
    "driver = webdriver.Chrome(service=Service(executable_path=ChromeDriverManager().install()), options=options)\n",
    "action = ActionChains(driver)\n",
    "# navigate to site \n",
    "driver.get('https://canarytokens.org/generate')"
   ]
  },
  {
   "cell_type": "code",
   "execution_count": 9,
   "metadata": {},
   "outputs": [],
   "source": [
    "token_type = 'smtp'"
   ]
  },
  {
   "cell_type": "code",
   "execution_count": 10,
   "metadata": {},
   "outputs": [
    {
     "data": {
      "text/plain": [
       "<selenium.webdriver.common.action_chains.ActionChains at 0x7fd13158cbe0>"
      ]
     },
     "execution_count": 10,
     "metadata": {},
     "output_type": "execute_result"
    }
   ],
   "source": [
    "# select the type of honeytoken of interest\n",
    "action.click(on_element=driver.find_element(\"id\", value=\"dropdown\")).perform()\n",
    "element = driver.find_element(\"xpath\", value=\"//*/li[@data-type=\\\"\" + token_type + \"\\\"]/a/span\")\n",
    "action.click(on_element=element)"
   ]
  },
  {
   "cell_type": "code",
   "execution_count": null,
   "metadata": {},
   "outputs": [],
   "source": [
    "\n",
    "\n",
    "\n",
    "# enter in the developer's email. \n",
    "# this is who will get alerted if the token is triggered \n",
    "inputElement = driver.find_element(\"id\", value=\"endpoints\")\n",
    "inputElement.send_keys(dev_email)\n",
    "\n",
    "# enter in a memo to remember the purpose of this token \n",
    "inputElement = driver.find_element(\"name\", value=\"memo\")\n",
    "inputElement.send_keys(memo)\n",
    "\n",
    "# Rewriting the javascript generation of a token allows for us to grab the smtp token later on \n",
    "# despite an unknown relation, this injected script is needed to generate the smtp token in headless mode\n",
    "if token_type == 'smtp': \n",
    "    time.sleep(10)\n",
    "    driver.execute_script('''   var oldAjax = $.ajax; \n",
    "                                var dataNeeded = null;\n",
    "                                $.ajax = function(e,n) {\n",
    "                                    var oldSuccess = e.success; \n",
    "                                    e.success = function(data) {\n",
    "                                        oldSuccess(data); \n",
    "                                        console.log(data['Hostname']);\n",
    "                                        dataNeeded = data['Hostname'];\n",
    "                                    }; \n",
    "                                    oldAjax(e,n);\n",
    "                                }''' )\n",
    "\n",
    "save = driver.find_element(\"id\", value=\"save\")\n",
    "action.click(on_element=save).perform()\n",
    "\n",
    "print(\"\\n\\n ===== Your token has been generated ===== \")\n",
    "\n",
    "append = {\n",
    "    \"smtp\" : [\"//*[@id=\\\"result_smtp\\\"]\", \".txt\"],\n",
    "    \"ms_word\" : [\"//*[@class=\\\"result ms_word\\\"]/div[1]/div/a\", \".docx\"], \n",
    "    \"adobe_pdf\" : [\"//*[@class=\\\"result adobe_pdf\\\"]/div[1]/div/a\", \".pdf\"], \n",
    "    \"aws_keys\" : [\"//*[@class=\\\"result aws_keys\\\"]/div[1]/div[2]/a\", \".txt\"]\n",
    "}\n",
    "\n",
    "download = driver.find_element(\"xpath\", value=append[token_type][0])\n",
    "time.sleep(5)\n",
    "if token_type != \"smtp\": \n",
    "    href = download.get_attribute('href')\n",
    "    print(href)\n",
    "    download_file(href, name + append[token_type][1])\n",
    "    token_id = re.findall(\"token=(.*)\\&auth\", href)[0]\n",
    "else: \n",
    "    email_address = driver.execute_script(\"return $('#result_smtp').val()\")\n",
    "    print(email_address)\n",
    "    token_id = re.findall(\"(.*)@canarytokens.com\", email_address)[0]\n",
    "\n",
    "    write_file(email_address, name + append[token_type][1])\n",
    "\n",
    "print(\"Token id: \" + token_id)\n",
    "print(\"Your document should be stored in your downloads folder\")"
   ]
  },
  {
   "cell_type": "code",
   "execution_count": null,
   "metadata": {},
   "outputs": [],
   "source": []
  }
 ],
 "metadata": {
  "kernelspec": {
   "display_name": "Python 3",
   "language": "python",
   "name": "python3"
  },
  "language_info": {
   "codemirror_mode": {
    "name": "ipython",
    "version": 3
   },
   "file_extension": ".py",
   "mimetype": "text/x-python",
   "name": "python",
   "nbconvert_exporter": "python",
   "pygments_lexer": "ipython3",
   "version": "3.8.3"
  }
 },
 "nbformat": 4,
 "nbformat_minor": 4
}
