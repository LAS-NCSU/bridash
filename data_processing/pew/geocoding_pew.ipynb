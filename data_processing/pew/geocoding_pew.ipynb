{
 "cells": [
  {
   "cell_type": "markdown",
   "metadata": {},
   "source": [
    "## Geocoding Pew Public Opinion Data \n",
    "\n",
    "This file allows for the geocoding of the Pew Public Opinion Data (as it stands on June 6th with data from 2017-2021). \n",
    "\n",
    "Geocoding will occur at the country and administrative boundary 1 level. \n",
    "\n",
    "*Note: we have been forced to reconsider our geocoding scheme with the adoption of the Pew Public Opinion Data* "
   ]
  },
  {
   "cell_type": "code",
   "execution_count": 3,
   "metadata": {},
   "outputs": [],
   "source": [
    "import pandas as pd\n",
    "import geopandas as gpd\n",
    "import json\n",
    "import requests\n",
    "\n",
    "import numpy as np\n",
    "from fuzzywuzzy import fuzz"
   ]
  },
  {
   "cell_type": "code",
   "execution_count": 4,
   "metadata": {},
   "outputs": [],
   "source": [
    "def load_dict(path): \n",
    "    file = open(path, \"r\")\n",
    "    contents = file.read()\n",
    "    dictionary = json.loads(contents)\n",
    "    file.close()\n",
    "    return dictionary"
   ]
  },
  {
   "cell_type": "markdown",
   "metadata": {},
   "source": [
    "## Grab Data"
   ]
  },
  {
   "cell_type": "code",
   "execution_count": 5,
   "metadata": {},
   "outputs": [
    {
     "name": "stderr",
     "output_type": "stream",
     "text": [
      "/tmp/ipykernel_3703/583155433.py:1: DtypeWarning: Columns (9,24,44,47,48,49,51,53,54,56,57,58,59,60,61,62,63,64,65,66,67,68,69,70,71,72,73,74,75,76,77,78,79,80,81,82,83,84,85,86,87,88,89,90,91,92,93,94,95,96,97,98,99,100) have mixed types. Specify dtype option on import or set low_memory=False.\n",
      "  df = pd.read_csv(\"pew_processed.csv\", index_col=0)\n"
     ]
    }
   ],
   "source": [
    "df = pd.read_csv(\"pew_processed.csv\", index_col=0)\n",
    "countries = pd.read_csv(\"../../data_final/countries.csv\", dtype={'country_id':str}, index_col=0)"
   ]
  },
  {
   "cell_type": "code",
   "execution_count": 6,
   "metadata": {},
   "outputs": [],
   "source": [
    "# map the names to a common value for searching for the geometry \n",
    "# grabs it from txt file for consistency of country naming conventions\n",
    "\n",
    "recipient_mapping = load_dict(\"../country_config.txt\")\n",
    "df['country'] = df['country'].replace(recipient_mapping)"
   ]
  },
  {
   "cell_type": "markdown",
   "metadata": {},
   "source": [
    "## Geocode Country Level"
   ]
  },
  {
   "cell_type": "code",
   "execution_count": 7,
   "metadata": {},
   "outputs": [
    {
     "data": {
      "text/plain": [
       "set()"
      ]
     },
     "execution_count": 7,
     "metadata": {},
     "output_type": "execute_result"
    }
   ],
   "source": [
    "# checking that all conventions of country naming is consistent. \n",
    "set(df['country']).difference(set(countries['country']))\n",
    "\n",
    "# an empty set means all countries are accounted for"
   ]
  },
  {
   "cell_type": "code",
   "execution_count": 8,
   "metadata": {},
   "outputs": [],
   "source": [
    "countries_map = dict(zip(countries['country'], countries['country_id']))\n",
    "df['country_id'] = df['country'].map(countries_map)"
   ]
  },
  {
   "cell_type": "markdown",
   "metadata": {},
   "source": [
    "## Geocode at the Regional Level \n",
    "\n",
    "### Utilize GeoBoundaries to grab up to date information on administrative boundaries\n",
    "\n",
    "Administrative boundaries courtesy of <a href= 'https://www.geoboundaries.org'>geoBoundaries</a>"
   ]
  },
  {
   "cell_type": "code",
   "execution_count": 9,
   "metadata": {},
   "outputs": [],
   "source": [
    "# the following is an example of how to utilize the geoBoundaries API\n",
    "j = requests.get(\"https://www.geoboundaries.org/api/current/gbOpen/RUS/ADM1\")\n",
    "path = j.json()['gjDownloadURL']\n",
    "shape = requests.get(path).json()"
   ]
  },
  {
   "cell_type": "code",
   "execution_count": 10,
   "metadata": {},
   "outputs": [],
   "source": [
    "rus = pd.json_normalize(\n",
    "    shape, \n",
    "    record_path = ['features'])"
   ]
  },
  {
   "cell_type": "markdown",
   "metadata": {},
   "source": [
    "### Geocoding Methodology\n",
    "\n",
    "We need to update Pew's data of regional locations to an ADM1 bound. The following method has been identified to create that pairing. \n",
    "\n",
    "- Utilize a countries ISO3 id to grab the json file of the ADM1 boundaries for each country. \n",
    "- Use fuzzy matching to identify the ADM1 boundaries that can automatically be matched with the correct shapefile. (Utilize a custom matching percent to get the best result) \n",
    "- Identify which regional locations were below your accuracy threshold, and create dictionaries to support the geocoding of those particular locations. *Note: more recent data is typically more accurate, know that they regional locations have changed across years and there will need to be some parsing for consistency*\n",
    "\n"
   ]
  },
  {
   "cell_type": "code",
   "execution_count": 11,
   "metadata": {},
   "outputs": [],
   "source": [
    "# example to identify the changes in regional location over time within pew\n",
    "# know that there is some ambiguity in ADM 1 to be grabbing\n",
    "# df.groupby('survey_year')['regional_location'].value_counts()"
   ]
  },
  {
   "cell_type": "code",
   "execution_count": 12,
   "metadata": {},
   "outputs": [],
   "source": [
    "def load_boundary(iso3): \n",
    "    \n",
    "    j = requests.get(\"https://www.geoboundaries.org/api/current/gbOpen/\" + iso3 + \"/ADM1\")\n",
    "    try: \n",
    "        path = j.json()['gjDownloadURL']\n",
    "        shape = requests.get(path).json()\n",
    "\n",
    "        country_df = pd.json_normalize(\n",
    "                            shape, \n",
    "                            record_path = ['features'])\n",
    "\n",
    "        return country_df\n",
    "    \n",
    "    except: \n",
    "        print(\"The country \" + iso3 + \" is not available within geoboundaries.\")\n",
    "        raise Exception"
   ]
  },
  {
   "cell_type": "code",
   "execution_count": 13,
   "metadata": {},
   "outputs": [],
   "source": [
    "def find_adm(adm_df, entity_df, sim_threshold): \n",
    "\n",
    "    adm_dict = dict(zip(range(0, len(adm_df)), adm_df['properties.shapeName']))\n",
    "    entity_df['fuzzy_matching'] = [[fuzz.partial_ratio(x, y) for x in adm_df['properties.shapeName']] for y in entity_df['regional_location']]\n",
    "    entity_df['adm1'] = [adm_dict[x.index(max(x))] if max(x) > sim_threshold else \"Not found\" for x in entity_df['fuzzy_matching']]\n",
    "    \n",
    "    print(\"There are \" + str(len(entity_df[entity_df['adm1'] == 'Not found'])) + \" instances not identified\")\n",
    "    print(\"Here are the missing elements: \")\n",
    "    print(set(entity_df[entity_df['adm1'] == 'Not found']['regional_location']))\n",
    "    \n",
    "    \n",
    "    return dict(zip(entity_df['regional_location'], adm_df['properties.shapeName']))"
   ]
  },
  {
   "cell_type": "code",
   "execution_count": 45,
   "metadata": {},
   "outputs": [
    {
     "name": "stdout",
     "output_type": "stream",
     "text": [
      "\n",
      "American Samoa:\n",
      "The country American Samoa has no data to gather.\n",
      "\n",
      "United States Minor Outlying Islands:\n",
      "The country United States Minor Outlying Islands has no data to gather.\n",
      "\n",
      "Cook Islands:\n",
      "The country Cook Islands has no data to gather.\n",
      "\n",
      "French Polynesia:\n",
      "The country French Polynesia has no data to gather.\n",
      "\n",
      "Niue:\n",
      "The country Niue has no data to gather.\n",
      "\n",
      "Pitcairn:\n",
      "The country Pitcairn has no data to gather.\n",
      "\n",
      "Samoa:\n",
      "The country Samoa has no data to gather.\n",
      "\n",
      "Tokelau:\n",
      "The country Tokelau has no data to gather.\n",
      "\n",
      "Tonga:\n",
      "The country Tonga has no data to gather.\n",
      "\n",
      "Wallis and Futuna:\n",
      "The country Wallis and Futuna has no data to gather.\n",
      "\n",
      "El Salvador:\n",
      "The country El Salvador has no data to gather.\n",
      "\n",
      "Guatemala:\n",
      "The country Guatemala has no data to gather.\n",
      "\n",
      "Mexico:\n",
      "There are 15 instances not identified\n",
      "Here are the missing elements: \n",
      "{'Circunscripción 3', 'Electoral Region 2', 'Electoral Region 1', 'Circunscripcion 1', 'Circunscripcion 2', 'Electoral Region 4', 'Circunscripcion 5', 'Circunscripcion 3', 'Electoral Region 3', 'Circunscripción 5', 'Circunscripción 1', 'Circunscripcion 4', 'Circunscripción 2', 'Electoral Region 5', 'Circunscripción 4'}\n",
      "--------------\n",
      "encoding adm1_id codes\n",
      "\n",
      "Canada:\n",
      "There are 5 instances not identified\n",
      "Here are the missing elements: \n",
      "{'Montreal', 'Atlantic Region', 'Toronto', 'Refused', 'Vancouver'}\n",
      "--------------\n",
      "encoding adm1_id codes\n",
      "\n",
      "Argentina:\n",
      "There are 10 instances not identified\n",
      "Here are the missing elements: \n",
      "{'AMBA', 'South', 'Centro- Mar del Plata', 'North', 'Centro- Gran Rosario', 'CENTRO', 'Central', 'NORTE', 'Centro- La Plata', 'SUR'}\n",
      "--------------\n",
      "encoding adm1_id codes\n",
      "\n",
      "Falkland Islands:\n",
      "The country Falkland Islands has no data to gather.\n",
      "\n",
      "Chile:\n",
      "There are 4 instances not identified\n",
      "Here are the missing elements: \n",
      "{'NORTE', 'METROPOLITANA SGO', 'SUR', 'CENTRAL'}\n",
      "--------------\n",
      "encoding adm1_id codes\n",
      "\n",
      "Ecuador:\n",
      "The country Ecuador has no data to gather.\n",
      "\n",
      "Peru:\n",
      "There are 17 instances not identified\n",
      "Here are the missing elements: \n",
      "{'AREQUIPA', 'JUNIN', 'PIURA', 'LIMA', 'ANCASH', 'LA LIBERTAD', 'AYACUCHO', 'PUNO', 'CAJAMARCA', 'LIMA PROVINCIAS', 'LORETO', 'LAMBAYEQUE', 'CALLAO', 'HUANUCO', 'CUSCO', 'ICA', 'SAN MARTIN'}\n",
      "--------------\n",
      "encoding adm1_id codes\n",
      "\n",
      "Bolivia:\n",
      "The country Bolivia has no data to gather.\n"
     ]
    }
   ],
   "source": [
    "for country in range(0, len(countries[:20])): \n",
    "    \n",
    "    print(\"\\n\" + countries['country'][country] + \":\")\n",
    "    \n",
    "    # find all the unique values of regional locations for the country of interest \n",
    "    all_loc = set(df[df['country'] == countries['country'][country]]['regional_location'])\n",
    "    all_loc.discard(np.nan)\n",
    "    unique_loc = pd.DataFrame(all_loc, columns = ['regional_location'])\n",
    "    if len(unique_loc) == 0: \n",
    "        print(\"The country \" + countries['country'][country] + \" is not in Pew dataset.\")\n",
    "        continue \n",
    "        \n",
    "    # grab the geoBoundary for the country of interest \n",
    "    try: \n",
    "        shape = load_boundary(countries['iso3'][country])\n",
    "    except: \n",
    "        print(\"ERROR\")\n",
    "        continue\n",
    "\n",
    "    # get the ADM name for all of the regional locations\n",
    "    # ignore 'Refused' and 'DK' values. They will only have location at the country level coded. \n",
    "\n",
    "    # encode == True will go ahead and add the Adm1_id code to the dataframe. Its reccomended when testing the dataset\n",
    "    # you leave this as False\n",
    "        \n",
    "    dict_country = find_adm(shape, unique_loc, 80)\n",
    "    \n",
    "    print('--------------')\n",
    "    print('encoding adm1_id codes')\n",
    "    df['adm1'] = df['regional_location'].replace(dict_country)"
   ]
  },
  {
   "cell_type": "code",
   "execution_count": 46,
   "metadata": {},
   "outputs": [
    {
     "data": {
      "text/plain": [
       "survey_year  regional_location \n",
       "2017         Circunscripción 1     200\n",
       "             Circunscripción 2     200\n",
       "             Circunscripción 3     200\n",
       "             Circunscripción 4     200\n",
       "             Circunscripción 5     200\n",
       "2018         Electoral Region 3    198\n",
       "             Electoral Region 2    188\n",
       "             Electoral Region 5    188\n",
       "             Electoral Region 4    182\n",
       "             Electoral Region 1    141\n",
       "2019         Circunscripcion 2     218\n",
       "             Circunscripcion 1     213\n",
       "             Circunscripcion 5     203\n",
       "             Circunscripcion 4     199\n",
       "             Circunscripcion 3     195\n",
       "Name: regional_location, dtype: int64"
      ]
     },
     "execution_count": 46,
     "metadata": {},
     "output_type": "execute_result"
    }
   ],
   "source": [
    "df2 = df[df['country'] == 'Mexico']\n",
    "df2.groupby('survey_year')['regional_location'].value_counts()"
   ]
  },
  {
   "cell_type": "markdown",
   "metadata": {},
   "source": [
    "## Clean and Prepare Data for Export"
   ]
  },
  {
   "cell_type": "code",
   "execution_count": 8,
   "metadata": {},
   "outputs": [],
   "source": [
    "df.rename(columns={'qdate_s' : 'qdate'}, inplace=True)"
   ]
  },
  {
   "cell_type": "code",
   "execution_count": 9,
   "metadata": {},
   "outputs": [
    {
     "ename": "AssertionError",
     "evalue": "",
     "output_type": "error",
     "traceback": [
      "\u001b[0;31m---------------------------------------------------------------------------\u001b[0m",
      "\u001b[0;31mAssertionError\u001b[0m                            Traceback (most recent call last)",
      "\u001b[0;32m<ipython-input-9-8de0fcc17b81>\u001b[0m in \u001b[0;36m<module>\u001b[0;34m\u001b[0m\n\u001b[1;32m      2\u001b[0m \u001b[0mvars_list\u001b[0m \u001b[0;34m=\u001b[0m \u001b[0mpd\u001b[0m\u001b[0;34m.\u001b[0m\u001b[0mread_excel\u001b[0m\u001b[0;34m(\u001b[0m\u001b[0;34m\"pewQVDict.xlsx\"\u001b[0m\u001b[0;34m,\u001b[0m \u001b[0msheet_name\u001b[0m\u001b[0;34m=\u001b[0m\u001b[0;34m\"Final Variable Listing\"\u001b[0m\u001b[0;34m)\u001b[0m\u001b[0;34m\u001b[0m\u001b[0;34m\u001b[0m\u001b[0m\n\u001b[1;32m      3\u001b[0m \u001b[0;34m\u001b[0m\u001b[0m\n\u001b[0;32m----> 4\u001b[0;31m \u001b[0;32massert\u001b[0m \u001b[0mlen\u001b[0m\u001b[0;34m(\u001b[0m\u001b[0mset\u001b[0m\u001b[0;34m(\u001b[0m\u001b[0mvars_list\u001b[0m\u001b[0;34m[\u001b[0m\u001b[0;34m'variable_name'\u001b[0m\u001b[0;34m]\u001b[0m\u001b[0;34m)\u001b[0m\u001b[0;34m.\u001b[0m\u001b[0mdifference\u001b[0m\u001b[0;34m(\u001b[0m\u001b[0mset\u001b[0m\u001b[0;34m(\u001b[0m\u001b[0mdf\u001b[0m\u001b[0;34m.\u001b[0m\u001b[0mcolumns\u001b[0m\u001b[0;34m)\u001b[0m\u001b[0;34m)\u001b[0m\u001b[0;34m)\u001b[0m \u001b[0;34m==\u001b[0m \u001b[0;36m0\u001b[0m\u001b[0;34m\u001b[0m\u001b[0;34m\u001b[0m\u001b[0m\n\u001b[0m",
      "\u001b[0;31mAssertionError\u001b[0m: "
     ]
    }
   ],
   "source": [
    "# ensure all the variables are as expected and that we have all of the variables we would like to be collecting\n",
    "vars_list = pd.read_excel(\"pewQVDict.xlsx\", sheet_name=\"Final Variable Listing\")\n",
    "\n",
    "assert len(set(vars_list['variable_name']).difference(set(df.columns))) == 0"
   ]
  },
  {
   "cell_type": "markdown",
   "metadata": {},
   "source": [
    "## Export Geocoded Dataframe"
   ]
  },
  {
   "cell_type": "code",
   "execution_count": 38,
   "metadata": {},
   "outputs": [],
   "source": [
    "df.to_csv(\"../../data_final/pew.csv\", index=False)"
   ]
  },
  {
   "cell_type": "code",
   "execution_count": null,
   "metadata": {},
   "outputs": [],
   "source": []
  },
  {
   "cell_type": "code",
   "execution_count": 59,
   "metadata": {},
   "outputs": [],
   "source": [
    "\n",
    "s = df.sample(100)\n",
    "s['geometry']  = s['country_id'].map(countries_dict)"
   ]
  },
  {
   "cell_type": "code",
   "execution_count": 63,
   "metadata": {},
   "outputs": [],
   "source": [
    "import shapely"
   ]
  },
  {
   "cell_type": "code",
   "execution_count": 64,
   "metadata": {},
   "outputs": [
    {
     "data": {
      "text/plain": [
       "<matplotlib.axes._subplots.AxesSubplot at 0x7ff45931d2b0>"
      ]
     },
     "execution_count": 64,
     "metadata": {},
     "output_type": "execute_result"
    },
    {
     "data": {
      "image/png": "[encoded data removed]",
      "text/plain": [
       "<Figure size 432x288 with 1 Axes>"
      ]
     },
     "metadata": {
      "needs_background": "light"
     },
     "output_type": "display_data"
    }
   ],
   "source": [
    "s['geometry'] = [shapely.wkt.loads(x) for x in s['geometry']]\n",
    "    # add into GeoDataFrame \n",
    "s = gpd.GeoDataFrame(s).reset_index(drop=True)\n",
    "s.plot()"
   ]
  },
  {
   "cell_type": "code",
   "execution_count": 66,
   "metadata": {},
   "outputs": [],
   "source": [
    "s.to_file(\"/Users/natalie_kraft/Desktop/testing_pew.geojson\", driver='GeoJSON')"
   ]
  },
  {
   "cell_type": "code",
   "execution_count": 129,
   "metadata": {},
   "outputs": [],
   "source": [
    "j = requests.get(\"https://www.geoboundaries.org/api/current/gbOpen/RUS/ADM1\")"
   ]
  },
  {
   "cell_type": "code",
   "execution_count": 132,
   "metadata": {},
   "outputs": [],
   "source": [
    "path = j.json()['gjDownloadURL']\n",
    "shape = requests.get(path).json()"
   ]
  },
  {
   "cell_type": "code",
   "execution_count": 143,
   "metadata": {},
   "outputs": [],
   "source": [
    "d = pd.read_json(path)"
   ]
  },
  {
   "cell_type": "code",
   "execution_count": 160,
   "metadata": {},
   "outputs": [
    {
     "data": {
      "text/html": [
       "<div>\n",
       "<style scoped>\n",
       "    .dataframe tbody tr th:only-of-type {\n",
       "        vertical-align: middle;\n",
       "    }\n",
       "\n",
       "    .dataframe tbody tr th {\n",
       "        vertical-align: top;\n",
       "    }\n",
       "\n",
       "    .dataframe thead th {\n",
       "        text-align: right;\n",
       "    }\n",
       "</style>\n",
       "<table border=\"1\" class=\"dataframe\">\n",
       "  <thead>\n",
       "    <tr style=\"text-align: right;\">\n",
       "      <th></th>\n",
       "      <th>type</th>\n",
       "      <th>geometry.type</th>\n",
       "      <th>geometry.coordinates</th>\n",
       "      <th>properties.shapeName</th>\n",
       "      <th>properties.Level</th>\n",
       "      <th>properties.shapeISO</th>\n",
       "      <th>properties.shapeID</th>\n",
       "      <th>properties.shapeGroup</th>\n",
       "      <th>properties.shapeType</th>\n",
       "    </tr>\n",
       "  </thead>\n",
       "  <tbody>\n",
       "    <tr>\n",
       "      <th>0</th>\n",
       "      <td>Feature</td>\n",
       "      <td>Polygon</td>\n",
       "      <td>[[[85.1159569, 54.43783], [85.0334526, 54.4089...</td>\n",
       "      <td>Altai Krai</td>\n",
       "      <td>ADM1</td>\n",
       "      <td>RU-ALT</td>\n",
       "      <td>RUS-ADM1-28173009B49567218</td>\n",
       "      <td>RUS</td>\n",
       "      <td>ADM1</td>\n",
       "    </tr>\n",
       "    <tr>\n",
       "      <th>1</th>\n",
       "      <td>Feature</td>\n",
       "      <td>MultiPolygon</td>\n",
       "      <td>[[[[42.442326, 54.8253986], [42.4073558, 54.84...</td>\n",
       "      <td>Republic of Mordovia</td>\n",
       "      <td>ADM1</td>\n",
       "      <td>RU-MO</td>\n",
       "      <td>RUS-ADM1-28173009B40201491</td>\n",
       "      <td>RUS</td>\n",
       "      <td>ADM1</td>\n",
       "    </tr>\n",
       "    <tr>\n",
       "      <th>2</th>\n",
       "      <td>Feature</td>\n",
       "      <td>Polygon</td>\n",
       "      <td>[[[37.2687091, 54.8418015], [37.2565636, 54.83...</td>\n",
       "      <td>Tula Oblast</td>\n",
       "      <td>ADM1</td>\n",
       "      <td>RU-TUL</td>\n",
       "      <td>RUS-ADM1-28173009B92489997</td>\n",
       "      <td>RUS</td>\n",
       "      <td>ADM1</td>\n",
       "    </tr>\n",
       "    <tr>\n",
       "      <th>3</th>\n",
       "      <td>Feature</td>\n",
       "      <td>Polygon</td>\n",
       "      <td>[[[62.0610577, 56.1308206], [62.070083, 56.129...</td>\n",
       "      <td>Kurgan Oblast</td>\n",
       "      <td>ADM1</td>\n",
       "      <td>RU-KGN</td>\n",
       "      <td>RUS-ADM1-28173009B91354212</td>\n",
       "      <td>RUS</td>\n",
       "      <td>ADM1</td>\n",
       "    </tr>\n",
       "    <tr>\n",
       "      <th>4</th>\n",
       "      <td>Feature</td>\n",
       "      <td>Polygon</td>\n",
       "      <td>[[[44.8479393, 43.5655338], [44.8277321, 43.55...</td>\n",
       "      <td>Ingushetia</td>\n",
       "      <td>ADM1</td>\n",
       "      <td>RU-IN</td>\n",
       "      <td>RUS-ADM1-28173009B89166101</td>\n",
       "      <td>RUS</td>\n",
       "      <td>ADM1</td>\n",
       "    </tr>\n",
       "    <tr>\n",
       "      <th>...</th>\n",
       "      <td>...</td>\n",
       "      <td>...</td>\n",
       "      <td>...</td>\n",
       "      <td>...</td>\n",
       "      <td>...</td>\n",
       "      <td>...</td>\n",
       "      <td>...</td>\n",
       "      <td>...</td>\n",
       "      <td>...</td>\n",
       "    </tr>\n",
       "    <tr>\n",
       "      <th>78</th>\n",
       "      <td>Feature</td>\n",
       "      <td>MultiPolygon</td>\n",
       "      <td>[[[[47.6840096, 43.9085911], [47.6834087, 43.9...</td>\n",
       "      <td>Dagestan</td>\n",
       "      <td>ADM1</td>\n",
       "      <td>RU-DA</td>\n",
       "      <td>RUS-ADM1-28173009B43574749</td>\n",
       "      <td>RUS</td>\n",
       "      <td>ADM1</td>\n",
       "    </tr>\n",
       "    <tr>\n",
       "      <th>79</th>\n",
       "      <td>Feature</td>\n",
       "      <td>MultiPolygon</td>\n",
       "      <td>[[[[19.648615891827397, 54.4532277146658], [19...</td>\n",
       "      <td>Kaliningrad</td>\n",
       "      <td>ADM1</td>\n",
       "      <td>RU-KGD</td>\n",
       "      <td>RUS-ADM1-28173009B12217295</td>\n",
       "      <td>RUS</td>\n",
       "      <td>ADM1</td>\n",
       "    </tr>\n",
       "    <tr>\n",
       "      <th>80</th>\n",
       "      <td>Feature</td>\n",
       "      <td>Polygon</td>\n",
       "      <td>[[[50.7681628, 51.7730366], [50.871413, 51.753...</td>\n",
       "      <td>Orenburg Oblast</td>\n",
       "      <td>ADM1</td>\n",
       "      <td>RU-ORE</td>\n",
       "      <td>RUS-ADM1-28173009B57910928</td>\n",
       "      <td>RUS</td>\n",
       "      <td>ADM1</td>\n",
       "    </tr>\n",
       "    <tr>\n",
       "      <th>81</th>\n",
       "      <td>Feature</td>\n",
       "      <td>MultiPolygon</td>\n",
       "      <td>[[[[132.4063493, 44.545623], [132.4066543, 44....</td>\n",
       "      <td>Primorsky Krai</td>\n",
       "      <td>ADM1</td>\n",
       "      <td>RU-PRI</td>\n",
       "      <td>RUS-ADM1-28173009B5071071</td>\n",
       "      <td>RUS</td>\n",
       "      <td>ADM1</td>\n",
       "    </tr>\n",
       "    <tr>\n",
       "      <th>82</th>\n",
       "      <td>Feature</td>\n",
       "      <td>Polygon</td>\n",
       "      <td>[[[57.4062372, 56.3426599], [57.3965811, 56.34...</td>\n",
       "      <td>Bashkortostan</td>\n",
       "      <td>ADM1</td>\n",
       "      <td>RU-BA</td>\n",
       "      <td>RUS-ADM1-28173009B50380208</td>\n",
       "      <td>RUS</td>\n",
       "      <td>ADM1</td>\n",
       "    </tr>\n",
       "  </tbody>\n",
       "</table>\n",
       "<p>83 rows × 9 columns</p>\n",
       "</div>"
      ],
      "text/plain": [
       "       type geometry.type                               geometry.coordinates  \\\n",
       "0   Feature       Polygon  [[[85.1159569, 54.43783], [85.0334526, 54.4089...   \n",
       "1   Feature  MultiPolygon  [[[[42.442326, 54.8253986], [42.4073558, 54.84...   \n",
       "2   Feature       Polygon  [[[37.2687091, 54.8418015], [37.2565636, 54.83...   \n",
       "3   Feature       Polygon  [[[62.0610577, 56.1308206], [62.070083, 56.129...   \n",
       "4   Feature       Polygon  [[[44.8479393, 43.5655338], [44.8277321, 43.55...   \n",
       "..      ...           ...                                                ...   \n",
       "78  Feature  MultiPolygon  [[[[47.6840096, 43.9085911], [47.6834087, 43.9...   \n",
       "79  Feature  MultiPolygon  [[[[19.648615891827397, 54.4532277146658], [19...   \n",
       "80  Feature       Polygon  [[[50.7681628, 51.7730366], [50.871413, 51.753...   \n",
       "81  Feature  MultiPolygon  [[[[132.4063493, 44.545623], [132.4066543, 44....   \n",
       "82  Feature       Polygon  [[[57.4062372, 56.3426599], [57.3965811, 56.34...   \n",
       "\n",
       "    properties.shapeName properties.Level properties.shapeISO  \\\n",
       "0             Altai Krai             ADM1              RU-ALT   \n",
       "1   Republic of Mordovia             ADM1               RU-MO   \n",
       "2            Tula Oblast             ADM1              RU-TUL   \n",
       "3          Kurgan Oblast             ADM1              RU-KGN   \n",
       "4             Ingushetia             ADM1               RU-IN   \n",
       "..                   ...              ...                 ...   \n",
       "78              Dagestan             ADM1               RU-DA   \n",
       "79           Kaliningrad             ADM1              RU-KGD   \n",
       "80       Orenburg Oblast             ADM1              RU-ORE   \n",
       "81        Primorsky Krai             ADM1              RU-PRI   \n",
       "82         Bashkortostan             ADM1               RU-BA   \n",
       "\n",
       "            properties.shapeID properties.shapeGroup properties.shapeType  \n",
       "0   RUS-ADM1-28173009B49567218                   RUS                 ADM1  \n",
       "1   RUS-ADM1-28173009B40201491                   RUS                 ADM1  \n",
       "2   RUS-ADM1-28173009B92489997                   RUS                 ADM1  \n",
       "3   RUS-ADM1-28173009B91354212                   RUS                 ADM1  \n",
       "4   RUS-ADM1-28173009B89166101                   RUS                 ADM1  \n",
       "..                         ...                   ...                  ...  \n",
       "78  RUS-ADM1-28173009B43574749                   RUS                 ADM1  \n",
       "79  RUS-ADM1-28173009B12217295                   RUS                 ADM1  \n",
       "80  RUS-ADM1-28173009B57910928                   RUS                 ADM1  \n",
       "81   RUS-ADM1-28173009B5071071                   RUS                 ADM1  \n",
       "82  RUS-ADM1-28173009B50380208                   RUS                 ADM1  \n",
       "\n",
       "[83 rows x 9 columns]"
      ]
     },
     "execution_count": 160,
     "metadata": {},
     "output_type": "execute_result"
    }
   ],
   "source": [
    "pd.json_normalize(\n",
    "    shape, \n",
    "    record_path = ['features'])"
   ]
  },
  {
   "cell_type": "code",
   "execution_count": null,
   "metadata": {},
   "outputs": [],
   "source": []
  },
  {
   "cell_type": "code",
   "execution_count": 58,
   "metadata": {},
   "outputs": [
    {
     "data": {
      "image/png": "[encoded data removed]",
      "text/plain": [
       "<Figure size 450x450 with 1 Axes>"
      ]
     },
     "metadata": {
      "needs_background": "light"
     },
     "output_type": "display_data"
    }
   ],
   "source": [
    "from matplotlib import pyplot as plt\n",
    "r = requests.get(\"https://www.geoboundaries.org/gbRequest.html?ISO=EGY&ADM=ADM1\")\n",
    "dlPath = r.json()[0]['gjDownloadURL']\n",
    "geoBoundary = requests.get(dlPath).json()\n",
    "\n",
    "#Matplotlib Visualization\n",
    "fig = plt.figure(1, figsize=(5,5), dpi=90)\n",
    "axs = fig.add_subplot(111)\n",
    "axs.set_title('Example Visualization')\n",
    "\n",
    "#Accounting for Multipolygon Boundaries\n",
    "for boundary in geoBoundary[\"features\"]:\n",
    "    if boundary[\"geometry\"]['type'] == \"MultiPolygon\":\n",
    "        polys = boundary[\"geometry\"][\"coordinates\"]\n",
    "        for poly in polys:\n",
    "            exterior = poly[0]\n",
    "            xs, ys = zip(*exterior)\n",
    "            axs.fill(xs, ys, alpha=0.5, fc='red', ec='black')\n",
    "    else:\n",
    "        exterior = boundary[\"geometry\"][\"coordinates\"][0]\n",
    "        xs, ys = zip(*exterior)\n",
    "        axs.fill(xs, ys, alpha=0.5, fc='red', ec='black')\n"
   ]
  },
  {
   "cell_type": "code",
   "execution_count": 16,
   "metadata": {},
   "outputs": [],
   "source": [
    "regions = pd.read_csv(\"../../data_final/regions.csv\")"
   ]
  },
  {
   "cell_type": "code",
   "execution_count": 18,
   "metadata": {},
   "outputs": [
    {
     "data": {
      "text/html": [
       "<div>\n",
       "<style scoped>\n",
       "    .dataframe tbody tr th:only-of-type {\n",
       "        vertical-align: middle;\n",
       "    }\n",
       "\n",
       "    .dataframe tbody tr th {\n",
       "        vertical-align: top;\n",
       "    }\n",
       "\n",
       "    .dataframe thead th {\n",
       "        text-align: right;\n",
       "    }\n",
       "</style>\n",
       "<table border=\"1\" class=\"dataframe\">\n",
       "  <thead>\n",
       "    <tr style=\"text-align: right;\">\n",
       "      <th></th>\n",
       "      <th>name</th>\n",
       "      <th>id</th>\n",
       "      <th>country</th>\n",
       "      <th>geometry</th>\n",
       "      <th>country_id</th>\n",
       "    </tr>\n",
       "  </thead>\n",
       "  <tbody>\n",
       "    <tr>\n",
       "      <th>0</th>\n",
       "      <td>53195.0, near Kayes, ML</td>\n",
       "      <td>1</td>\n",
       "      <td>Angola</td>\n",
       "      <td>MULTIPOLYGON (((13.46531425195922 -9.171016905...</td>\n",
       "      <td>96</td>\n",
       "    </tr>\n",
       "    <tr>\n",
       "      <th>1</th>\n",
       "      <td>65750.0, near Sikasso, ML</td>\n",
       "      <td>2</td>\n",
       "      <td>Angola</td>\n",
       "      <td>MULTIPOLYGON (((11.84767537747439 -5.149094543...</td>\n",
       "      <td>96</td>\n",
       "    </tr>\n",
       "    <tr>\n",
       "      <th>2</th>\n",
       "      <td>65754.0, near Louga, SN</td>\n",
       "      <td>3</td>\n",
       "      <td>Angola</td>\n",
       "      <td>MULTIPOLYGON (((13.52942308229029 -16.23642797...</td>\n",
       "      <td>96</td>\n",
       "    </tr>\n",
       "    <tr>\n",
       "      <th>3</th>\n",
       "      <td>67417.0, near Sikasso, ML</td>\n",
       "      <td>4</td>\n",
       "      <td>Angola</td>\n",
       "      <td>MULTIPOLYGON (((11.84767537747439 -5.149094543...</td>\n",
       "      <td>96</td>\n",
       "    </tr>\n",
       "    <tr>\n",
       "      <th>4</th>\n",
       "      <td>73552.0, near Koulikoro, ML</td>\n",
       "      <td>5</td>\n",
       "      <td>Angola</td>\n",
       "      <td>MULTIPOLYGON (((13.7877167 -8.992844399999999,...</td>\n",
       "      <td>96</td>\n",
       "    </tr>\n",
       "    <tr>\n",
       "      <th>...</th>\n",
       "      <td>...</td>\n",
       "      <td>...</td>\n",
       "      <td>...</td>\n",
       "      <td>...</td>\n",
       "      <td>...</td>\n",
       "    </tr>\n",
       "    <tr>\n",
       "      <th>314</th>\n",
       "      <td>Trinidad, Couva-Tabaquite-Talparo, Trinidad an...</td>\n",
       "      <td>1</td>\n",
       "      <td>Trinidad and Tobago</td>\n",
       "      <td>POLYGON ((-61.9308275 10.0517423, -61.9307846 ...</td>\n",
       "      <td>66</td>\n",
       "    </tr>\n",
       "    <tr>\n",
       "      <th>315</th>\n",
       "      <td>A, Road Leading to House, Tharaka-Nithi, East ...</td>\n",
       "      <td>2</td>\n",
       "      <td>Kenya</td>\n",
       "      <td>POLYGON ((37.7013015 -0.3216591, 37.701303 -0....</td>\n",
       "      <td>103</td>\n",
       "    </tr>\n",
       "    <tr>\n",
       "      <th>316</th>\n",
       "      <td>Zambezi Region</td>\n",
       "      <td>8</td>\n",
       "      <td>Namibia</td>\n",
       "      <td>POLYGON ((22.5000204 -18.1175994, 22.629244 -1...</td>\n",
       "      <td>108</td>\n",
       "    </tr>\n",
       "    <tr>\n",
       "      <th>317</th>\n",
       "      <td>Lake Turkana, Marsabit, East Kenya</td>\n",
       "      <td>3</td>\n",
       "      <td>Kenya</td>\n",
       "      <td>POLYGON ((35.8291411 3.7150324, 35.8291519 3.7...</td>\n",
       "      <td>103</td>\n",
       "    </tr>\n",
       "    <tr>\n",
       "      <th>318</th>\n",
       "      <td>Maitama, Municipal Area Council, Federal Capit...</td>\n",
       "      <td>3</td>\n",
       "      <td>Nigeria</td>\n",
       "      <td>POLYGON ((7.471365 9.088631400000001, 7.473691...</td>\n",
       "      <td>135</td>\n",
       "    </tr>\n",
       "  </tbody>\n",
       "</table>\n",
       "<p>319 rows × 5 columns</p>\n",
       "</div>"
      ],
      "text/plain": [
       "                                                  name  id  \\\n",
       "0                              53195.0, near Kayes, ML   1   \n",
       "1                            65750.0, near Sikasso, ML   2   \n",
       "2                              65754.0, near Louga, SN   3   \n",
       "3                            67417.0, near Sikasso, ML   4   \n",
       "4                          73552.0, near Koulikoro, ML   5   \n",
       "..                                                 ...  ..   \n",
       "314  Trinidad, Couva-Tabaquite-Talparo, Trinidad an...   1   \n",
       "315  A, Road Leading to House, Tharaka-Nithi, East ...   2   \n",
       "316                                     Zambezi Region   8   \n",
       "317                 Lake Turkana, Marsabit, East Kenya   3   \n",
       "318  Maitama, Municipal Area Council, Federal Capit...   3   \n",
       "\n",
       "                 country                                           geometry  \\\n",
       "0                 Angola  MULTIPOLYGON (((13.46531425195922 -9.171016905...   \n",
       "1                 Angola  MULTIPOLYGON (((11.84767537747439 -5.149094543...   \n",
       "2                 Angola  MULTIPOLYGON (((13.52942308229029 -16.23642797...   \n",
       "3                 Angola  MULTIPOLYGON (((11.84767537747439 -5.149094543...   \n",
       "4                 Angola  MULTIPOLYGON (((13.7877167 -8.992844399999999,...   \n",
       "..                   ...                                                ...   \n",
       "314  Trinidad and Tobago  POLYGON ((-61.9308275 10.0517423, -61.9307846 ...   \n",
       "315                Kenya  POLYGON ((37.7013015 -0.3216591, 37.701303 -0....   \n",
       "316              Namibia  POLYGON ((22.5000204 -18.1175994, 22.629244 -1...   \n",
       "317                Kenya  POLYGON ((35.8291411 3.7150324, 35.8291519 3.7...   \n",
       "318              Nigeria  POLYGON ((7.471365 9.088631400000001, 7.473691...   \n",
       "\n",
       "     country_id  \n",
       "0            96  \n",
       "1            96  \n",
       "2            96  \n",
       "3            96  \n",
       "4            96  \n",
       "..          ...  \n",
       "314          66  \n",
       "315         103  \n",
       "316         108  \n",
       "317         103  \n",
       "318         135  \n",
       "\n",
       "[319 rows x 5 columns]"
      ]
     },
     "execution_count": 18,
     "metadata": {},
     "output_type": "execute_result"
    }
   ],
   "source": [
    "regions"
   ]
  },
  {
   "cell_type": "code",
   "execution_count": null,
   "metadata": {},
   "outputs": [],
   "source": []
  }
 ],
 "metadata": {
  "kernelspec": {
   "display_name": "Python 3 (ipykernel)",
   "language": "python",
   "name": "python3"
  },
  "language_info": {
   "codemirror_mode": {
    "name": "ipython",
    "version": 3
   },
   "file_extension": ".py",
   "mimetype": "text/x-python",
   "name": "python",
   "nbconvert_exporter": "python",
   "pygments_lexer": "ipython3",
   "version": "3.10.2"
  }
 },
 "nbformat": 4,
 "nbformat_minor": 4
}
