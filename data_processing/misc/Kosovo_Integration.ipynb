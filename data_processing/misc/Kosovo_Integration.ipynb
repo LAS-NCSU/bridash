{
 "cells": [
  {
   "cell_type": "markdown",
   "metadata": {},
   "source": [
    "The UN recognizes Kosovo's independance. To reflect their understanding of independent nations, we must add in a seperate country for Kosovo. \n",
    "\n",
    "This file attempts to update the geocoded files to ensure they are accuratly reflecting their country boundaries "
   ]
  },
  {
   "cell_type": "code",
   "execution_count": 1,
   "metadata": {},
   "outputs": [],
   "source": [
    "import pandas as pd \n",
    "import geopandas as gpd\n",
    "import numpy as np\n",
    "pd.set_option('display.max_columns', 500)\n",
    "\n",
    "# to specify geometry / location data \n",
    "import shapely.wkt\n",
    "import json\n",
    "\n",
    "# to visualize \n",
    "import matplotlib.pyplot as plt"
   ]
  },
  {
   "cell_type": "markdown",
   "metadata": {},
   "source": [
    "# Update the Country Geocode Dataset "
   ]
  },
  {
   "cell_type": "markdown",
   "metadata": {},
   "source": [
    "__Load in the country dataset__ "
   ]
  },
  {
   "cell_type": "code",
   "execution_count": 2,
   "metadata": {},
   "outputs": [
    {
     "data": {
      "text/html": [
       "<div>\n",
       "<style scoped>\n",
       "    .dataframe tbody tr th:only-of-type {\n",
       "        vertical-align: middle;\n",
       "    }\n",
       "\n",
       "    .dataframe tbody tr th {\n",
       "        vertical-align: top;\n",
       "    }\n",
       "\n",
       "    .dataframe thead th {\n",
       "        text-align: right;\n",
       "    }\n",
       "</style>\n",
       "<table border=\"1\" class=\"dataframe\">\n",
       "  <thead>\n",
       "    <tr style=\"text-align: right;\">\n",
       "      <th></th>\n",
       "      <th>name</th>\n",
       "      <th>country_id</th>\n",
       "      <th>country</th>\n",
       "      <th>geometry</th>\n",
       "      <th>iso</th>\n",
       "      <th>shape_length</th>\n",
       "      <th>shape_area</th>\n",
       "    </tr>\n",
       "  </thead>\n",
       "  <tbody>\n",
       "    <tr>\n",
       "      <th>0</th>\n",
       "      <td>American Samoa</td>\n",
       "      <td>1</td>\n",
       "      <td>American Samoa</td>\n",
       "      <td>MULTIPOLYGON (((-170.74390 -14.37555, -170.749...</td>\n",
       "      <td>AS</td>\n",
       "      <td>0.600124</td>\n",
       "      <td>0.013720</td>\n",
       "    </tr>\n",
       "    <tr>\n",
       "      <th>1</th>\n",
       "      <td>United States Minor Outlying Islands</td>\n",
       "      <td>2</td>\n",
       "      <td>United States Minor Outlying Islands</td>\n",
       "      <td>MULTIPOLYGON (((-160.02114 -0.39805, -160.0281...</td>\n",
       "      <td>UM</td>\n",
       "      <td>0.480216</td>\n",
       "      <td>0.003216</td>\n",
       "    </tr>\n",
       "    <tr>\n",
       "      <th>2</th>\n",
       "      <td>Cook Islands</td>\n",
       "      <td>3</td>\n",
       "      <td>Cook Islands</td>\n",
       "      <td>MULTIPOLYGON (((-159.74698 -21.25667, -159.793...</td>\n",
       "      <td>CK</td>\n",
       "      <td>0.980664</td>\n",
       "      <td>0.013073</td>\n",
       "    </tr>\n",
       "    <tr>\n",
       "      <th>3</th>\n",
       "      <td>French Polynesia</td>\n",
       "      <td>4</td>\n",
       "      <td>French Polynesia</td>\n",
       "      <td>MULTIPOLYGON (((-149.17920 -17.87084, -149.258...</td>\n",
       "      <td>PF</td>\n",
       "      <td>3.930211</td>\n",
       "      <td>0.175332</td>\n",
       "    </tr>\n",
       "    <tr>\n",
       "      <th>4</th>\n",
       "      <td>Niue</td>\n",
       "      <td>5</td>\n",
       "      <td>Niue</td>\n",
       "      <td>MULTIPOLYGON (((-169.89389 -19.14556, -169.930...</td>\n",
       "      <td>NU</td>\n",
       "      <td>0.541413</td>\n",
       "      <td>0.021414</td>\n",
       "    </tr>\n",
       "  </tbody>\n",
       "</table>\n",
       "</div>"
      ],
      "text/plain": [
       "                                   name  country_id  \\\n",
       "0                        American Samoa           1   \n",
       "1  United States Minor Outlying Islands           2   \n",
       "2                          Cook Islands           3   \n",
       "3                      French Polynesia           4   \n",
       "4                                  Niue           5   \n",
       "\n",
       "                                country  \\\n",
       "0                        American Samoa   \n",
       "1  United States Minor Outlying Islands   \n",
       "2                          Cook Islands   \n",
       "3                      French Polynesia   \n",
       "4                                  Niue   \n",
       "\n",
       "                                            geometry iso  shape_length  \\\n",
       "0  MULTIPOLYGON (((-170.74390 -14.37555, -170.749...  AS      0.600124   \n",
       "1  MULTIPOLYGON (((-160.02114 -0.39805, -160.0281...  UM      0.480216   \n",
       "2  MULTIPOLYGON (((-159.74698 -21.25667, -159.793...  CK      0.980664   \n",
       "3  MULTIPOLYGON (((-149.17920 -17.87084, -149.258...  PF      3.930211   \n",
       "4  MULTIPOLYGON (((-169.89389 -19.14556, -169.930...  NU      0.541413   \n",
       "\n",
       "   shape_area  \n",
       "0    0.013720  \n",
       "1    0.003216  \n",
       "2    0.013073  \n",
       "3    0.175332  \n",
       "4    0.021414  "
      ]
     },
     "execution_count": 2,
     "metadata": {},
     "output_type": "execute_result"
    }
   ],
   "source": [
    "# add in localities to the spreadsheet \n",
    "countries = pd.read_csv(\"../../data_final/countries.csv\")\n",
    "\n",
    "# convert geometries to shapes \n",
    "countries['geometry'] = [shapely.wkt.loads(x) for x in countries['geometry']]\n",
    "countries = gpd.GeoDataFrame(countries).reset_index(drop=True)\n",
    "countries.head()"
   ]
  },
  {
   "cell_type": "markdown",
   "metadata": {},
   "source": [
    "__Load in the new Kosovo boundary__ \n",
    "\n",
    "Source: Hijmans, Robert J., University of California, Berkeley. Museum of Vertebrate Zoology. National Boundary, Kosovo, 2015 [map]. No Scale Provided. Retrieved April 02, 2022, from https://geodata.lib.utexas.edu/catalog/stanford-pt278dg2451"
   ]
  },
  {
   "cell_type": "code",
   "execution_count": 3,
   "metadata": {},
   "outputs": [],
   "source": [
    "kosovo = gpd.read_file(\"/Users/natalie_kraft/Downloads/stanford-pt278dg2451-geojson.json\")"
   ]
  },
  {
   "cell_type": "code",
   "execution_count": 4,
   "metadata": {},
   "outputs": [],
   "source": [
    "# add in kosovo to country data file \n",
    "\n",
    "countries = countries.append({'name':'Kosovo', 'country_id':250, 'country':'Kosovo', 'geometry':kosovo['geometry'][0], 'iso':'XK',  'shape_length':6.970461, 'shape_area':1.197174}, ignore_index=True)"
   ]
  },
  {
   "cell_type": "markdown",
   "metadata": {},
   "source": [
    "__Check to see if Serbia needs to be updated__ --> Serbia included Kosovo. And needs to be updated. "
   ]
  },
  {
   "cell_type": "code",
   "execution_count": 5,
   "metadata": {},
   "outputs": [
    {
     "data": {
      "text/plain": [
       "<matplotlib.axes._subplots.AxesSubplot at 0x7fe1e8763460>"
      ]
     },
     "execution_count": 5,
     "metadata": {},
     "output_type": "execute_result"
    },
    {
     "data": {
      "image/png": "[encoded data removed]",
      "text/plain": [
       "<Figure size 432x288 with 1 Axes>"
      ]
     },
     "metadata": {
      "needs_background": "light"
     },
     "output_type": "display_data"
    }
   ],
   "source": [
    "countries.loc[(countries['name'] == 'Serbia') | (countries['name'] == 'Kosovo')].plot(cmap='OrRd')"
   ]
  },
  {
   "cell_type": "markdown",
   "metadata": {},
   "source": [
    "__Load in the new Serbia boundary__ \n",
    "*Note, the intersection of these areas is not taken as it leads extraneous peices surrounding the southern coast of Kosovo that 'belong' to Seria*\n",
    "\n",
    "Source: Hijmans, Robert J., University of California, Berkeley. Museum of Vertebrate Zoology. National Boundary, Serbia, 2015 [map]. No Scale Provided. Retrieved April 02, 2022, from https://geodata.lib.utexas.edu/catalog/stanford-nw199gc0423"
   ]
  },
  {
   "cell_type": "code",
   "execution_count": 6,
   "metadata": {},
   "outputs": [],
   "source": [
    "serbia = gpd.read_file(\"/Users/natalie_kraft/Downloads/stanford-nw199gc0423-geojson.json\")"
   ]
  },
  {
   "cell_type": "code",
   "execution_count": 7,
   "metadata": {},
   "outputs": [
    {
     "name": "stderr",
     "output_type": "stream",
     "text": [
      "<ipython-input-7-f77bccc1701e>:1: UserWarning: Geometry is in a geographic CRS. Results from 'length' are likely incorrect. Use 'GeoSeries.to_crs()' to re-project geometries to a projected CRS before this operation.\n",
      "\n",
      "  s_dict = {'name':'Serbia', 'country_id':countries[countries['name']=='Serbia']['country_id'].values[0], 'country':'Serbia', 'geometry':serbia['geometry'][0], 'iso':countries[countries['name']=='Serbia']['iso'].values[0],  'shape_length':serbia['geometry'].length[0], 'shape_area':serbia['geometry'].area[0]}\n",
      "<ipython-input-7-f77bccc1701e>:1: UserWarning: Geometry is in a geographic CRS. Results from 'area' are likely incorrect. Use 'GeoSeries.to_crs()' to re-project geometries to a projected CRS before this operation.\n",
      "\n",
      "  s_dict = {'name':'Serbia', 'country_id':countries[countries['name']=='Serbia']['country_id'].values[0], 'country':'Serbia', 'geometry':serbia['geometry'][0], 'iso':countries[countries['name']=='Serbia']['iso'].values[0],  'shape_length':serbia['geometry'].length[0], 'shape_area':serbia['geometry'].area[0]}\n"
     ]
    }
   ],
   "source": [
    "s_dict = {'name':'Serbia', 'country_id':countries[countries['name']=='Serbia']['country_id'].values[0], 'country':'Serbia', 'geometry':serbia['geometry'][0], 'iso':countries[countries['name']=='Serbia']['iso'].values[0],  'shape_length':serbia['geometry'].length[0], 'shape_area':serbia['geometry'].area[0]}\n",
    "\n",
    "countries = countries[countries['name'] != 'Serbia']\n",
    "countries = countries.append(s_dict, ignore_index=True).sort_values(by='country_id')"
   ]
  },
  {
   "cell_type": "markdown",
   "metadata": {},
   "source": [
    "# Update GeoCoding references in Regions and Cities to reference Kosovo"
   ]
  },
  {
   "cell_type": "markdown",
   "metadata": {},
   "source": [
    "__regions__"
   ]
  },
  {
   "cell_type": "code",
   "execution_count": 8,
   "metadata": {},
   "outputs": [
    {
     "name": "stdout",
     "output_type": "stream",
     "text": [
      "there are 2 references to Serbia\n"
     ]
    }
   ],
   "source": [
    "# add in regions to the spreadsheet \n",
    "regions = pd.read_csv(\"../../data_final/regions.csv\")\n",
    "\n",
    "# check to see if there is any reference of Serbia \n",
    "in_serbia = regions[regions['country'] == 'Serbia']\n",
    "if len(in_serbia) > 0: \n",
    "    print(\"there are \" + str(len(in_serbia)) + \" references to Serbia\")"
   ]
  },
  {
   "cell_type": "code",
   "execution_count": 9,
   "metadata": {},
   "outputs": [
    {
     "name": "stderr",
     "output_type": "stream",
     "text": [
      "<ipython-input-9-eae224f148e9>:5: SettingWithCopyWarning: \n",
      "A value is trying to be set on a copy of a slice from a DataFrame.\n",
      "Try using .loc[row_indexer,col_indexer] = value instead\n",
      "\n",
      "See the caveats in the documentation: https://pandas.pydata.org/pandas-docs/stable/user_guide/indexing.html#returning-a-view-versus-a-copy\n",
      "  in_serbia['geometry'] = [shapely.wkt.loads(x) for x in in_serbia['geometry']]\n"
     ]
    }
   ],
   "source": [
    "# update all regional references to Serbia \n",
    "# convert to a shape \n",
    "\n",
    "# convert geometries to shapes \n",
    "in_serbia['geometry'] = [shapely.wkt.loads(x) for x in in_serbia['geometry']]\n",
    "in_serbia = gpd.GeoDataFrame(in_serbia).reset_index(drop=True)\n",
    "\n",
    "# check to see if they are contained with Serbia \n",
    "s = countries.loc[countries['name'] == 'Serbia']['geometry'].reset_index()\n",
    "k = countries.loc[countries['name'] == 'Kosovo']['geometry'].reset_index()\n",
    "for i in range(0, len(in_serbia)): \n",
    "    if s.overlaps(in_serbia['geometry'][i])[0] != True: \n",
    "        print(\"a reference for kosovo may be found\")\n",
    "        if k.overlaps(in_serbia['geometry'][i][0] == True): \n",
    "            print(\"kosovo area found\")\n",
    "            \n",
    "# no references were found for kosovo, no updating needs to occur"
   ]
  },
  {
   "cell_type": "markdown",
   "metadata": {},
   "source": [
    "__cities__"
   ]
  },
  {
   "cell_type": "code",
   "execution_count": 10,
   "metadata": {},
   "outputs": [
    {
     "name": "stdout",
     "output_type": "stream",
     "text": [
      "there are 225 references to Serbia\n"
     ]
    }
   ],
   "source": [
    "# add in regions to the spreadsheet \n",
    "cities = pd.read_csv(\"../../data_final/cities.csv\")\n",
    "\n",
    "# check to see if there is any reference of Serbia \n",
    "in_serbia_c = cities[cities['country'] == 'Serbia']\n",
    "if len(in_serbia_c) > 0: \n",
    "    print(\"there are \" + str(len(in_serbia_c)) + \" references to Serbia\")"
   ]
  },
  {
   "cell_type": "code",
   "execution_count": 11,
   "metadata": {},
   "outputs": [
    {
     "name": "stdout",
     "output_type": "stream",
     "text": [
      "there are 176 points remaining in Serbia\n",
      "there are 49 points to transfer to Kosovo\n"
     ]
    }
   ],
   "source": [
    "# update all regional references to Serbia \n",
    "# convert to a shape \n",
    "\n",
    "# convert geometries to shapes \n",
    "in_serbia_c = gpd.GeoDataFrame(in_serbia_c, geometry=gpd.points_from_xy(in_serbia_c['longitude'], in_serbia_c['latitude']))\n",
    "\n",
    "in_serbia_c['contained_k'] = [k.contains(x)[0] for x in in_serbia_c['geometry']]\n",
    "in_serbia_c['contained_s'] = [s.contains(x)[0] for x in in_serbia_c['geometry']]\n",
    "\n",
    "print(\"there are \" + str(in_serbia_c['contained_s'].sum()) + \" points remaining in Serbia\")\n",
    "print(\"there are \" + str(in_serbia_c['contained_k'].sum()) + \" points to transfer to Kosovo\")"
   ]
  },
  {
   "cell_type": "code",
   "execution_count": 12,
   "metadata": {},
   "outputs": [],
   "source": [
    "new_id = list(range(1, len(in_serbia_c[in_serbia_c['contained_k'] == True]) + 1))\n",
    "indexes = in_serbia_c[in_serbia_c['contained_k'] == True].index\n",
    "for i in range(0, len(new_id) - 1): \n",
    "    cities.at[indexes[i], 'id'] = new_id[i]\n",
    "    cities.at[indexes[i], 'country'] = \"Kosovo\"\n",
    "    cities.at[indexes[i], 'country_id'] = 250\n",
    "    in_serbia_c.at[indexes[i], 'replace_id'] = new_id[i]"
   ]
  },
  {
   "cell_type": "code",
   "execution_count": 13,
   "metadata": {},
   "outputs": [],
   "source": [
    "in_serbia_c['id'] = [str(x) for x in in_serbia_c['id']]"
   ]
  },
  {
   "cell_type": "markdown",
   "metadata": {},
   "source": [
    "__financial expenditures__ \n",
    "\n",
    "Note: at the time of this update, the financial expenditures data is the only preprocessed geocoded set. All other geocoding using this scheme will occur in its associated preprocessing file"
   ]
  },
  {
   "cell_type": "code",
   "execution_count": 14,
   "metadata": {},
   "outputs": [
    {
     "name": "stdout",
     "output_type": "stream",
     "text": [
      "there are 74 references to Serbia\n"
     ]
    }
   ],
   "source": [
    "# add in regions to the spreadsheet \n",
    "data = pd.read_csv(\"../../data_final/AidData_v2.0.csv\" )\n",
    "\n",
    "# remove decimal references in data \n",
    "data['country_id'] = [str(x).split(\".\")[0] if '.' in str(x) else x for x in data['country_id']]\n",
    "data['gl3_id'] = [str(x).split(\".\")[0] if '.' in str(x) else x for x in data['gl3_id']]\n",
    "\n",
    "# check to see if there is any reference of Serbia \n",
    "data_s = data[data['Recipient'] == 'Serbia']\n",
    "\n",
    "if len(data_s) > 0: \n",
    "    print(\"there are \" + str(len(data_s)) + \" references to Serbia\")"
   ]
  },
  {
   "cell_type": "code",
   "execution_count": 15,
   "metadata": {},
   "outputs": [
    {
     "name": "stdout",
     "output_type": "stream",
     "text": [
      "It appears as though there is no instancs of BRI expenditure logged in Kosovo.\n"
     ]
    }
   ],
   "source": [
    "in_serbia_expenditures = in_serbia_c.merge(data_s, right_on='gl3_id', left_on='id', how='right')\n",
    "print(\"It appears as though there is no instancs of BRI expenditure logged in Kosovo.\")"
   ]
  },
  {
   "cell_type": "markdown",
   "metadata": {},
   "source": [
    " __visual confirmation of overlap__"
   ]
  },
  {
   "cell_type": "code",
   "execution_count": 16,
   "metadata": {},
   "outputs": [
    {
     "data": {
      "text/plain": [
       "<matplotlib.axes._subplots.AxesSubplot at 0x7fe20044a640>"
      ]
     },
     "execution_count": 16,
     "metadata": {},
     "output_type": "execute_result"
    },
    {
     "data": {
      "image/png": "[encoded data removed]",
      "text/plain": [
       "<Figure size 432x288 with 1 Axes>"
      ]
     },
     "metadata": {
      "needs_background": "light"
     },
     "output_type": "display_data"
    }
   ],
   "source": [
    "# This is visual confirmation\n",
    "\n",
    "fig, ax = plt.subplots()\n",
    "\n",
    "countries.loc[(countries['name'] == 'Serbia') | (countries['name'] == 'Kosovo')].plot(cmap='OrRd', ax=ax)\n",
    "in_serbia.plot(ax=ax)\n",
    "in_serbia_c.plot(ax=ax)\n",
    "in_serbia_expenditures.plot(ax=ax)"
   ]
  },
  {
   "cell_type": "markdown",
   "metadata": {},
   "source": [
    "## Export updated DataFrames "
   ]
  },
  {
   "cell_type": "code",
   "execution_count": 17,
   "metadata": {},
   "outputs": [],
   "source": [
    "# WARNING, YOU ARE ABOUT TO EDIT A BASE DATASET. \n",
    "# BE AWARE OF THE CONSEQUENCES, THIS SHOULD BE DONE INFREQUENTLY AND REQUIRES SUPPORT IN THE OTHER GEODATAFRAME\n",
    "countries.to_csv(\"../../data_final/countries.csv\", index=False)\n",
    "\n",
    "# WARNING, YOU ARE ABOUT TO EDIT A BASE DATASET. \n",
    "# BE AWARE OF THE CONSEQUENCES, THIS SHOULD BE DONE INFREQUENTLY AND REQUIRES SUPPORT IN THE OTHER GEODATAFRAME\n",
    "cities.to_csv(\"../../data_final/cities.csv\", index=False)"
   ]
  }
 ],
 "metadata": {
  "kernelspec": {
   "display_name": "Python 3",
   "language": "python",
   "name": "python3"
  },
  "language_info": {
   "codemirror_mode": {
    "name": "ipython",
    "version": 3
   },
   "file_extension": ".py",
   "mimetype": "text/x-python",
   "name": "python",
   "nbconvert_exporter": "python",
   "pygments_lexer": "ipython3",
   "version": "3.8.3"
  }
 },
 "nbformat": 4,
 "nbformat_minor": 4
}
