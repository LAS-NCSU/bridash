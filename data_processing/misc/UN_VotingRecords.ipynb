{
 "cells": [
  {
   "cell_type": "markdown",
   "metadata": {},
   "source": [
    "## Scraping UN Voting Records\n",
    "\n",
    "In order to analyze the voting patterns of members and if they match Chinese votes, we are scrapping data from UN libraries. \n",
    "\n",
    "Note: This line of work was abandoned as data was found ready for export. "
   ]
  },
  {
   "cell_type": "code",
   "execution_count": null,
   "metadata": {},
   "outputs": [],
   "source": [
    "import pandas as pd \n",
    "\n",
    "# Used to grab URLs and direct people to certain websites. \n",
    "import urllib.request\n",
    "import urllib\n",
    "\n",
    "# Beautiful Soup used for scrapping from the front end of website. Think scrapping paragraphs to build features. \n",
    "import bs4\n",
    "\n",
    "# Selenium used for webcrawling and jumping to new pages, site navigation. You can also use for scrapping. \n",
    "from selenium import webdriver\n",
    "from selenium.webdriver.chrome.options import Options\n",
    "from selenium.webdriver.chrome.service import Service\n",
    "from selenium.webdriver.common.action_chains import ActionChains\n",
    "from webdriver_manager.chrome import ChromeDriverManager\n",
    "\n",
    "# Scrapy used for scrapping \n",
    "# popular resource, but not used here. \n",
    "# import scrapy \n",
    "\n",
    "# utilized to conduct parsing of strings. \n",
    "import re\n",
    "\n",
    "import time"
   ]
  },
  {
   "cell_type": "code",
   "execution_count": null,
   "metadata": {},
   "outputs": [],
   "source": [
    "options = webdriver.ChromeOptions()\n",
    "\n",
    "options.add_argument('--no-sandbox')\n",
    "options.add_argument('--disable-dev-shm-usage')"
   ]
  },
  {
   "cell_type": "code",
   "execution_count": null,
   "metadata": {},
   "outputs": [],
   "source": [
    "driver = webdriver.Chrome(service=Service(executable_path=ChromeDriverManager().install()), options=options)\n",
    "action = ActionChains(driver)\n",
    "# navigate to site \n",
    "driver.get('https://digitallibrary.un.org/search?ln=en&cc=Voting+Data&p=&f=&rm=&ln=en&sf=&so=d&rg=50&c=Voting+Data&c=&of=hb&fti=0&fti=0')"
   ]
  },
  {
   "cell_type": "code",
   "execution_count": null,
   "metadata": {},
   "outputs": [],
   "source": [
    "# create dataframe of records to store information\n",
    "df = pd.DataFrame(columns=['link', 'year'])"
   ]
  },
  {
   "cell_type": "code",
   "execution_count": null,
   "metadata": {},
   "outputs": [],
   "source": [
    "def process_page(year): \n",
    "    \n",
    "    # create temp listing of links to process for this page\n",
    "    links = driver.find_elements(\"class name\", value=\"result-title\")\n",
    "\n",
    "    df_temp = pd.DataFrame({'link' :[x.find_element('xpath', \".//a\").get_attribute('href') for x in links], 'year': year})\n",
    "\n",
    "    df_new = df.append(df_temp, ignore_index=True)\n",
    "    \n",
    "    return df_new"
   ]
  },
  {
   "cell_type": "code",
   "execution_count": null,
   "metadata": {},
   "outputs": [],
   "source": [
    "# process each page, and move to the next \n",
    "# sort by year first to allow for all decision navigation\n",
    "\n",
    "for year in range(2020, 2022 + 1): \n",
    "    # query for that year (to ensure below 500 query limit)\n",
    "    ele_year = driver.find_element(\"xpath\", value=\"//input[@aria-label='\" + str(year) + \"'][contains(@id, 'desktopcheckbox1-fct')]\")\n",
    "    action.click(on_element=ele_year).perform()\n",
    "    \n",
    "    time.sleep(1)\n",
    "    \n",
    "    # process all yearly data \n",
    "    # start with links on first page, then move on to other records if they can be found\n",
    "    df = process_page(year)\n",
    "    \n",
    "    time.sleep(1)\n",
    "        \n",
    "    # check for next page links\n",
    "    cont = True\n",
    "    while cont: \n",
    "        try: \n",
    "            next_page = driver.find_element('xpath', value=\"//a//img[@aria-label='Next page']\")\n",
    "            action.click(on_element=next_page).perform()\n",
    "\n",
    "            time.sleep(1)\n",
    "\n",
    "            df = process_page(year)       \n",
    "        except: \n",
    "            cont = False\n",
    "            print(\"all pages viewed for \" + str(year))\n",
    "        \n",
    "    # uncheck this year's query \n",
    "    \n",
    "    time.sleep(1)\n",
    "    \n",
    "    ele_year = driver.find_element(\"xpath\", value=\"//input[@aria-label='\" + str(year) + \"'][contains(@id, 'desktopcheckbox1-fct')]\")\n",
    "    action.click(on_element=ele_year).perform()"
   ]
  }
 ],
 "metadata": {
  "kernelspec": {
   "display_name": "Python 3",
   "language": "python",
   "name": "python3"
  },
  "language_info": {
   "codemirror_mode": {
    "name": "ipython",
    "version": 3
   },
   "file_extension": ".py",
   "mimetype": "text/x-python",
   "name": "python",
   "nbconvert_exporter": "python",
   "pygments_lexer": "ipython3",
   "version": "3.8.3"
  }
 },
 "nbformat": 4,
 "nbformat_minor": 4
}
