{
 "cells": [
  {
   "cell_type": "markdown",
   "metadata": {},
   "source": [
    "# Confucius Institute Locations Globally \n",
    "\n",
    "Confucius institutes are educational centers globally that represent one of China's main sources of soft power. We aim to gather information about where these centers are and if they are currently in operation. "
   ]
  },
  {
   "cell_type": "code",
   "execution_count": 1,
   "metadata": {},
   "outputs": [],
   "source": [
    "import pandas as pd\n",
    "import numpy as np\n",
    "import geopandas as gpd\n",
    "import seaborn as sns\n",
    "\n",
    "import os\n",
    "import json\n",
    "import re\n",
    "\n",
    "temp_directory = os.path.join(os.path.join(os.path.expanduser('~')), 'Desktop')"
   ]
  },
  {
   "cell_type": "code",
   "execution_count": 2,
   "metadata": {},
   "outputs": [],
   "source": [
    "def processing_results(results, full_df): \n",
    "    # any result that has been geocoded, restrict from wk \n",
    "    full_df = full_df.merge(results, on='id', how =\"left\")\n",
    "    next_df = full_df[pd.isna(full_df['cities_temp_id'])]\n",
    "\n",
    "    assert len(full_df) == (len(next_df) + len(full_df[pd.notna(full_df['cities_temp_id'])]))\n",
    "    print(\"There are still \" + str(len(next_df)) + \" more entities to geocode\")\n",
    "    \n",
    "    return full_df, next_df[['id', 'country', 'City', 'location_name']]"
   ]
  },
  {
   "cell_type": "code",
   "execution_count": 3,
   "metadata": {},
   "outputs": [],
   "source": [
    "def load_dict(path): \n",
    "    file = open(path, \"r\")\n",
    "    contents = file.read()\n",
    "    dictionary = json.loads(contents)\n",
    "    file.close()\n",
    "    return dictionary"
   ]
  },
  {
   "cell_type": "markdown",
   "metadata": {},
   "source": [
    "### Grab Data"
   ]
  },
  {
   "cell_type": "code",
   "execution_count": 4,
   "metadata": {},
   "outputs": [],
   "source": [
    "df = pd.read_csv(\"ci.csv\")"
   ]
  },
  {
   "cell_type": "code",
   "execution_count": 5,
   "metadata": {},
   "outputs": [],
   "source": [
    "# map the names to a common value for searching for the geometry \n",
    "# grabs it from txt file for consistency of country naming conventions\n",
    "\n",
    "recipient_mapping = load_dict(\"../country_config.txt\")\n",
    "df['country'] = df['country'].replace(recipient_mapping)"
   ]
  },
  {
   "cell_type": "code",
   "execution_count": 6,
   "metadata": {},
   "outputs": [],
   "source": [
    "# finding the original dataframe of CI locations to pull cities and links from \n",
    "\n",
    "org = pd.read_csv(\"confucius_institutes_original.csv\")\n",
    "df = df.merge(org, left_on='confucius_institute', right_on = 'Confucius Institute', how='left')"
   ]
  },
  {
   "cell_type": "code",
   "execution_count": 7,
   "metadata": {},
   "outputs": [],
   "source": [
    "# remove unnesscary columns \n",
    "\n",
    "df = df[['id', 'country', 'confucius_institute', 'partner_uni', 'status', 'location_alt',\n",
    "       'City', 'Link', 'Other Links', 'date est.\\n(mm/dd/yyyy)']]\n",
    "\n",
    "d = {\n",
    "    'Open': 'Open',\n",
    "    'open':'Open', \n",
    "    'Closed':'Closed'\n",
    "}\n",
    "\n",
    "df['status'] = df.status.map(d)"
   ]
  },
  {
   "cell_type": "code",
   "execution_count": 8,
   "metadata": {},
   "outputs": [],
   "source": [
    "# running the geocoder with the parsed location name\n",
    "temp_list = [re.findall(r\"(.*) (in|at) (the)?(.*)\", x) for x in df['confucius_institute']]\n",
    "df['location_name'] = [x[0][3].strip()  if len(x) > 0 else 'None' for x in temp_list]\n",
    "df['location_name'] = [re.sub(r\"(Confucius Institute)\", \"\", x) if ((y == 'None') & (len(re.findall(r\"(Confucius Institute)\", x)) > 0)) else y for x, y in zip(df['confucius_institute'], df['location_name'])]\n",
    "df['location_name'] = [x if (x != 'None') else y for x, y in zip(df['location_name'], df['confucius_institute'])]\n",
    "df['location_name'] = [re.sub.replace(r\"((Confucius Institute) (for|of)?) \", \"\", x).strip() if ((len(re.findall(r\"(Confucius Institute)\", x)) > 0)) else x.strip() for x in df['location_name']]\n",
    "df['location_name'] = [x.split(\", \")[0] for x in df['location_name']]\n",
    "df['location_name'] = [x if pd.notna(x) else y for x, y in zip(df['location_alt'], df['location_name'])]\n",
    "\n",
    "listing = ['Linguistic', 'Federal', 'Oriental', 'Sapienza', 'Ca\\' Foscari', 'Autonomous ', ' of Education', 'Pedagogical', \"Free \"]\n",
    "for i in range(0, len(listing)): \n",
    "    df['location_name'] = [re.sub(listing[i], \"\", x).strip() for x in df['location_name']]\n",
    "    \n",
    "loc_data = temp_directory + \"/ci_temp.csv\"\n",
    "df_t = df.loc[df['location_name'] != 'None'][['id', 'country', 'location_name']]\n",
    "df_t.to_csv(loc_data, index=False)"
   ]
  },
  {
   "cell_type": "markdown",
   "metadata": {},
   "source": [
    "### Attempt to Geocode with Confucious Institute Names "
   ]
  },
  {
   "cell_type": "code",
   "execution_count": 9,
   "metadata": {},
   "outputs": [
    {
     "name": "stdout",
     "output_type": "stream",
     "text": [
      "/Users/natalie_kraft/Documents/LAS/LAS-BRI/data_processing\n",
      "Preparing system configuration.\n",
      "Loading file to geocode\n",
      "You are geocoding cities. Begin geocoding.\n",
      "Loading geocoded location entities.\n",
      "Loading geocoded location entities.\n"
     ]
    },
    {
     "name": "stderr",
     "output_type": "stream",
     "text": [
      "/Users/natalie_kraft/anaconda3/lib/python3.8/site-packages/requests/__init__.py:89: RequestsDependencyWarning: urllib3 (1.26.9) or chardet (3.0.4) doesn't match a supported version!\n",
      "  warnings.warn(\"urllib3 ({}) or chardet ({}) doesn't match a supported \"\n"
     ]
    },
    {
     "name": "stdout",
     "output_type": "stream",
     "text": [
      "Not found: Bobo-Dioulasso Polytechnic University\n",
      "Not found: University of Finance and Administration\n",
      "Not found: National University of Equatorial Guinea\n",
      "Not found: National Board for Higher Education\n",
      "a service error has occured when retrieving this file from OSM.\n",
      "Not found: Tbilisi Open Teaching University\n",
      "Not found: Gamal Abdel Nasser University of Conakry\n",
      "Not found: Lovely Professional University\n",
      "Not found: O.P. Global University\n",
      "Not found: University of Al Azhar Indonesia\n",
      "Not found: Catholic University of the Sacred Heart\n",
      "Not found: University of Enna Kore\n",
      "Not found: University of Felix Houphouette Boigny\n",
      "Not found: Karaganda State Technical University\n",
      "Not found: L. N. Gumilyov Eurasian National University\n",
      "Not found: University College of Technology Sarawak\n",
      "Not found: University of Letters and Human Science of Bamako\n",
      "Not found: ZUYD University of Applied Sciences\n",
      "Not found: Catholic University of Peru\n",
      "Not found: Catholic University of Santa Maria\n",
      "Not found: Transilvania University of Brasov\n",
      "Not found: Amur State University of Humanities and Pedagogy\n",
      "Not found: Krasnoyark State Pdeagogical University of V.P. Astafyev\n",
      "Not found: Novosibirsk State University of Technology\n",
      "Not found: Ryazan State University\n",
      "Not found: The Kalmyk State University\n",
      "Not found: University of the Republic of San Marino\n",
      "Not found: Matej Bel University\n",
      "Not found: Cheju Halla College\n",
      "Not found: Borlange-Wuhan Friendship City\n",
      "Not found: Huachiew Chalermprakiet\n",
      "Not found: of Betong Municipality\n",
      "Not found: South Ukranian National  University\n",
      "Not found: Vinnytsia National Technical University\n",
      "Not found: for Scotland's Schools\n",
      "Not found: for Traditional Chinese Medicine\n",
      "Not found: East Central Ohio Educational Service Center\n",
      "Not found: Medga Evers College The City University of New York\n",
      "Not found: San Diego Global Educational Institute\n",
      "Not found: SUNY Global Center\n",
      "Not found: San Diego Global Educational Institute\n",
      "Exporting new cities to database\n",
      "Exporting modified data to geocoded location entities.\n",
      "Exporting mapping results.\n",
      "Geocoding complete.\n"
     ]
    }
   ],
   "source": [
    "%cd ..\n",
    "%run autogeocode.py /Users/natalie_kraft/Desktop/ci_temp.csv gl3 'location_name' 'country' 'id' force"
   ]
  },
  {
   "cell_type": "code",
   "execution_count": 10,
   "metadata": {},
   "outputs": [
    {
     "name": "stdout",
     "output_type": "stream",
     "text": [
      "There are still 40 more entities to geocode\n"
     ]
    }
   ],
   "source": [
    "# checking geocoding accuracy \n",
    "results = pd.read_csv(temp_directory + \"/ci_temp_results.csv\", dtype={'cities_temp_id': str, 'country_id': str})\n",
    "df, next_df = processing_results(results, df)"
   ]
  },
  {
   "cell_type": "code",
   "execution_count": 11,
   "metadata": {},
   "outputs": [],
   "source": [
    "# now just run the CI with the city label \n",
    "\n",
    "next_df.to_csv(loc_data, index=False)"
   ]
  },
  {
   "cell_type": "code",
   "execution_count": 12,
   "metadata": {},
   "outputs": [
    {
     "name": "stdout",
     "output_type": "stream",
     "text": [
      "Preparing system configuration.\n",
      "Loading file to geocode\n",
      "You are geocoding cities. Begin geocoding.\n",
      "Loading geocoded location entities.\n",
      "Loading geocoded location entities.\n",
      "Exporting new cities to database\n",
      "Exporting modified data to geocoded location entities.\n",
      "Exporting mapping results.\n",
      "Geocoding complete.\n"
     ]
    }
   ],
   "source": [
    "%run autogeocode.py /Users/natalie_kraft/Desktop/ci_temp.csv gl3 'City' 'country' 'id' none"
   ]
  },
  {
   "cell_type": "code",
   "execution_count": 13,
   "metadata": {},
   "outputs": [],
   "source": [
    "# checking geocoding accuracy \n",
    "results = pd.read_csv(temp_directory + \"/ci_temp_results.csv\", dtype={'cities_temp_id': str, 'country_id': str})\n",
    "\n",
    "df = df.merge(results, on='id', how =\"left\")\n",
    "df['gl3_id'] = [x if pd.notna(x) else y for x, y in zip(df['cities_temp_id_x'], df['cities_temp_id_y'])]\n",
    "df['country_id'] = [x if pd.notna(x) else y for x, y in zip(df['country_id_x'], df['country_id_y'])]\n",
    "\n",
    "assert len(df[pd.notna(df['gl3_id'])]) == len(df)"
   ]
  },
  {
   "cell_type": "code",
   "execution_count": 14,
   "metadata": {},
   "outputs": [],
   "source": [
    "# remove unneeded columns\n",
    "df = df[['id', 'confucius_institute', 'partner_uni', 'date est.\\n(mm/dd/yyyy)', 'location_name', \n",
    "         'City', 'country', 'status', 'Link', 'Other Links', 'gl3_id', 'country_id']]\n",
    "df.rename(columns={'date est.\\n(mm/dd/yyyy)':'date_est', 'City':'nearest_city', 'Link':'ci_webpage', 'Other Links': 'sources'}, inplace=True)"
   ]
  },
  {
   "cell_type": "markdown",
   "metadata": {},
   "source": [
    "### Data set processed. Confirm Clean & Export to Data Final "
   ]
  },
  {
   "cell_type": "code",
   "execution_count": 16,
   "metadata": {},
   "outputs": [
    {
     "data": {
      "text/html": [
       "<div>\n",
       "<style scoped>\n",
       "    .dataframe tbody tr th:only-of-type {\n",
       "        vertical-align: middle;\n",
       "    }\n",
       "\n",
       "    .dataframe tbody tr th {\n",
       "        vertical-align: top;\n",
       "    }\n",
       "\n",
       "    .dataframe thead th {\n",
       "        text-align: right;\n",
       "    }\n",
       "</style>\n",
       "<table border=\"1\" class=\"dataframe\">\n",
       "  <thead>\n",
       "    <tr style=\"text-align: right;\">\n",
       "      <th></th>\n",
       "      <th>id</th>\n",
       "      <th>confucius_institute</th>\n",
       "      <th>partner_uni</th>\n",
       "      <th>date_est</th>\n",
       "      <th>location_name</th>\n",
       "      <th>nearest_city</th>\n",
       "      <th>country</th>\n",
       "      <th>status</th>\n",
       "      <th>ci_webpage</th>\n",
       "      <th>sources</th>\n",
       "      <th>gl3_id</th>\n",
       "      <th>country_id</th>\n",
       "    </tr>\n",
       "  </thead>\n",
       "  <tbody>\n",
       "    <tr>\n",
       "      <th>0</th>\n",
       "      <td>1</td>\n",
       "      <td>Confucius Institute (Chinese Department) at Ka...</td>\n",
       "      <td>NaN</td>\n",
       "      <td>NaN</td>\n",
       "      <td>Kabul University</td>\n",
       "      <td>Kabul</td>\n",
       "      <td>Afghanistan</td>\n",
       "      <td>Closed</td>\n",
       "      <td>http://www.ku.edu.af/</td>\n",
       "      <td>https://english.tyut.edu.cn/info/1008/1778.htm</td>\n",
       "      <td>67</td>\n",
       "      <td>192</td>\n",
       "    </tr>\n",
       "    <tr>\n",
       "      <th>1</th>\n",
       "      <td>2</td>\n",
       "      <td>Confucius Institute at University of Tirana</td>\n",
       "      <td>NaN</td>\n",
       "      <td>NaN</td>\n",
       "      <td>University of Tirana</td>\n",
       "      <td>Tirana</td>\n",
       "      <td>Albania</td>\n",
       "      <td>Closed</td>\n",
       "      <td>http://www.ciut.edu.al/</td>\n",
       "      <td>NaN</td>\n",
       "      <td>61</td>\n",
       "      <td>164</td>\n",
       "    </tr>\n",
       "    <tr>\n",
       "      <th>2</th>\n",
       "      <td>3</td>\n",
       "      <td>Confucius Institute at Agostinho Neto University</td>\n",
       "      <td>NaN</td>\n",
       "      <td>2/6/15</td>\n",
       "      <td>Agostinho Neto University</td>\n",
       "      <td>Sapu</td>\n",
       "      <td>Angola</td>\n",
       "      <td>Closed</td>\n",
       "      <td>http://english.hanban.org/node_42885.htm</td>\n",
       "      <td>https://books.google.com/books?id=JmgREAAAQBAJ...</td>\n",
       "      <td>177</td>\n",
       "      <td>096</td>\n",
       "    </tr>\n",
       "    <tr>\n",
       "      <th>3</th>\n",
       "      <td>4</td>\n",
       "      <td>Confucius Institute at Antigua and Barbuda</td>\n",
       "      <td>NaN</td>\n",
       "      <td>11/15/19</td>\n",
       "      <td>Antigua and Barbuda</td>\n",
       "      <td>Piggotts</td>\n",
       "      <td>Antigua and Barbuda</td>\n",
       "      <td>Closed</td>\n",
       "      <td>http://zhuanti.hanban.org/videolist/?cat=685&amp;t...</td>\n",
       "      <td>https://foundationhalo.org/confucius-institute...</td>\n",
       "      <td>25</td>\n",
       "      <td>029</td>\n",
       "    </tr>\n",
       "    <tr>\n",
       "      <th>4</th>\n",
       "      <td>5</td>\n",
       "      <td>Confucius Institute at National University of ...</td>\n",
       "      <td>NaN</td>\n",
       "      <td>10/13/20</td>\n",
       "      <td>National University of Cordoba</td>\n",
       "      <td>Cordoba</td>\n",
       "      <td>Argentina</td>\n",
       "      <td>Closed</td>\n",
       "      <td>http://zhuanti.hanban.org/videolist/?cat=682&amp;t...</td>\n",
       "      <td>https://www.unc.edu.ar/english/confucius-insti...</td>\n",
       "      <td>351</td>\n",
       "      <td>015</td>\n",
       "    </tr>\n",
       "    <tr>\n",
       "      <th>...</th>\n",
       "      <td>...</td>\n",
       "      <td>...</td>\n",
       "      <td>...</td>\n",
       "      <td>...</td>\n",
       "      <td>...</td>\n",
       "      <td>...</td>\n",
       "      <td>...</td>\n",
       "      <td>...</td>\n",
       "      <td>...</td>\n",
       "      <td>...</td>\n",
       "      <td>...</td>\n",
       "      <td>...</td>\n",
       "    </tr>\n",
       "    <tr>\n",
       "      <th>660</th>\n",
       "      <td>661</td>\n",
       "      <td>Confucius Institute at Universidad Bolivariana...</td>\n",
       "      <td>NaN</td>\n",
       "      <td>NaN</td>\n",
       "      <td>Universidad Bolivariana de Venezuela</td>\n",
       "      <td>NaN</td>\n",
       "      <td>Venezuela</td>\n",
       "      <td>Closed</td>\n",
       "      <td>http://english.hanban.org/node_45771.htm</td>\n",
       "      <td>NaN</td>\n",
       "      <td>125</td>\n",
       "      <td>069</td>\n",
       "    </tr>\n",
       "    <tr>\n",
       "      <th>661</th>\n",
       "      <td>662</td>\n",
       "      <td>Confucius Institute at the Bolivarian Universi...</td>\n",
       "      <td>NaN</td>\n",
       "      <td>12/16/16</td>\n",
       "      <td>Caracas</td>\n",
       "      <td>NaN</td>\n",
       "      <td>Venezuela</td>\n",
       "      <td>Closed</td>\n",
       "      <td>NaN</td>\n",
       "      <td>https://www.facebook.com/page/338109312883186/...</td>\n",
       "      <td>14</td>\n",
       "      <td>069</td>\n",
       "    </tr>\n",
       "    <tr>\n",
       "      <th>662</th>\n",
       "      <td>663</td>\n",
       "      <td>Confucius Institute at Hanoi University</td>\n",
       "      <td>NaN</td>\n",
       "      <td>NaN</td>\n",
       "      <td>Hanoi University</td>\n",
       "      <td>NaN</td>\n",
       "      <td>Vietnam</td>\n",
       "      <td>Closed</td>\n",
       "      <td>http://hanu.vn/</td>\n",
       "      <td>NaN</td>\n",
       "      <td>149</td>\n",
       "      <td>232</td>\n",
       "    </tr>\n",
       "    <tr>\n",
       "      <th>663</th>\n",
       "      <td>664</td>\n",
       "      <td>Confucius Institute at University of Zambia</td>\n",
       "      <td>NaN</td>\n",
       "      <td>NaN</td>\n",
       "      <td>University of Zambia</td>\n",
       "      <td>NaN</td>\n",
       "      <td>Zambia</td>\n",
       "      <td>Closed</td>\n",
       "      <td>https://www.unza.zm/confucius/</td>\n",
       "      <td>NaN</td>\n",
       "      <td>79</td>\n",
       "      <td>114</td>\n",
       "    </tr>\n",
       "    <tr>\n",
       "      <th>664</th>\n",
       "      <td>665</td>\n",
       "      <td>Confucius Institute at the University of Zimbabwe</td>\n",
       "      <td>NaN</td>\n",
       "      <td>NaN</td>\n",
       "      <td>University of Zimbabwe</td>\n",
       "      <td>NaN</td>\n",
       "      <td>Zimbabwe</td>\n",
       "      <td>Closed</td>\n",
       "      <td>https://www.uz.ac.zw/</td>\n",
       "      <td>NaN</td>\n",
       "      <td>82</td>\n",
       "      <td>115</td>\n",
       "    </tr>\n",
       "  </tbody>\n",
       "</table>\n",
       "<p>665 rows × 12 columns</p>\n",
       "</div>"
      ],
      "text/plain": [
       "      id                                confucius_institute partner_uni  \\\n",
       "0      1  Confucius Institute (Chinese Department) at Ka...         NaN   \n",
       "1      2        Confucius Institute at University of Tirana         NaN   \n",
       "2      3   Confucius Institute at Agostinho Neto University         NaN   \n",
       "3      4         Confucius Institute at Antigua and Barbuda         NaN   \n",
       "4      5  Confucius Institute at National University of ...         NaN   \n",
       "..   ...                                                ...         ...   \n",
       "660  661  Confucius Institute at Universidad Bolivariana...         NaN   \n",
       "661  662  Confucius Institute at the Bolivarian Universi...         NaN   \n",
       "662  663            Confucius Institute at Hanoi University         NaN   \n",
       "663  664        Confucius Institute at University of Zambia         NaN   \n",
       "664  665  Confucius Institute at the University of Zimbabwe         NaN   \n",
       "\n",
       "     date_est                         location_name nearest_city  \\\n",
       "0         NaN                      Kabul University        Kabul   \n",
       "1         NaN                  University of Tirana       Tirana   \n",
       "2      2/6/15             Agostinho Neto University         Sapu   \n",
       "3    11/15/19                   Antigua and Barbuda     Piggotts   \n",
       "4    10/13/20        National University of Cordoba      Cordoba   \n",
       "..        ...                                   ...          ...   \n",
       "660       NaN  Universidad Bolivariana de Venezuela          NaN   \n",
       "661  12/16/16                               Caracas          NaN   \n",
       "662       NaN                      Hanoi University          NaN   \n",
       "663       NaN                  University of Zambia          NaN   \n",
       "664       NaN                University of Zimbabwe          NaN   \n",
       "\n",
       "                 country  status  \\\n",
       "0            Afghanistan  Closed   \n",
       "1                Albania  Closed   \n",
       "2                 Angola  Closed   \n",
       "3    Antigua and Barbuda  Closed   \n",
       "4              Argentina  Closed   \n",
       "..                   ...     ...   \n",
       "660            Venezuela  Closed   \n",
       "661            Venezuela  Closed   \n",
       "662              Vietnam  Closed   \n",
       "663               Zambia  Closed   \n",
       "664             Zimbabwe  Closed   \n",
       "\n",
       "                                            ci_webpage  \\\n",
       "0                                http://www.ku.edu.af/   \n",
       "1                              http://www.ciut.edu.al/   \n",
       "2             http://english.hanban.org/node_42885.htm   \n",
       "3    http://zhuanti.hanban.org/videolist/?cat=685&t...   \n",
       "4    http://zhuanti.hanban.org/videolist/?cat=682&t...   \n",
       "..                                                 ...   \n",
       "660           http://english.hanban.org/node_45771.htm   \n",
       "661                                                NaN   \n",
       "662                                    http://hanu.vn/   \n",
       "663                     https://www.unza.zm/confucius/   \n",
       "664                              https://www.uz.ac.zw/   \n",
       "\n",
       "                                               sources gl3_id country_id  \n",
       "0       https://english.tyut.edu.cn/info/1008/1778.htm     67        192  \n",
       "1                                                  NaN     61        164  \n",
       "2    https://books.google.com/books?id=JmgREAAAQBAJ...    177        096  \n",
       "3    https://foundationhalo.org/confucius-institute...     25        029  \n",
       "4    https://www.unc.edu.ar/english/confucius-insti...    351        015  \n",
       "..                                                 ...    ...        ...  \n",
       "660                                                NaN    125        069  \n",
       "661  https://www.facebook.com/page/338109312883186/...     14        069  \n",
       "662                                                NaN    149        232  \n",
       "663                                                NaN     79        114  \n",
       "664                                                NaN     82        115  \n",
       "\n",
       "[665 rows x 12 columns]"
      ]
     },
     "execution_count": 16,
     "metadata": {},
     "output_type": "execute_result"
    }
   ],
   "source": [
    "df"
   ]
  },
  {
   "cell_type": "code",
   "execution_count": 17,
   "metadata": {},
   "outputs": [],
   "source": [
    "df.to_csv(\"../data_final/confucius_institutes.csv\", index=False)"
   ]
  }
 ],
 "metadata": {
  "kernelspec": {
   "display_name": "Python 3",
   "language": "python",
   "name": "python3"
  },
  "language_info": {
   "codemirror_mode": {
    "name": "ipython",
    "version": 3
   },
   "file_extension": ".py",
   "mimetype": "text/x-python",
   "name": "python",
   "nbconvert_exporter": "python",
   "pygments_lexer": "ipython3",
   "version": "3.8.3"
  }
 },
 "nbformat": 4,
 "nbformat_minor": 4
}
